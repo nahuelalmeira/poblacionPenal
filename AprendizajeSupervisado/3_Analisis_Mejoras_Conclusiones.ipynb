{
 "cells": [
  {
   "cell_type": "markdown",
   "metadata": {},
   "source": [
    "### Análisis de Resultados"
   ]
  },
  {
   "cell_type": "markdown",
   "metadata": {},
   "source": [
    "Finalizado el punto anterior, seleccionar uno de los modelos y realizar el siguiente análisis (se esperan respuestas cortas y concisas)"
   ]
  },
  {
   "cell_type": "markdown",
   "metadata": {},
   "source": [
    "MODELO ELEGIDO: **Random Forest** "
   ]
  },
  {
   "cell_type": "code",
   "execution_count": 1,
   "metadata": {},
   "outputs": [],
   "source": [
    "import numpy as np\n",
    "import pandas as pd\n",
    "import matplotlib.pyplot as plt\n",
    "\n",
    "from sklearn.model_selection import train_test_split\n",
    "from sklearn.metrics import accuracy_score, confusion_matrix\n",
    "from sklearn.metrics import classification_report\n",
    "\n",
    "from sklearn.ensemble import RandomForestClassifier\n",
    "\n",
    "from sklearn import tree\n",
    "import graphviz"
   ]
  },
  {
   "cell_type": "code",
   "execution_count": 2,
   "metadata": {},
   "outputs": [
    {
     "name": "stderr",
     "output_type": "stream",
     "text": [
      "/home/nahuel/anaconda3/envs/diploDatos/lib/python3.7/site-packages/IPython/core/interactiveshell.py:3049: DtypeWarning: Columns (34,36,38,40) have mixed types. Specify dtype option on import or set low_memory=False.\n",
      "  interactivity=interactivity, compiler=compiler, result=result)\n"
     ]
    }
   ],
   "source": [
    "data = pd.read_csv('../datasets/sneep-unificado-2002-2017-CURADO.csv')"
   ]
  },
  {
   "cell_type": "code",
   "execution_count": 3,
   "metadata": {},
   "outputs": [],
   "source": [
    "X = data[['delito1_id','provincia_id','genero_id','nacionalidad_id',\n",
    "         'es_reincidente_id','anio_condenado','edad_al_ser_condenado',\n",
    "          'nivel_instruccion_id','estado_civil_id']].astype(int)\n",
    "y = data['duracion_condena_rango'].astype(int)\n",
    "\n",
    "xTrain, xTest, yTrain, yTest = train_test_split(X, y, test_size = 0.10, random_state = 0)"
   ]
  },
  {
   "cell_type": "code",
   "execution_count": 4,
   "metadata": {},
   "outputs": [],
   "source": [
    "# Estos son los mejores parámetros encontrados con GridSearch en la notebook anterior\n",
    "best_params = {'n_estimators':450, \n",
    "               'criterion':'entropy', \n",
    "               'max_depth':20, \n",
    "               'max_features':'auto', \n",
    "               'random_state':0}\n",
    "\n",
    "model = RandomForestClassifier(n_estimators=best_params['n_estimators'], \n",
    "                               max_depth=best_params['max_depth'],\n",
    "                               random_state=best_params['random_state'],\n",
    "                               max_features=best_params['max_features'],\n",
    "                               criterion=best_params['criterion']\n",
    "                              )\n",
    "model.fit(xTrain, yTrain)\n",
    "\n",
    "yPred = model.predict(xTest)"
   ]
  },
  {
   "cell_type": "markdown",
   "metadata": {},
   "source": [
    "1- Comparar los resultados sobre el set de entrenamiento y sobre el set de test. ¿Qué podemos decir respecto a sesgo y varianza en estos resultados?"
   ]
  },
  {
   "cell_type": "markdown",
   "metadata": {},
   "source": [
    "Esta pregunta está relacionada con lo que se conoce como **the bias-variance tradeoff** (https://towardsdatascience.com/random-forests-and-the-bias-variance-tradeoff-3b77fee339b4). \n",
    "\n",
    "Se dice que un modelo está sesgado si sistemáticamente subestima o sobrestima la variable objetivo. Esto puede deberse a las suposiciones estadísticas hechas por el modelo elegido o a algún sesgo presente en los datos de entrenamiento.\n",
    "\n",
    "La varianza captura la capacidad de generalizar del modelo, ya que es una medida de cuánto cambiaría nuestra predicción si la entrenamos en diferentes datos. Una varianza alta indicaría que es posible que el modelo esté overfitteando. \n",
    "\n",
    "Por lo general, modelos con un sesgo más bajo en la estimación de los parámetros, tienen una varianza más alta y viceversa. Lo que nos gustaría, idealmente, es un sesgo bajo y una varianza baja.\n",
    "\n",
    "A continuación definimos una función que calcula el error cuadrático medio, la varianza y el sesgo."
   ]
  },
  {
   "cell_type": "code",
   "execution_count": 11,
   "metadata": {},
   "outputs": [],
   "source": [
    "def bias_variance(y_true_train, y_true_test, y_pred_train, y_pred_test):\n",
    "    \"\"\"\n",
    "    Calcula el error cuadrático medio, la varianza y el sesgo\n",
    "    \"\"\"\n",
    "    \n",
    "    bias = np.mean((y_pred_train - y_true_train)**2)\n",
    "    variance = np.mean((y_pred_test - y_true_test)**2)\n",
    "   \n",
    "    print(\"Bias: {bias}\".format(bias=bias))\n",
    "    print(\"Variance: {var}\".format(var=variance))"
   ]
  },
  {
   "cell_type": "code",
   "execution_count": 13,
   "metadata": {},
   "outputs": [
    {
     "name": "stdout",
     "output_type": "stream",
     "text": [
      "-------------------------------------------------------------------------------------------------\n",
      "SET DE TEST:\n",
      "-------------------------------------------------------------------------------------------------\n",
      "-------------------------------------------------------------------------------------------------\n",
      "              precision    recall  f1-score   support\n",
      "\n",
      "           1       0.44      0.13      0.20       288\n",
      "           2       0.56      0.77      0.65      2012\n",
      "           3       0.51      0.47      0.49      1658\n",
      "           4       0.57      0.51      0.54      1143\n",
      "           5       0.61      0.41      0.49       561\n",
      "           6       0.69      0.43      0.53       285\n",
      "           7       0.67      0.67      0.67       929\n",
      "\n",
      "    accuracy                           0.57      6876\n",
      "   macro avg       0.58      0.48      0.51      6876\n",
      "weighted avg       0.57      0.57      0.56      6876\n",
      "\n",
      "accuracy: 0.5706806282722513\n"
     ]
    }
   ],
   "source": [
    "print(\"-------------------------------------------------------------------------------------------------\")\n",
    "print(\"SET DE TEST:\")\n",
    "print(\"-------------------------------------------------------------------------------------------------\")\n",
    "\n",
    "print(\"-------------------------------------------------------------------------------------------------\")\n",
    "print(classification_report(yTest, yPred))\n",
    "print('accuracy:', accuracy_score(yTest, yPred))"
   ]
  },
  {
   "cell_type": "code",
   "execution_count": 16,
   "metadata": {},
   "outputs": [
    {
     "name": "stdout",
     "output_type": "stream",
     "text": [
      "-------------------------------------------------------------------------------------------------\n",
      "SET DE ENTRENAMIENTO:\n",
      "-------------------------------------------------------------------------------------------------\n",
      "-------------------------------------------------------------------------------------------------\n",
      "              precision    recall  f1-score   support\n",
      "\n",
      "           1       0.94      0.60      0.73      2509\n",
      "           2       0.78      0.95      0.85     18430\n",
      "           3       0.87      0.80      0.83     15216\n",
      "           4       0.88      0.84      0.86      9735\n",
      "           5       0.96      0.78      0.86      5176\n",
      "           6       0.96      0.80      0.88      2601\n",
      "           7       0.91      0.90      0.91      8212\n",
      "\n",
      "    accuracy                           0.85     61879\n",
      "   macro avg       0.90      0.81      0.85     61879\n",
      "weighted avg       0.86      0.85      0.85     61879\n",
      "\n",
      "accuracy: 0.8546194993454969\n"
     ]
    }
   ],
   "source": [
    "print(\"-------------------------------------------------------------------------------------------------\")\n",
    "print(\"SET DE ENTRENAMIENTO:\")\n",
    "print(\"-------------------------------------------------------------------------------------------------\")\n",
    "\n",
    "yPred2 = model.predict(xTrain)\n",
    "\n",
    "print(\"-------------------------------------------------------------------------------------------------\")\n",
    "print(classification_report(yTrain, yPred2))\n",
    "print('accuracy:', accuracy_score(yTrain, yPred2))"
   ]
  },
  {
   "cell_type": "code",
   "execution_count": 17,
   "metadata": {},
   "outputs": [
    {
     "name": "stdout",
     "output_type": "stream",
     "text": [
      "-------------------------------------------------------------------------------------------------\n",
      "SESGO Y VARIANZA:\n",
      "-------------------------------------------------------------------------------------------------\n",
      "Bias: 0.6861132209634933\n",
      "Variance: 2.1132926119837117\n"
     ]
    }
   ],
   "source": [
    "print(\"-------------------------------------------------------------------------------------------------\")\n",
    "print(\"SESGO Y VARIANZA:\")\n",
    "print(\"-------------------------------------------------------------------------------------------------\")\n",
    "\n",
    "bias_variance(yTrain, yTest, yPred2, yPred)"
   ]
  },
  {
   "cell_type": "markdown",
   "metadata": {},
   "source": [
    "Obtuvimos una accuracy del 57% en el set de test, mientras que en el conjunto de entrenamiento la accuracy fué del 85%. También precision y recall dieron más alto en el conjunto de entrenamiento que en el de test (86% y 85% contra 57% y 57%). \n",
    "\n",
    "Los valores de accuracy para el conjunto de entrenamiento, si bien son más altos que los del conjunto de prueba, no son cercanos al 100%. Esto es un indicio de que el modelo no está sobreajustando los datos.\n",
    "\n",
    "Por otro lado, el error cuadrático medio es mucho mayor en el set de prueba (2.11 contra 0.69), los sesgos (bias) dan cerca de 0 en ambos casos (-0.17 y -0.10), mientras que la varianza es casi la misma en ambos sets (3.02 y 3.06)."
   ]
  },
  {
   "cell_type": "markdown",
   "metadata": {},
   "source": [
    "2- Imprimir la matriz de confusión de los resultados sobre el set de test. Desarrollar un análisis corto de lo que ven."
   ]
  },
  {
   "cell_type": "markdown",
   "metadata": {},
   "source": [
    "Definimos una función para graficar la **matriz de confusión**, esto nos ayudará a visualizar mejor los resultados."
   ]
  },
  {
   "cell_type": "code",
   "execution_count": 18,
   "metadata": {},
   "outputs": [],
   "source": [
    "def plot_confusion_matrix(y_true, y_pred, classes,\n",
    "                          normalize=False,\n",
    "                          title=None,\n",
    "                          cmap=plt.cm.Blues):\n",
    "    \"\"\"\n",
    "    This function prints and plots the confusion matrix.\n",
    "    Normalization can be applied by setting `normalize=True`.\n",
    "    \"\"\"\n",
    "    if not title:\n",
    "        if normalize:\n",
    "            title = 'Normalized confusion matrix'\n",
    "        else:\n",
    "            title = 'Confusion matrix, without normalization'\n",
    "\n",
    "    # Compute confusion matrix\n",
    "    cm = confusion_matrix(y_true, y_pred)\n",
    "    # Only use the labels that appear in the data\n",
    "    #classes = classes[unique_labels(y_true, y_pred)]\n",
    "    if normalize:\n",
    "        cm = cm.astype('float') / cm.sum(axis=1)[:, np.newaxis]\n",
    "        print(\"Normalized confusion matrix\")\n",
    "    else:\n",
    "        print('Confusion matrix, without normalization')\n",
    "\n",
    "    print(np.round(cm, 3))\n",
    "\n",
    "    fig, ax = plt.subplots(figsize=(10, 6))\n",
    "    im = ax.imshow(cm, interpolation='nearest', cmap=cmap)\n",
    "    ax.figure.colorbar(im, ax=ax)\n",
    "    # We want to show all ticks...\n",
    "    ax.set(xticks=np.arange(cm.shape[1]),\n",
    "           yticks=np.arange(cm.shape[0]),\n",
    "           # ... and label them with the respective list entries\n",
    "           xticklabels=classes, yticklabels=classes,\n",
    "           title=title,\n",
    "           ylabel='True label',\n",
    "           xlabel='Predicted label')\n",
    "\n",
    "    # Rotate the tick labels and set their alignment.\n",
    "    plt.setp(ax.get_xticklabels(), rotation=45, ha=\"right\",\n",
    "             rotation_mode=\"anchor\")\n",
    "\n",
    "    # Loop over data dimensions and create text annotations.\n",
    "    fmt = '.2f' if normalize else 'd'\n",
    "    thresh = cm.max() / 2.\n",
    "    for i in range(cm.shape[0]):\n",
    "        for j in range(cm.shape[1]):\n",
    "            ax.text(j, i, format(cm[i, j], fmt),\n",
    "                    ha=\"center\", va=\"center\",\n",
    "                    color=\"white\" if cm[i, j] > thresh else \"black\")\n",
    "    fig.tight_layout()\n",
    "    return ax"
   ]
  },
  {
   "cell_type": "code",
   "execution_count": 19,
   "metadata": {},
   "outputs": [
    {
     "name": "stdout",
     "output_type": "stream",
     "text": [
      "Confusion matrix, without normalization\n",
      "[[  37  171   51   16    2    1   10]\n",
      " [  19 1552  294   80   24    8   35]\n",
      " [  13  605  775  139   38    9   79]\n",
      " [   6  210  199  585   45   15   83]\n",
      " [   1   87   91   85  229    7   61]\n",
      " [   1   28   34   46   13  122   41]\n",
      " [   7  110   76   73   25   14  624]]\n",
      "\n",
      "Normalized confusion matrix\n",
      "[[0.128 0.594 0.177 0.056 0.007 0.003 0.035]\n",
      " [0.009 0.771 0.146 0.04  0.012 0.004 0.017]\n",
      " [0.008 0.365 0.467 0.084 0.023 0.005 0.048]\n",
      " [0.005 0.184 0.174 0.512 0.039 0.013 0.073]\n",
      " [0.002 0.155 0.162 0.152 0.408 0.012 0.109]\n",
      " [0.004 0.098 0.119 0.161 0.046 0.428 0.144]\n",
      " [0.008 0.118 0.082 0.079 0.027 0.015 0.672]]\n",
      "\n"
     ]
    },
    {
     "data": {
      "image/png": "[encoded data removed]",
      "text/plain": [
       "<Figure size 720x432 with 2 Axes>"
      ]
     },
     "metadata": {
      "needs_background": "light"
     },
     "output_type": "display_data"
    },
    {
     "data": {
      "image/png": "[encoded data removed]",
      "text/plain": [
       "<Figure size 720x432 with 2 Axes>"
      ]
     },
     "metadata": {
      "needs_background": "light"
     },
     "output_type": "display_data"
    }
   ],
   "source": [
    "class_names = ['1', '2', '3', '4', '5', '6', '7']\n",
    "\n",
    "# Plot non-normalized confusion matrix\n",
    "plot_confusion_matrix(yTest, yPred, classes=class_names,\n",
    "                      title='Confusion matrix, without normalization')\n",
    "print()\n",
    "# Plot normalized confusion matrix\n",
    "plot_confusion_matrix(yTest, yPred, classes=class_names, normalize=True,\n",
    "                      title='Normalized confusion matrix')\n",
    "print()\n",
    "plt.tight_layout()  # Optional ... often improves the layout "
   ]
  },
  {
   "cell_type": "markdown",
   "metadata": {},
   "source": [
    "Se observa que el modelo entrenado clasifica bastante bien a las clases '2', '4' y '7' y bastante mal a la clase '1' (casi siempre sobrestima hacia la clase '2'). El resto de las clases las clasifica mediocremente (ni tan bien, ni tan mal)."
   ]
  },
  {
   "cell_type": "markdown",
   "metadata": {},
   "source": [
    "3- Imprimir en una tabla (pueden crear un dataframe con los datos) la importancia relativa para el modelo de los distintos atributos (feature_importances_). Nuevamente, escribir un comentario respecto al resultado."
   ]
  },
  {
   "cell_type": "markdown",
   "metadata": {},
   "source": [
    "https://towardsdatascience.com/explaining-feature-importance-by-example-of-a-random-forest-d9166011959e\n",
    "\n",
    "https://towardsdatascience.com/feature-selection-techniques-in-machine-learning-with-python-f24e7da3f36e"
   ]
  },
  {
   "cell_type": "markdown",
   "metadata": {},
   "source": [
    "Veamos la importancia de cada uno de los features de acuerdo con el attributo feature_importances_ de sklearn"
   ]
  },
  {
   "cell_type": "code",
   "execution_count": 20,
   "metadata": {},
   "outputs": [
    {
     "data": {
      "text/plain": [
       "<matplotlib.axes._subplots.AxesSubplot at 0x7fa8f61b5450>"
      ]
     },
     "execution_count": 20,
     "metadata": {},
     "output_type": "execute_result"
    },
    {
     "data": {
      "image/png": "[encoded data removed]",
      "text/plain": [
       "<Figure size 576x432 with 1 Axes>"
      ]
     },
     "metadata": {
      "needs_background": "light"
     },
     "output_type": "display_data"
    }
   ],
   "source": [
    "importances = pd.DataFrame(model.feature_importances_, columns=['Importance'], index=X.columns)\n",
    "importances.sort_values(by='Importance').plot(kind='barh', figsize=(8, 6))"
   ]
  },
  {
   "cell_type": "markdown",
   "metadata": {},
   "source": [
    "De acuerdo con este atributo, el feature con mayor importancia es \"edad_al_ser_condenado\", seguido por \"delito1_id\" y \"anio_condenado\". Si bien este resultado nos da algo de información, es importante notar que el método que utiliza sklearn para estimar la importancia de los features tiende a sobreestimar features continuos o categóricos de gran cardinalidad. \n",
    "\n",
    "Para compensar este bias, utilizamos la importancia por permutación."
   ]
  },
  {
   "cell_type": "code",
   "execution_count": 21,
   "metadata": {},
   "outputs": [],
   "source": [
    "from rfpimp import permutation_importances\n",
    "\n",
    "## Necesitamos definir la metrica con este template para utilizar rfpimp\n",
    "def accuracy(rf, X_train, y_train):\n",
    "    return accuracy_score(y_train, rf.predict(X_train))\n",
    "\n",
    "perm_imp_rfpimp = permutation_importances(model, xTrain, yTrain, accuracy)"
   ]
  },
  {
   "cell_type": "code",
   "execution_count": 22,
   "metadata": {},
   "outputs": [
    {
     "data": {
      "text/plain": [
       "<matplotlib.axes._subplots.AxesSubplot at 0x7fa8f6c624d0>"
      ]
     },
     "execution_count": 22,
     "metadata": {},
     "output_type": "execute_result"
    },
    {
     "data": {
      "image/png": "[encoded data removed]",
      "text/plain": [
       "<Figure size 576x432 with 1 Axes>"
      ]
     },
     "metadata": {
      "needs_background": "light"
     },
     "output_type": "display_data"
    }
   ],
   "source": [
    "perm_imp_rfpimp.sort_values(by='Importance').plot(kind='barh', figsize=(8, 6))"
   ]
  },
  {
   "cell_type": "markdown",
   "metadata": {},
   "source": [
    "De acuerdo con la importancia de permutación, la variable \"delito1_id\" es ahora la más importante, seguidas de \"anio_condenado\" y \"edad_al_ser_condenado\""
   ]
  },
  {
   "cell_type": "markdown",
   "metadata": {},
   "source": [
    "En los dos casos, podemos ver que el género y la nacionalidad son variables de poca importancia, por lo que constituyen opciones válidas para reducir el número de features del modelo."
   ]
  },
  {
   "cell_type": "markdown",
   "metadata": {},
   "source": [
    "### Mejora del Modelo"
   ]
  },
  {
   "cell_type": "markdown",
   "metadata": {},
   "source": [
    "1- Luego de realizado el análisis, es momento de intentar mejorar nuestro modelo. En ésta oportunidad, ustedes deben elegir al menos dos cambios a realizar para intentar mejorar los resultados. Los cambios pueden ser (pero no están limitados a): "
   ]
  },
  {
   "cell_type": "markdown",
   "metadata": {},
   "source": [
    "- Agregar o quitar variables para entrenamiento (incluyendo otros delitos)\n",
    "- Cambiar el encoding de las variables\n",
    "- Recuperar registros que se filtraron al principio para tener más ejemplos\n",
    "- Filtrar mayor cantidad de registros\n",
    "- Generar una nueva variable (como se hizo con edad_al_ser_condenado)\n"
   ]
  },
  {
   "cell_type": "markdown",
   "metadata": {},
   "source": [
    "**Reducción de features**"
   ]
  },
  {
   "cell_type": "markdown",
   "metadata": {},
   "source": [
    "Evaluamos el efecto de remover los features de menor importancia ('genero_id' y 'nacionalidad_id')"
   ]
  },
  {
   "cell_type": "code",
   "execution_count": 23,
   "metadata": {},
   "outputs": [
    {
     "name": "stdout",
     "output_type": "stream",
     "text": [
      "Modelo original\n",
      "accuracy train: 0.8546194993454969\n",
      "accuracy test : 0.5706806282722513\n",
      "-----------------------------\n",
      "\n",
      "['genero_id']\n",
      "accuracy train: 0.8501753422001002\n",
      "accuracy test : 0.5644269924374636\n",
      "-----------------------------\n",
      "\n",
      "['nacionalidad_id']\n",
      "accuracy train: 0.8487370513421355\n",
      "accuracy test : 0.5700988947062245\n",
      "-----------------------------\n",
      "\n",
      "['genero_id', 'nacionalidad_id']\n",
      "accuracy train: 0.8615039027780023\n",
      "accuracy test : 0.5725712623618383\n",
      "-----------------------------\n",
      "\n"
     ]
    }
   ],
   "source": [
    "cols_to_drop = [\n",
    "    ['genero_id'],\n",
    "    ['nacionalidad_id'],\n",
    "    ['genero_id', 'nacionalidad_id']\n",
    "]\n",
    "\n",
    "print('Modelo original')\n",
    "print('accuracy train:', accuracy_score(yTrain, yPred2))\n",
    "print('accuracy test :', accuracy_score(yTest, yPred))\n",
    "print('-----------------------------', end='\\n\\n')\n",
    "\n",
    "for cols in cols_to_drop:\n",
    "    reduced_xTrain = xTrain.drop(cols, axis=1)\n",
    "    reduced_xTest = xTest.drop(cols, axis=1)\n",
    "    reduced_yTrain = yTrain\n",
    "    reduced_yTest = yTest\n",
    "\n",
    "    model = RandomForestClassifier(n_estimators=best_params['n_estimators'], \n",
    "                               max_depth=best_params['max_depth'],\n",
    "                               random_state=best_params['random_state'],\n",
    "                               max_features=best_params['max_features'],\n",
    "                               criterion=best_params['criterion']\n",
    "    )\n",
    "    model.fit(reduced_xTrain, yTrain)\n",
    "\n",
    "    reduced_yPred = model.predict(reduced_xTest)\n",
    "    reduced_yPred2 = model.predict(reduced_xTrain)\n",
    "    \n",
    "    print(cols)\n",
    "    print('accuracy train:', accuracy_score(yTrain, reduced_yPred2))\n",
    "    print('accuracy test :', accuracy_score(yTest, reduced_yPred))\n",
    "    print('-----------------------------', end='\\n\\n')"
   ]
  },
  {
   "cell_type": "markdown",
   "metadata": {},
   "source": [
    "Vemos que la predicción del modelo varía muy poco independientemente de si se incluyen o no cualquiera de los dos features. En particular, al sacar ambos, la predicción prácticamente no varía. "
   ]
  },
  {
   "cell_type": "markdown",
   "metadata": {},
   "source": [
    "**Incorporación de features**\n",
    "\n",
    "Construimos dos nuevos features y evaluamos su impacto en la predicción.\n",
    "\n",
    "El primer feature, \"baires\", indica si el establecimiento está en la provincia de buenos aires. La motivación de elegir este feature es que la gran mayoría de los registros corresponde a establecimientos en esa provincia.\n",
    "\n",
    "El segundo feature, \"federal\", indica si el establecimiento en cuestión pertenece o no al sistema penitenciario federal. La importancia de esta variable radica en que los establecimientos federales alojan internos que han cometido distintos delitos que los internos de los establecimientos provinciales. Por ejemplo, la mayoría de las penas asociadas a delitos de narcotráfico se cumplen en estos establecimientos."
   ]
  },
  {
   "cell_type": "code",
   "execution_count": 24,
   "metadata": {},
   "outputs": [],
   "source": [
    "data['baires'] = (data.provincia_id == 1).astype('int')\n",
    "data['federal'] = data.establecimiento_descripcion.str.contains('SPF').values.astype('int')\n",
    "\n",
    "_X = data[['delito1_id','federal', 'provincia_id', 'baires', 'ultima_situacion_laboral_id', 'genero_id','nacionalidad_id',\n",
    "         'es_reincidente_id','anio_condenado','edad_al_ser_condenado',\n",
    "          'nivel_instruccion_id','estado_civil_id']].astype(int)\n",
    "\n",
    "_y = data['duracion_condena_rango'].astype(int)\n",
    "\n",
    "_xTrain, _xTest, _yTrain, _yTest = train_test_split(_X, _y, test_size = 0.10, random_state = 0)"
   ]
  },
  {
   "cell_type": "code",
   "execution_count": 106,
   "metadata": {},
   "outputs": [
    {
     "name": "stdout",
     "output_type": "stream",
     "text": [
      "Modelo original\n",
      "accuracy train: 0.8615039027780023\n",
      "accuracy test : 0.5706806282722513\n",
      "-----------------------------\n",
      "\n",
      "[]\n",
      "accuracy train: 0.8365519804780297\n",
      "accuracy test : 0.566608493310064\n",
      "-----------------------------\n",
      "\n",
      "['federal']\n",
      "accuracy train: 0.843614150196351\n",
      "accuracy test : 0.5684991273996509\n",
      "-----------------------------\n",
      "\n",
      "['provincia_id']\n",
      "accuracy train: 0.8003038187430308\n",
      "accuracy test : 0.5314136125654451\n",
      "-----------------------------\n",
      "\n",
      "['baires']\n",
      "accuracy train: 0.8479613439131207\n",
      "accuracy test : 0.5719895287958116\n",
      "-----------------------------\n",
      "\n",
      "['federal', 'provincia_id']\n",
      "accuracy train: 0.8028087073158907\n",
      "accuracy test : 0.5274869109947644\n",
      "-----------------------------\n",
      "\n",
      "['federal', 'baires']\n",
      "accuracy train: 0.8546194993454969\n",
      "accuracy test : 0.5706806282722513\n",
      "-----------------------------\n",
      "\n",
      "['provincia_id', 'baires']\n",
      "accuracy train: 0.7866966175923981\n",
      "accuracy test : 0.5277777777777778\n",
      "-----------------------------\n",
      "\n",
      "['federal', 'provincia_id', 'baires']\n",
      "accuracy train: 0.77637001244364\n",
      "accuracy test : 0.5199243746364165\n",
      "-----------------------------\n",
      "\n"
     ]
    }
   ],
   "source": [
    "cols_to_drop = [ \n",
    "    [],\n",
    "    ['federal'],\n",
    "    ['provincia_id'],\n",
    "    ['baires'],\n",
    "    ['federal', 'provincia_id'],\n",
    "    ['federal', 'baires'],\n",
    "    ['provincia_id', 'baires'],\n",
    "    ['federal', 'provincia_id', 'baires'],\n",
    "]\n",
    "\n",
    "print('Modelo original')\n",
    "print('accuracy train:', accuracy_score(yTrain, yPred2))\n",
    "print('accuracy test :', accuracy_score(yTest, yPred))\n",
    "print('-----------------------------', end='\\n\\n')\n",
    "\n",
    "for cols in cols_to_drop:\n",
    "    reduced_xTrain = _xTrain.drop(cols, axis=1)\n",
    "    reduced_xTest = _xTest.drop(cols, axis=1)\n",
    "    reduced_yTrain = _yTrain\n",
    "    reduced_yTest = _yTest\n",
    "\n",
    "    model = RandomForestClassifier(n_estimators=best_params['n_estimators'], \n",
    "                               max_depth=best_params['max_depth'],\n",
    "                               random_state=best_params['random_state'],\n",
    "                               max_features=best_params['max_features'],\n",
    "                               criterion=best_params['criterion']\n",
    "    )\n",
    "    model.fit(reduced_xTrain, yTrain)\n",
    "\n",
    "    reduced_yPred = model.predict(reduced_xTest)\n",
    "    reduced_yPred2 = model.predict(reduced_xTrain)\n",
    "    \n",
    "    print(cols)\n",
    "    print('accuracy train:', accuracy_score(yTrain, reduced_yPred2))\n",
    "    print('accuracy test :', accuracy_score(yTest, reduced_yPred))\n",
    "    print('-----------------------------', end='\\n\\n')"
   ]
  },
  {
   "cell_type": "markdown",
   "metadata": {},
   "source": [
    "Vemos que incorporar los nuevos features no mejora, en general, la predicción. Por otra parte, si reemplazamos la variable \"provincia_id\" por \"baires\" o por \"federal\", la predicción empeora. Esto quiere decir que la información de a qué provincia pertenece cada establecimiento es importante. "
   ]
  },
  {
   "cell_type": "code",
   "execution_count": 25,
   "metadata": {},
   "outputs": [
    {
     "name": "stdout",
     "output_type": "stream",
     "text": [
      "{'n_estimators': 450, 'criterion': 'entropy', 'max_depth': 20, 'max_features': 'auto', 'random_state': 0}\n"
     ]
    }
   ],
   "source": [
    "print(best_params)"
   ]
  },
  {
   "cell_type": "code",
   "execution_count": 26,
   "metadata": {},
   "outputs": [
    {
     "name": "stdout",
     "output_type": "stream",
     "text": [
      "['genero_id', 'nacionalidad_id']\n",
      "accuracy train: 0.8615039027780023\n",
      "accuracy test : 0.5725712623618383\n",
      "-----------------------------\n",
      "\n"
     ]
    }
   ],
   "source": [
    "X = data[['delito1_id','provincia_id','genero_id','nacionalidad_id',\n",
    "         'es_reincidente_id','anio_condenado','edad_al_ser_condenado',\n",
    "          'nivel_instruccion_id','estado_civil_id']].astype(int)\n",
    "y = data['duracion_condena_rango'].astype(int)\n",
    "\n",
    "xTrain, xTest, yTrain, yTest = train_test_split(X, y, test_size = 0.10, random_state = 0)\n",
    "\n",
    "cols = ['genero_id', 'nacionalidad_id']\n",
    "\n",
    "reduced_xTrain = xTrain.drop(cols, axis=1)\n",
    "reduced_xTest = xTest.drop(cols, axis=1)\n",
    "reduced_yTrain = yTrain\n",
    "reduced_yTest = yTest\n",
    "\n",
    "model = RandomForestClassifier(n_estimators=best_params['n_estimators'], \n",
    "                           max_depth=best_params['max_depth'],\n",
    "                           random_state=best_params['random_state'],\n",
    "                           max_features=best_params['max_features'],\n",
    "                           criterion=best_params['criterion']\n",
    ")\n",
    "model.fit(reduced_xTrain, yTrain)\n",
    "\n",
    "reduced_yPred = model.predict(reduced_xTest)\n",
    "reduced_yPred2 = model.predict(reduced_xTrain)\n",
    "\n",
    "print(cols)\n",
    "print('accuracy train:', accuracy_score(yTrain, reduced_yPred2))\n",
    "print('accuracy test :', accuracy_score(yTest, reduced_yPred))\n",
    "print('-----------------------------', end='\\n\\n')"
   ]
  },
  {
   "cell_type": "code",
   "execution_count": 33,
   "metadata": {},
   "outputs": [
    {
     "name": "stdout",
     "output_type": "stream",
     "text": [
      "Fitting 3 folds for each of 4 candidates, totalling 12 fits\n"
     ]
    },
    {
     "name": "stderr",
     "output_type": "stream",
     "text": [
      "[Parallel(n_jobs=4)]: Using backend LokyBackend with 4 concurrent workers.\n",
      "[Parallel(n_jobs=4)]: Done   5 tasks      | elapsed:    3.5s\n",
      "[Parallel(n_jobs=4)]: Done   7 out of  12 | elapsed:    8.7s remaining:    6.2s\n",
      "[Parallel(n_jobs=4)]: Done   9 out of  12 | elapsed:   11.8s remaining:    3.9s\n",
      "[Parallel(n_jobs=4)]: Done  12 out of  12 | elapsed:   29.5s finished\n"
     ]
    },
    {
     "name": "stdout",
     "output_type": "stream",
     "text": [
      "Mejor conjunto de parámetros:\n",
      "{'n_estimators': 300, 'random_state': 0}\n",
      "\n",
      "Puntajes de la grilla:\n",
      "\n",
      "Exactitud: 0.7217 (+/-0.0644) para los parámetros {'n_estimators': 10, 'random_state': 0}\n",
      "Exactitud: 0.7289 (+/-0.0590) para los parámetros {'n_estimators': 30, 'random_state': 0}\n",
      "Exactitud: 0.7318 (+/-0.0655) para los parámetros {'n_estimators': 100, 'random_state': 0}\n",
      "Exactitud: 0.7336 (+/-0.0626) para los parámetros {'n_estimators': 300, 'random_state': 0}\n"
     ]
    }
   ],
   "source": [
    "rand_para = {'n_estimators':[10, 30, 100, 300],\n",
    "             #'criterion':['gini', 'entropy'],\n",
    "             #'max_depth':[None, 8, 9, 10, 11, 12, 15, 20, 30, 40, 50, 70, 90, 100, 110, 120, 130, 150, 200, 250],\n",
    "             #'max_features':['sqrt', 'log2', None],\n",
    "             'random_state': [0],\n",
    "            }\n",
    "\n",
    "from sklearn.model_selection import StratifiedKFold\n",
    "from sklearn.model_selection import GridSearchCV\n",
    "def grid(model, params, n_jobs=None, verbose=0):\n",
    "\n",
    "    clf = GridSearchCV(model, params, cv=StratifiedKFold(n_splits=3).split(xTrain, yTrain), \n",
    "                       n_jobs=n_jobs, verbose=verbose)\n",
    "    clf.fit(xTrain, yTrain)\n",
    "\n",
    "    print(\"Mejor conjunto de parámetros:\")\n",
    "    print(clf.best_params_, end=\"\\n\\n\")\n",
    "\n",
    "    print(\"Puntajes de la grilla:\", end=\"\\n\\n\")\n",
    "    means = clf.cv_results_['mean_test_score']\n",
    "    stds = clf.cv_results_['std_test_score']\n",
    "    for mean, std, params in zip(means, stds, clf.cv_results_['params']):\n",
    "        print(\"Exactitud: %0.4f (+/-%0.04f) para los parámetros %r\" % (np.sqrt(mean), np.sqrt(std), params))\n",
    "        \n",
    "    return clf\n",
    "\n",
    "n_jobs = 4\n",
    "model = grid(model=RandomForestClassifier(), params=rand_para, n_jobs=n_jobs, verbose=10)"
   ]
  },
  {
   "cell_type": "markdown",
   "metadata": {},
   "source": [
    "### Conclusiones"
   ]
  },
  {
   "cell_type": "markdown",
   "metadata": {},
   "source": [
    "Escribir una conclusión breve respecto al trabajo. Particularmente sus ideas respecto a la pregunta inicial:\n",
    "¿Es posible predecir la duración de la condena que recibirá una persona en base a datos como los que se encuentran presentes en este dataset?\n",
    "\n",
    "Mencionar: \n",
    "- La calidad de los resultados obtenidos.\n",
    "- Causas posibles de problemas que hayan detectado.\n",
    "- Posibles soluciones"
   ]
  },
  {
   "cell_type": "markdown",
   "metadata": {},
   "source": []
  }
 ],
 "metadata": {
  "kernelspec": {
   "display_name": "diploDatos",
   "language": "python",
   "name": "diplodatos"
  },
  "language_info": {
   "codemirror_mode": {
    "name": "ipython",
    "version": 3
   },
   "file_extension": ".py",
   "mimetype": "text/x-python",
   "name": "python",
   "nbconvert_exporter": "python",
   "pygments_lexer": "ipython3",
   "version": "3.7.4"
  }
 },
 "nbformat": 4,
 "nbformat_minor": 4
}
