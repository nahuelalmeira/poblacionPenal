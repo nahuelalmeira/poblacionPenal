{
 "cells": [
  {
   "cell_type": "markdown",
   "metadata": {},
   "source": [
    "# DiploDatos 2019 - Población Penitenciaria en Argentina"
   ]
  },
  {
   "cell_type": "markdown",
   "metadata": {},
   "source": [
    "\n",
    "\n",
    "\n",
    "> http://diplodatos.famaf.unc.edu.ar/poblacion-penitenciaria-en-argentina-2002-a-2017/\n",
    "\n",
    "\n"
   ]
  },
  {
   "cell_type": "markdown",
   "metadata": {},
   "source": [
    "## Práctico Aprendizaje Supervisado"
   ]
  },
  {
   "cell_type": "markdown",
   "metadata": {},
   "source": [
    "En el práctico de Introducción al Aprendizaje Automático intentamos determinar la respuesta a la siguiente pregunta:\n",
    "\n",
    "*¿Es posible predecir la duración de la condena que recibirá una persona en base a datos como los que se encuentran presentes en este dataset?*\n",
    "\n",
    "Nuestra ingeniería de atributos fue sencilla: seleccionamos algunas variables que consideramos posiblemente correlacionadas a la variable objetivo y creamos modelos sencillos para tener una línea base para tener desde donde empezar. Intentamos modelar el problema tanto como regresión como clasificación, pero los resultados obtenidos no fueron satisfactorios. Raramente se superaron los resultados obtenidos por regresores o clasificadores dummy. \n",
    "\n",
    "En este práctico intentaremos mejorar los resultados iterando sobre la ingeniería de atributos, el modelado, y el análisis de la salida de los modelos.\n",
    "\n",
    "Para simplificar sólo trabajaremos con la tarea de clasificación, usando la variable \"duracion_condena_rango\" como objetivo.\n"
   ]
  },
  {
   "cell_type": "markdown",
   "metadata": {},
   "source": [
    "La siguiente es la definición de la variable a predecir:\n",
    "\n",
    "**duracion_condena_rango**: si la situación legal del interno es condenado toma valores: 1) Hasta 3 años; Valor 2) De 3 a 6 años; Valor 3) De 6 a 9 años; 4) De 9 a 12 años; 5) De 12 a 15 años; 6) De 15 a 18 años; 7) Más de 18 años; 8) Sin datos. Si la situación legal del interno es procesado, inimputable o contraventor toma el valor 0. \n",
    "\n",
    "Fuente: https://github.com/datos-justicia-argentina/Sistema-Nacional-de-Estadisticas-sobre-Ejecucion-de-la-Pena-SNEEP/blob/master/Sistema-Nacional-de-Estadisticas-sobre-Ejecucion-de-la-Pena-SNEEP-metadata.md"
   ]
  },
  {
   "cell_type": "markdown",
   "metadata": {},
   "source": [
    "### Resultados previos (completar)"
   ]
  },
  {
   "cell_type": "markdown",
   "metadata": {},
   "source": [
    "Mejor accuracy obtenida en clasificación sobre el conjunto de Entrenamiento: "
   ]
  },
  {
   "cell_type": "markdown",
   "metadata": {},
   "source": [
    "0.0% "
   ]
  },
  {
   "cell_type": "markdown",
   "metadata": {},
   "source": [
    "Mejor accuracy obtenida en clasificación sobre el conjunto de Test: "
   ]
  },
  {
   "cell_type": "markdown",
   "metadata": {},
   "source": [
    "0.0%"
   ]
  },
  {
   "cell_type": "markdown",
   "metadata": {},
   "source": [
    "### Carga del dataset"
   ]
  },
  {
   "cell_type": "markdown",
   "metadata": {},
   "source": [
    "Cuando nos enfrentamos a resultados como los que obtuvimos en el primer práctico, una estrategia común es buscar mayor cantidad de datos. En esta oportunidad empezaraemos a trabajar con los datos completos desde 2002 hasta la fecha. "
   ]
  },
  {
   "cell_type": "code",
   "execution_count": 1,
   "metadata": {},
   "outputs": [],
   "source": [
    "import pandas as pd"
   ]
  },
  {
   "cell_type": "code",
   "execution_count": null,
   "metadata": {},
   "outputs": [],
   "source": [
    "data_raw = pd.read_csv('../datasets/sneep-unificado-2002-2017.csv')"
   ]
  },
  {
   "cell_type": "markdown",
   "metadata": {},
   "source": [
    "Antes de poder utilizar el dataset realizaremos un conjunto de tareas:\n",
    "\n",
    "- Corregir los problemas de columnas en los datos del censo 2017 que detectamos durante el análisis y curación de los datos.\n",
    "- Procesar los campos de fechas para que se carguen con el tipo de datos correcto.\n",
    "- Guardar sólo los registros que correspondan a personas condenadas.\n",
    "- Remover duplicados. Esto es necesario porque la planilla contiene una concatenación de todos los censos, e internos que permanecen múltiples años en un penal van a aparecer reiteradas veces en el dataset.\n",
    "- Imputar valores.\n",
    "- Generar el atributo \"anio_condenado\", es una nueva variable que nos permitirá tener en cuenta la fecha aproximada en la cuál se condenó a la persona. \n",
    "- Generar el atributo \"edad_al_ser_condenado\", nueva variable que usaremos en lugar de la variable \"edad\", ya que ésta última no describe un atributo del interno al momento de ser dictada su sentencia si no el valor al momento del censo.\n",
    "- Conservar sólo registros en los que la persona sea mayor de 15 años al momento de la condena, y cuya fecha de condena sea previa a la fecha del censo.\n",
    "- Conservar registros de personas condenadas por un sólo delito. El objetivo es intentar modelar un problema más simple que el que planteamos anteriormente. Al desconocer el dominio judicial y no tener otros atributos que nos permitan entender cómo se modifica la sentencia cuando una persona comete múltiples delitos, primero intentaremos encontrar un modelo que pueda explicar el caso más sencillo.\n",
    "- Corregir problemas con la variable objetivo. El valor 8 del atributo \"duracion_condena_rango\" significa \"sin datos\" y una buena parte de los registros con este valor no tienen datos en los campos \"duracion_condena_anio\" y \"duracion_condena_meses\". Sin embargo, sabemos que las cadenas perpetuas en Argentina son superiores a 18 años, así que todos los que tengan \"tipo_condena\" en valor 1, deben tener \"duracion_condena_rango\" en 7. El resto de los registros que no sean condenas perpetuas y no tengan valor definido serán eliminados."
   ]
  },
  {
   "cell_type": "code",
   "execution_count": null,
   "metadata": {},
   "outputs": [],
   "source": [
    "def fix_2017(df):\n",
    "    # acomodamos columnas en el csv de 2017\n",
    "    data_2017 = df[df[\"anio_censo\"] == 2017].copy()\n",
    "    unique_index = pd.Index(list(col for col in data_2017.columns))\n",
    "    index_tipo_condena = unique_index.get_loc('tipo_condena')\n",
    "    for i in range(len(data_2017.columns)-1, index_tipo_condena, -1):\n",
    "        data_2017.iloc[:,i] = data_2017.iloc[:,i-1]\n",
    "\n",
    "    data = df[df[\"anio_censo\"] != 2017]\n",
    "    data.append(data_2017)\n",
    "    return data\n",
    "    \n",
    "def parse_dates(df):\n",
    "    df.loc[:,\"fecha_detencion\"] = pd.to_datetime(df[\"fecha_detencion\"],errors='coerce')\n",
    "    df.loc[:,\"fecha_condenado\"] = pd.to_datetime(df[\"fecha_condenado\"],errors='coerce')\n",
    "    return df\n",
    "\n",
    "def get_condenados(df):\n",
    "    data = df[df[\"situacion_legal_id\"] == 1]\n",
    "    return data\n",
    "\n",
    "def remove_duplicates(df):\n",
    "    filter_columns = ['delito1_id','provincia_id','establecimiento_id','genero_id','nacionalidad_id','jurisdiccion_id',\n",
    "                      'fecha_detencion','fecha_condenado','capacitacion_laboral_al_ingresar_id']\n",
    "    \n",
    "    duplicated = df.duplicated(subset=filter_columns,keep='first')\n",
    "    data = df[duplicated]\n",
    "    return data\n",
    "\n",
    "def impute_values(df):\n",
    "    df['estado_civil_id'].fillna(0, inplace=True)\n",
    "    df['nivel_instruccion_id'].fillna(0, inplace=True)\n",
    "    df['ultima_situacion_laboral_id'].fillna(0, inplace=True)\n",
    "    df['es_reincidente_id'].fillna(0, inplace=True)\n",
    "    df['nivel_instruccion_id'].fillna(0, inplace=True)\n",
    "    df['estado_civil_id'].fillna(0, inplace=True)\n",
    "    df['edad'].fillna(df['edad'].mean(), inplace=True)\n",
    "    df.replace({'edad': {0: df['edad'].mean()}},inplace=True) \n",
    "    \n",
    "def calculate_anio_condenado(row):\n",
    "    if row[\"fecha_detencion\"] is pd.NaT:\n",
    "        fecha = row[\"anio_censo\"]\n",
    "    else:\n",
    "        fecha = row['fecha_detencion'].year + 1\n",
    "    return fecha\n",
    "\n",
    "def add_anio_condenado(df):\n",
    "    df[\"anio_condenado\"] = df.apply(lambda row: calculate_anio_condenado(row) if row['fecha_condenado'] is pd.NaT \n",
    "                                    else row['fecha_condenado'].year, axis=1)\n",
    "    return df\n",
    "\n",
    "def calculate_edad_al_ser_condenado(row):\n",
    "    anios = row[\"anio_censo\"] - row[\"anio_condenado\"]\n",
    "    edad_al_ser_condenando = row[\"edad\"] - anios\n",
    "    return edad_al_ser_condenando\n",
    "\n",
    "def add_edad_al_ser_condenado(df):\n",
    "    df[\"edad_al_ser_condenado\"] = df.apply(lambda row: calculate_edad_al_ser_condenado(row), axis=1)\n",
    "    return df\n",
    "\n",
    "def remove_wrong_anio_o_edad(df):\n",
    "    data = df[df[\"edad_al_ser_condenado\"] > 15]\n",
    "    data = data[data[\"anio_condenado\"] <= data[\"anio_censo\"]]\n",
    "    return data    \n",
    "    \n",
    "def add_cantidad_delitos(df):\n",
    "    delito_cols = ['delito{}_descripcion'.format(i) for i in range(1, 6)]\n",
    "    df['delitos_cantidad'] = df[delito_cols].count(axis=1)\n",
    "    return df\n",
    "\n",
    "def filter_delitos(df):\n",
    "    data = df[df[\"delitos_cantidad\"] == 1]\n",
    "    return data\n",
    "\n",
    "def remove_rango_nodata(df):\n",
    "    data = df\n",
    "    data[\"duracion_condena_rango\"] = data.apply(lambda row: 7 if row['tipo_condena'] == 1 else row['duracion_condena_rango'], axis=1)\n",
    "    data = data[data[\"duracion_condena_rango\"] != 8]\n",
    "    return data"
   ]
  },
  {
   "cell_type": "code",
   "execution_count": null,
   "metadata": {},
   "outputs": [],
   "source": [
    "def preprocess_sneep(df):\n",
    "    print(\"Cantidad de registros inicial:\", len(df))\n",
    "    data = fix_2017(df)\n",
    "    data = parse_dates(data)\n",
    "    data = get_condenados(data)\n",
    "    print(\"Cantidad de registros de condenados:\", len(data))    \n",
    "    data = remove_duplicates(data)\n",
    "    print(\"Cantidad de registros sin duplicados:\", len(data))    \n",
    "    impute_values(data)\n",
    "    data = add_anio_condenado(data)\n",
    "    data = add_edad_al_ser_condenado(data)\n",
    "    data = add_cantidad_delitos(data)\n",
    "    data = filter_delitos(data)\n",
    "    print(\"Cantidad de registros con un solo delito:\", len(data))\n",
    "    data = remove_wrong_anio_o_edad(data)\n",
    "    print(\"Cantidad de registros quitando anio de condena o edad equivocado:\", len(data))\n",
    "    data = remove_rango_nodata(data)\n",
    "    print(\"Cantidad de registros quitando rango sin datos\", len(data))\n",
    "    return data"
   ]
  },
  {
   "cell_type": "code",
   "execution_count": null,
   "metadata": {},
   "outputs": [],
   "source": [
    "data = preprocess_sneep(data_raw)"
   ]
  },
  {
   "cell_type": "code",
   "execution_count": null,
   "metadata": {},
   "outputs": [],
   "source": [
    "# Guardamos el dataset curado para posteriores usos\n",
    "data.to_csv('../datasets/sneep-unificado-2002-2017-CURADO.csv')"
   ]
  },
  {
   "cell_type": "code",
   "execution_count": null,
   "metadata": {},
   "outputs": [],
   "source": [
    "# Veamos cuantos registros hay en cada categoría\n",
    "data[\"duracion_condena_rango\"].value_counts()"
   ]
  }
 ],
 "metadata": {
  "kernelspec": {
   "display_name": "Python 3",
   "language": "python",
   "name": "python3"
  }
 },
 "nbformat": 4,
 "nbformat_minor": 2
}
