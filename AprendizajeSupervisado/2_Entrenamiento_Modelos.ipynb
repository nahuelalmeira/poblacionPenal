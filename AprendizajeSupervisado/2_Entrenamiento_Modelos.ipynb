{
 "cells": [
  {
   "cell_type": "markdown",
   "metadata": {},
   "source": [
    "### Entrenamiento de Modelos"
   ]
  },
  {
   "cell_type": "markdown",
   "metadata": {},
   "source": [
    "En todos los pasos, imprimir los resultados sobre el conjunto de entrenamiento y sobre el conjunto de test. Usar siempre GridSearchCV (con kfold) para encontrar los mejores parámetros."
   ]
  },
  {
   "cell_type": "code",
   "execution_count": 1,
   "metadata": {},
   "outputs": [],
   "source": [
    "import numpy as np\n",
    "import pandas as pd\n",
    "\n",
    "import sklearn\n",
    "from sklearn.model_selection import train_test_split\n",
    "from sklearn.model_selection import StratifiedKFold\n",
    "from sklearn.model_selection import GridSearchCV\n",
    "from sklearn.metrics import accuracy_score, precision_score, recall_score\n",
    "from sklearn.metrics import classification_report\n",
    "\n",
    "from sklearn.linear_model import LogisticRegression\n",
    "from sklearn.tree import DecisionTreeClassifier\n",
    "from sklearn.ensemble import RandomForestClassifier\n",
    "\n",
    "import xgboost as xgb\n",
    "from sklearn.neural_network import MLPClassifier\n",
    "\n",
    "## Cantidad de procesadores a ser usados\n",
    "n_jobs = 4"
   ]
  },
  {
   "cell_type": "code",
   "execution_count": 2,
   "metadata": {},
   "outputs": [
    {
     "name": "stderr",
     "output_type": "stream",
     "text": [
      "/home/nahuel/anaconda3/envs/diploDatos/lib/python3.7/site-packages/IPython/core/interactiveshell.py:3049: DtypeWarning: Columns (34,36,38,40) have mixed types. Specify dtype option on import or set low_memory=False.\n",
      "  interactivity=interactivity, compiler=compiler, result=result)\n"
     ]
    }
   ],
   "source": [
    "data = pd.read_csv('../datasets/sneep-unificado-2002-2017-CURADO.csv')"
   ]
  },
  {
   "cell_type": "markdown",
   "metadata": {},
   "source": [
    "#### Selección de atributos "
   ]
  },
  {
   "cell_type": "markdown",
   "metadata": {},
   "source": [
    "Comenzaremos usando el siguiente listado de atributos:"
   ]
  },
  {
   "cell_type": "code",
   "execution_count": 3,
   "metadata": {},
   "outputs": [],
   "source": [
    "X = data[['delito1_id','provincia_id','genero_id','nacionalidad_id',\n",
    "         'es_reincidente_id','anio_condenado','edad_al_ser_condenado',\n",
    "          'nivel_instruccion_id','estado_civil_id']].astype(int)\n",
    "y = data['duracion_condena_rango'].astype(int)\n",
    "\n",
    "xTrain, xTest, yTrain, yTest = train_test_split(X, y, test_size = 0.10, random_state = 0)"
   ]
  },
  {
   "cell_type": "markdown",
   "metadata": {},
   "source": [
    "#### Tareas a realizar:"
   ]
  },
  {
   "cell_type": "markdown",
   "metadata": {},
   "source": [
    "1- Crear una función que permita almacenar en un Dataframe de Pandas los siguientes datos:\n",
    "\"id_ejecucion\", \"tipo_modelo\", \"descripcion\", \"accuracy\", \"precision\", \"recall\". Para cada predicción sobre el modelo de test que realicemos cargar los resultados en este df, con el objetivo de tener un log de trabajo. Al finalizar guardar el df en un csv."
   ]
  },
  {
   "cell_type": "code",
   "execution_count": 4,
   "metadata": {},
   "outputs": [],
   "source": [
    "# Create the pandas DataFrame \n",
    "log = pd.DataFrame(columns = [\"id_ejecución\", \"tipo_modelo\", \"descripcion\", \"accuracy\", \"precision\", \"recall\"]) \n",
    "# Save it to .csv\n",
    "log.to_csv(\"log.csv\")"
   ]
  },
  {
   "cell_type": "code",
   "execution_count": 5,
   "metadata": {},
   "outputs": [],
   "source": [
    "def save(num_ejec, y_pred, y_true=yTest, tipo_modelo=None, descripcion=None, df=log):\n",
    "    \"\"\"\n",
    "    Función que guarda los datos del modelo\n",
    "    \"\"\"\n",
    "    \n",
    "    accuracy = accuracy_score(y_true, y_pred)\n",
    "    precision = precision_score(y_true, y_pred, average='weighted')\n",
    "    recall = recall_score(y_true, y_pred, average='weighted')\n",
    "    \n",
    "    df.loc[num_ejec] = ['ejec' + str(num_ejec)] + [tipo_modelo] + [descripcion] + [accuracy] + [precision] + [recall]\n",
    "    \n",
    "    df.to_csv(\"log.csv\")\n",
    "    \n",
    "    print(\"Reporte para el modelo número \" + str(num_ejec) + \" :\")\n",
    "    print(classification_report(y_true, y_pred))\n",
    "    print(\"Actualización de la tabla:\")\n",
    "    print(df)"
   ]
  },
  {
   "cell_type": "markdown",
   "metadata": {},
   "source": [
    "También definimos una función para hacer la búsqueda de los mejores parámetros:"
   ]
  },
  {
   "cell_type": "code",
   "execution_count": 6,
   "metadata": {},
   "outputs": [],
   "source": [
    "def grid(model, params, n_jobs=None, verbose=0):\n",
    "\n",
    "    clf = GridSearchCV(model, params, cv=StratifiedKFold(n_splits=3).split(xTrain, yTrain), \n",
    "                       n_jobs=n_jobs, verbose=verbose)\n",
    "    clf.fit(xTrain, yTrain)\n",
    "\n",
    "    print(\"Mejor conjunto de parámetros:\")\n",
    "    print(clf.best_params_, end=\"\\n\\n\")\n",
    "\n",
    "    print(\"Puntajes de la grilla:\", end=\"\\n\\n\")\n",
    "    means = clf.cv_results_['mean_test_score']\n",
    "    stds = clf.cv_results_['std_test_score']\n",
    "    for mean, std, params in zip(means, stds, clf.cv_results_['params']):\n",
    "        print(\"Exactitud: %0.4f (+/-%0.04f) para los parámetros %r\" % (np.sqrt(mean), np.sqrt(std), params))\n",
    "        \n",
    "    return clf"
   ]
  },
  {
   "cell_type": "markdown",
   "metadata": {},
   "source": [
    "2- Entrenar un modelo con LogisticRegression"
   ]
  },
  {
   "cell_type": "code",
   "execution_count": 7,
   "metadata": {},
   "outputs": [],
   "source": [
    "i = 0 # En esta variable guardamos la cantidad de modelos ejecutados hasta el momento"
   ]
  },
  {
   "cell_type": "code",
   "execution_count": 8,
   "metadata": {},
   "outputs": [
    {
     "name": "stderr",
     "output_type": "stream",
     "text": [
      "/home/nahuel/anaconda3/envs/diploDatos/lib/python3.7/site-packages/sklearn/metrics/classification.py:1437: UndefinedMetricWarning: Precision is ill-defined and being set to 0.0 in labels with no predicted samples.\n",
      "  'precision', 'predicted', average, warn_for)\n"
     ]
    },
    {
     "name": "stdout",
     "output_type": "stream",
     "text": [
      "Reporte para el modelo número 0 :\n",
      "              precision    recall  f1-score   support\n",
      "\n",
      "           1       0.00      0.00      0.00       288\n",
      "           2       0.47      0.84      0.60      2012\n",
      "           3       0.26      0.23      0.24      1658\n",
      "           4       0.28      0.09      0.14      1143\n",
      "           5       0.00      0.00      0.00       561\n",
      "           6       0.00      0.00      0.00       285\n",
      "           7       0.33      0.52      0.41       929\n",
      "\n",
      "    accuracy                           0.39      6876\n",
      "   macro avg       0.19      0.24      0.20      6876\n",
      "weighted avg       0.29      0.39      0.31      6876\n",
      "\n",
      "Actualización de la tabla:\n",
      "  id_ejecución         tipo_modelo  \\\n",
      "0        ejec0  LogisticRegression   \n",
      "\n",
      "                                         descripcion  accuracy  precision  \\\n",
      "0  default parameters (penalty=l2, C=1.0, random_...  0.386271   0.291249   \n",
      "\n",
      "     recall  \n",
      "0  0.386271  \n"
     ]
    },
    {
     "name": "stderr",
     "output_type": "stream",
     "text": [
      "/home/nahuel/anaconda3/envs/diploDatos/lib/python3.7/site-packages/sklearn/metrics/classification.py:1437: UndefinedMetricWarning: Precision and F-score are ill-defined and being set to 0.0 in labels with no predicted samples.\n",
      "  'precision', 'predicted', average, warn_for)\n"
     ]
    }
   ],
   "source": [
    "# Regresión Logística\n",
    "model = LogisticRegression(\n",
    "    random_state=0,     ## Especifico semilla para reproducibilidad\n",
    "    solver='liblinear', ## Especifico solver para evitar FutureWarning (sklearn.__version__ = 0.21.3)\n",
    "    multi_class='auto'  ## Especifico multi_class para evitar FutureWarning (sklearn.__version__ = 0.21.3)\n",
    ") \n",
    "model.fit(xTrain, yTrain)\n",
    "\n",
    "yPred = model.predict(xTest)\n",
    "\n",
    "desc = 'default parameters (penalty=l2, C=1.0, random_state=0)'\n",
    "\n",
    "save(num_ejec=i, y_pred=yPred, tipo_modelo='LogisticRegression', descripcion=desc) \n",
    "i+=1"
   ]
  },
  {
   "cell_type": "markdown",
   "metadata": {},
   "source": [
    "Buscamos mejores parámetros:"
   ]
  },
  {
   "cell_type": "code",
   "execution_count": 9,
   "metadata": {},
   "outputs": [
    {
     "name": "stdout",
     "output_type": "stream",
     "text": [
      "Mejor conjunto de parámetros:\n",
      "{'C': 1.0, 'multi_class': 'auto', 'penalty': 'l2', 'random_state': 0, 'solver': 'liblinear'}\n",
      "\n",
      "Puntajes de la grilla:\n",
      "\n",
      "Exactitud: 0.6242 (+/-0.0646) para los parámetros {'C': 0.001, 'multi_class': 'auto', 'penalty': 'l1', 'random_state': 0, 'solver': 'liblinear'}\n",
      "Exactitud: 0.6239 (+/-0.0641) para los parámetros {'C': 0.001, 'multi_class': 'auto', 'penalty': 'l2', 'random_state': 0, 'solver': 'liblinear'}\n",
      "Exactitud: 0.6242 (+/-0.0604) para los parámetros {'C': 0.01, 'multi_class': 'auto', 'penalty': 'l1', 'random_state': 0, 'solver': 'liblinear'}\n",
      "Exactitud: 0.6240 (+/-0.0594) para los parámetros {'C': 0.01, 'multi_class': 'auto', 'penalty': 'l2', 'random_state': 0, 'solver': 'liblinear'}\n",
      "Exactitud: 0.6240 (+/-0.0609) para los parámetros {'C': 0.1, 'multi_class': 'auto', 'penalty': 'l1', 'random_state': 0, 'solver': 'liblinear'}\n",
      "Exactitud: 0.6242 (+/-0.0599) para los parámetros {'C': 0.1, 'multi_class': 'auto', 'penalty': 'l2', 'random_state': 0, 'solver': 'liblinear'}\n",
      "Exactitud: 0.6241 (+/-0.0632) para los parámetros {'C': 1.0, 'multi_class': 'auto', 'penalty': 'l1', 'random_state': 0, 'solver': 'liblinear'}\n",
      "Exactitud: 0.6243 (+/-0.0599) para los parámetros {'C': 1.0, 'multi_class': 'auto', 'penalty': 'l2', 'random_state': 0, 'solver': 'liblinear'}\n",
      "Exactitud: 0.6238 (+/-0.0607) para los parámetros {'C': 10.0, 'multi_class': 'auto', 'penalty': 'l1', 'random_state': 0, 'solver': 'liblinear'}\n",
      "Exactitud: 0.6241 (+/-0.0616) para los parámetros {'C': 10.0, 'multi_class': 'auto', 'penalty': 'l2', 'random_state': 0, 'solver': 'liblinear'}\n",
      "Exactitud: 0.6238 (+/-0.0616) para los parámetros {'C': 100.0, 'multi_class': 'auto', 'penalty': 'l1', 'random_state': 0, 'solver': 'liblinear'}\n",
      "Exactitud: 0.6241 (+/-0.0596) para los parámetros {'C': 100.0, 'multi_class': 'auto', 'penalty': 'l2', 'random_state': 0, 'solver': 'liblinear'}\n",
      "Exactitud: 0.6242 (+/-0.0643) para los parámetros {'C': 1000.0, 'multi_class': 'auto', 'penalty': 'l1', 'random_state': 0, 'solver': 'liblinear'}\n",
      "Exactitud: 0.6241 (+/-0.0614) para los parámetros {'C': 1000.0, 'multi_class': 'auto', 'penalty': 'l2', 'random_state': 0, 'solver': 'liblinear'}\n"
     ]
    }
   ],
   "source": [
    "logi_para = {\n",
    "    'penalty': ['l1','l2'],   ## l1 lasso l2 ridge\n",
    "    'C': np.logspace(-3,3,7),\n",
    "    'random_state': [0],      ## Especifico semilla para reproducibilidad\n",
    "    'solver': ['liblinear'],  ## Especifico solver para evitar FutureWarning (sklearn.__version__ = 0.21.3)\n",
    "    'multi_class': ['auto']   ## Especifico multi_class para evitar FutureWarning (sklearn.__version__ = 0.21.3)\n",
    "}\n",
    "\n",
    "model = grid(model = LogisticRegression(), params = logi_para, n_jobs=n_jobs)"
   ]
  },
  {
   "cell_type": "markdown",
   "metadata": {},
   "source": [
    "Luego corremos el modelo con los mejores parámetros encontrados:"
   ]
  },
  {
   "cell_type": "code",
   "execution_count": 25,
   "metadata": {},
   "outputs": [
    {
     "name": "stdout",
     "output_type": "stream",
     "text": [
      "Reporte para el modelo número 1 :\n",
      "              precision    recall  f1-score   support\n",
      "\n",
      "           1       0.00      0.00      0.00       288\n",
      "           2       0.47      0.84      0.60      2012\n",
      "           3       0.26      0.23      0.24      1658\n",
      "           4       0.28      0.09      0.14      1143\n",
      "           5       0.00      0.00      0.00       561\n",
      "           6       0.00      0.00      0.00       285\n",
      "           7       0.33      0.52      0.41       929\n",
      "\n",
      "    accuracy                           0.39      6876\n",
      "   macro avg       0.19      0.24      0.20      6876\n",
      "weighted avg       0.29      0.39      0.31      6876\n",
      "\n",
      "Actualización de la tabla:\n",
      "  id_ejecución         tipo_modelo  \\\n",
      "0        ejec0  LogisticRegression   \n",
      "1        ejec1  LogisticRegression   \n",
      "\n",
      "                                         descripcion  accuracy  precision  \\\n",
      "0  default parameters (penalty=l2, C=1.0, random_...  0.386271   0.291249   \n",
      "1                  penalty=l2, C=1.0, random_state=0  0.386271   0.291249   \n",
      "\n",
      "     recall  \n",
      "0  0.386271  \n",
      "1  0.386271  \n"
     ]
    },
    {
     "name": "stderr",
     "output_type": "stream",
     "text": [
      "/home/nahuel/anaconda3/envs/diploDatos/lib/python3.7/site-packages/sklearn/metrics/classification.py:1437: UndefinedMetricWarning: Precision is ill-defined and being set to 0.0 in labels with no predicted samples.\n",
      "  'precision', 'predicted', average, warn_for)\n",
      "/home/nahuel/anaconda3/envs/diploDatos/lib/python3.7/site-packages/sklearn/metrics/classification.py:1437: UndefinedMetricWarning: Precision and F-score are ill-defined and being set to 0.0 in labels with no predicted samples.\n",
      "  'precision', 'predicted', average, warn_for)\n"
     ]
    }
   ],
   "source": [
    "best_params = model.best_params_\n",
    "\n",
    "model = LogisticRegression(\n",
    "    solver=best_params['solver'],\n",
    "    multi_class=best_params['multi_class'],\n",
    "    penalty=best_params['penalty'],\n",
    "    C=best_params['C'],\n",
    "    random_state=best_params['random_state']\n",
    ")\n",
    "model.fit(xTrain, yTrain)\n",
    "\n",
    "yPred = model.predict(xTest)\n",
    "\n",
    "desc = \"penalty={}, C={}, random_state={}\"\n",
    "desc = desc.format(str(best_params['penalty']),\n",
    "                str(best_params['C']), \n",
    "                str(best_params['random_state'])\n",
    "                )\n",
    "\n",
    "save(num_ejec=i, y_pred=yPred, tipo_modelo='LogisticRegression', descripcion=desc)\n",
    "i+=1"
   ]
  },
  {
   "cell_type": "markdown",
   "metadata": {},
   "source": [
    "3- Entrenar un modelo de DecisionTreeClassifier"
   ]
  },
  {
   "cell_type": "code",
   "execution_count": 26,
   "metadata": {},
   "outputs": [
    {
     "name": "stdout",
     "output_type": "stream",
     "text": [
      "Reporte para el modelo número 2 :\n",
      "              precision    recall  f1-score   support\n",
      "\n",
      "           1       0.20      0.20      0.20       288\n",
      "           2       0.56      0.65      0.60      2012\n",
      "           3       0.47      0.45      0.46      1658\n",
      "           4       0.55      0.49      0.52      1143\n",
      "           5       0.47      0.44      0.46       561\n",
      "           6       0.47      0.47      0.47       285\n",
      "           7       0.64      0.61      0.62       929\n",
      "\n",
      "    accuracy                           0.52      6876\n",
      "   macro avg       0.48      0.47      0.47      6876\n",
      "weighted avg       0.52      0.52      0.52      6876\n",
      "\n",
      "Actualización de la tabla:\n",
      "  id_ejecución             tipo_modelo  \\\n",
      "0        ejec0      LogisticRegression   \n",
      "1        ejec1      LogisticRegression   \n",
      "2        ejec2  DecisionTreeClassifier   \n",
      "\n",
      "                                         descripcion  accuracy  precision  \\\n",
      "0  default parameters (penalty=l2, C=1.0, random_...  0.386271   0.291249   \n",
      "1                  penalty=l2, C=1.0, random_state=0  0.386271   0.291249   \n",
      "2  default parameters (criterion=gini, max_depth=...  0.523851   0.522612   \n",
      "\n",
      "     recall  \n",
      "0  0.386271  \n",
      "1  0.386271  \n",
      "2  0.523851  \n"
     ]
    }
   ],
   "source": [
    "# Árbol de decision\n",
    "model = DecisionTreeClassifier(random_state=0)\n",
    "model.fit(xTrain, yTrain)\n",
    "\n",
    "yPred = model.predict(xTest)\n",
    "\n",
    "desc = 'default parameters (criterion=gini, max_depth=None, max_features=None, random_state=0)'\n",
    "\n",
    "save(num_ejec=i, y_pred=yPred, tipo_modelo='DecisionTreeClassifier', descripcion=desc)\n",
    "i+=1"
   ]
  },
  {
   "cell_type": "markdown",
   "metadata": {},
   "source": [
    "Buscamos mejores parámetros:"
   ]
  },
  {
   "cell_type": "code",
   "execution_count": 28,
   "metadata": {},
   "outputs": [
    {
     "name": "stdout",
     "output_type": "stream",
     "text": [
      "Mejor conjunto de parámetros:\n",
      "{'criterion': 'entropy', 'max_depth': None, 'max_features': None, 'random_state': 0}\n",
      "\n",
      "Puntajes de la grilla:\n",
      "\n",
      "Exactitud: 0.6918 (+/-0.0411) para los parámetros {'criterion': 'gini', 'max_depth': None, 'max_features': 'auto', 'random_state': 0}\n",
      "Exactitud: 0.6918 (+/-0.0411) para los parámetros {'criterion': 'gini', 'max_depth': None, 'max_features': 'sqrt', 'random_state': 0}\n",
      "Exactitud: 0.6918 (+/-0.0411) para los parámetros {'criterion': 'gini', 'max_depth': None, 'max_features': 'log2', 'random_state': 0}\n",
      "Exactitud: 0.7005 (+/-0.0659) para los parámetros {'criterion': 'gini', 'max_depth': None, 'max_features': None, 'random_state': 0}\n",
      "Exactitud: 0.5959 (+/-0.0372) para los parámetros {'criterion': 'gini', 'max_depth': 4, 'max_features': 'auto', 'random_state': 0}\n",
      "Exactitud: 0.5959 (+/-0.0372) para los parámetros {'criterion': 'gini', 'max_depth': 4, 'max_features': 'sqrt', 'random_state': 0}\n",
      "Exactitud: 0.5959 (+/-0.0372) para los parámetros {'criterion': 'gini', 'max_depth': 4, 'max_features': 'log2', 'random_state': 0}\n",
      "Exactitud: 0.6341 (+/-0.0708) para los parámetros {'criterion': 'gini', 'max_depth': 4, 'max_features': None, 'random_state': 0}\n",
      "Exactitud: 0.6078 (+/-0.0481) para los parámetros {'criterion': 'gini', 'max_depth': 5, 'max_features': 'auto', 'random_state': 0}\n",
      "Exactitud: 0.6078 (+/-0.0481) para los parámetros {'criterion': 'gini', 'max_depth': 5, 'max_features': 'sqrt', 'random_state': 0}\n",
      "Exactitud: 0.6078 (+/-0.0481) para los parámetros {'criterion': 'gini', 'max_depth': 5, 'max_features': 'log2', 'random_state': 0}\n",
      "Exactitud: 0.6398 (+/-0.0642) para los parámetros {'criterion': 'gini', 'max_depth': 5, 'max_features': None, 'random_state': 0}\n",
      "Exactitud: 0.6108 (+/-0.1494) para los parámetros {'criterion': 'gini', 'max_depth': 6, 'max_features': 'auto', 'random_state': 0}\n",
      "Exactitud: 0.6108 (+/-0.1494) para los parámetros {'criterion': 'gini', 'max_depth': 6, 'max_features': 'sqrt', 'random_state': 0}\n",
      "Exactitud: 0.6108 (+/-0.1494) para los parámetros {'criterion': 'gini', 'max_depth': 6, 'max_features': 'log2', 'random_state': 0}\n",
      "Exactitud: 0.6441 (+/-0.0526) para los parámetros {'criterion': 'gini', 'max_depth': 6, 'max_features': None, 'random_state': 0}\n",
      "Exactitud: 0.6238 (+/-0.0685) para los parámetros {'criterion': 'gini', 'max_depth': 7, 'max_features': 'auto', 'random_state': 0}\n",
      "Exactitud: 0.6238 (+/-0.0685) para los parámetros {'criterion': 'gini', 'max_depth': 7, 'max_features': 'sqrt', 'random_state': 0}\n",
      "Exactitud: 0.6238 (+/-0.0685) para los parámetros {'criterion': 'gini', 'max_depth': 7, 'max_features': 'log2', 'random_state': 0}\n",
      "Exactitud: 0.6492 (+/-0.0542) para los parámetros {'criterion': 'gini', 'max_depth': 7, 'max_features': None, 'random_state': 0}\n",
      "Exactitud: 0.6348 (+/-0.0752) para los parámetros {'criterion': 'gini', 'max_depth': 8, 'max_features': 'auto', 'random_state': 0}\n",
      "Exactitud: 0.6348 (+/-0.0752) para los parámetros {'criterion': 'gini', 'max_depth': 8, 'max_features': 'sqrt', 'random_state': 0}\n",
      "Exactitud: 0.6348 (+/-0.0752) para los parámetros {'criterion': 'gini', 'max_depth': 8, 'max_features': 'log2', 'random_state': 0}\n",
      "Exactitud: 0.6520 (+/-0.0608) para los parámetros {'criterion': 'gini', 'max_depth': 8, 'max_features': None, 'random_state': 0}\n",
      "Exactitud: 0.6415 (+/-0.0841) para los parámetros {'criterion': 'gini', 'max_depth': 9, 'max_features': 'auto', 'random_state': 0}\n",
      "Exactitud: 0.6415 (+/-0.0841) para los parámetros {'criterion': 'gini', 'max_depth': 9, 'max_features': 'sqrt', 'random_state': 0}\n",
      "Exactitud: 0.6415 (+/-0.0841) para los parámetros {'criterion': 'gini', 'max_depth': 9, 'max_features': 'log2', 'random_state': 0}\n",
      "Exactitud: 0.6539 (+/-0.0555) para los parámetros {'criterion': 'gini', 'max_depth': 9, 'max_features': None, 'random_state': 0}\n",
      "Exactitud: 0.6432 (+/-0.0828) para los parámetros {'criterion': 'gini', 'max_depth': 10, 'max_features': 'auto', 'random_state': 0}\n",
      "Exactitud: 0.6432 (+/-0.0828) para los parámetros {'criterion': 'gini', 'max_depth': 10, 'max_features': 'sqrt', 'random_state': 0}\n",
      "Exactitud: 0.6432 (+/-0.0828) para los parámetros {'criterion': 'gini', 'max_depth': 10, 'max_features': 'log2', 'random_state': 0}\n",
      "Exactitud: 0.6569 (+/-0.0457) para los parámetros {'criterion': 'gini', 'max_depth': 10, 'max_features': None, 'random_state': 0}\n",
      "Exactitud: 0.6463 (+/-0.0659) para los parámetros {'criterion': 'gini', 'max_depth': 11, 'max_features': 'auto', 'random_state': 0}\n",
      "Exactitud: 0.6463 (+/-0.0659) para los parámetros {'criterion': 'gini', 'max_depth': 11, 'max_features': 'sqrt', 'random_state': 0}\n",
      "Exactitud: 0.6463 (+/-0.0659) para los parámetros {'criterion': 'gini', 'max_depth': 11, 'max_features': 'log2', 'random_state': 0}\n",
      "Exactitud: 0.6621 (+/-0.0544) para los parámetros {'criterion': 'gini', 'max_depth': 11, 'max_features': None, 'random_state': 0}\n",
      "Exactitud: 0.6535 (+/-0.0555) para los parámetros {'criterion': 'gini', 'max_depth': 12, 'max_features': 'auto', 'random_state': 0}\n",
      "Exactitud: 0.6535 (+/-0.0555) para los parámetros {'criterion': 'gini', 'max_depth': 12, 'max_features': 'sqrt', 'random_state': 0}\n",
      "Exactitud: 0.6535 (+/-0.0555) para los parámetros {'criterion': 'gini', 'max_depth': 12, 'max_features': 'log2', 'random_state': 0}\n",
      "Exactitud: 0.6643 (+/-0.0649) para los parámetros {'criterion': 'gini', 'max_depth': 12, 'max_features': None, 'random_state': 0}\n",
      "Exactitud: 0.6627 (+/-0.0368) para los parámetros {'criterion': 'gini', 'max_depth': 15, 'max_features': 'auto', 'random_state': 0}\n",
      "Exactitud: 0.6627 (+/-0.0368) para los parámetros {'criterion': 'gini', 'max_depth': 15, 'max_features': 'sqrt', 'random_state': 0}\n",
      "Exactitud: 0.6627 (+/-0.0368) para los parámetros {'criterion': 'gini', 'max_depth': 15, 'max_features': 'log2', 'random_state': 0}\n",
      "Exactitud: 0.6747 (+/-0.0643) para los parámetros {'criterion': 'gini', 'max_depth': 15, 'max_features': None, 'random_state': 0}\n",
      "Exactitud: 0.6790 (+/-0.0705) para los parámetros {'criterion': 'gini', 'max_depth': 20, 'max_features': 'auto', 'random_state': 0}\n",
      "Exactitud: 0.6790 (+/-0.0705) para los parámetros {'criterion': 'gini', 'max_depth': 20, 'max_features': 'sqrt', 'random_state': 0}\n",
      "Exactitud: 0.6790 (+/-0.0705) para los parámetros {'criterion': 'gini', 'max_depth': 20, 'max_features': 'log2', 'random_state': 0}\n",
      "Exactitud: 0.6941 (+/-0.0586) para los parámetros {'criterion': 'gini', 'max_depth': 20, 'max_features': None, 'random_state': 0}\n",
      "Exactitud: 0.6928 (+/-0.0549) para los parámetros {'criterion': 'gini', 'max_depth': 30, 'max_features': 'auto', 'random_state': 0}\n",
      "Exactitud: 0.6928 (+/-0.0549) para los parámetros {'criterion': 'gini', 'max_depth': 30, 'max_features': 'sqrt', 'random_state': 0}\n",
      "Exactitud: 0.6928 (+/-0.0549) para los parámetros {'criterion': 'gini', 'max_depth': 30, 'max_features': 'log2', 'random_state': 0}\n",
      "Exactitud: 0.7007 (+/-0.0621) para los parámetros {'criterion': 'gini', 'max_depth': 30, 'max_features': None, 'random_state': 0}\n",
      "Exactitud: 0.6919 (+/-0.0254) para los parámetros {'criterion': 'gini', 'max_depth': 40, 'max_features': 'auto', 'random_state': 0}\n",
      "Exactitud: 0.6919 (+/-0.0254) para los parámetros {'criterion': 'gini', 'max_depth': 40, 'max_features': 'sqrt', 'random_state': 0}\n",
      "Exactitud: 0.6919 (+/-0.0254) para los parámetros {'criterion': 'gini', 'max_depth': 40, 'max_features': 'log2', 'random_state': 0}\n",
      "Exactitud: 0.7005 (+/-0.0659) para los parámetros {'criterion': 'gini', 'max_depth': 40, 'max_features': None, 'random_state': 0}\n",
      "Exactitud: 0.6918 (+/-0.0411) para los parámetros {'criterion': 'gini', 'max_depth': 50, 'max_features': 'auto', 'random_state': 0}\n",
      "Exactitud: 0.6918 (+/-0.0411) para los parámetros {'criterion': 'gini', 'max_depth': 50, 'max_features': 'sqrt', 'random_state': 0}\n",
      "Exactitud: 0.6918 (+/-0.0411) para los parámetros {'criterion': 'gini', 'max_depth': 50, 'max_features': 'log2', 'random_state': 0}\n",
      "Exactitud: 0.7005 (+/-0.0659) para los parámetros {'criterion': 'gini', 'max_depth': 50, 'max_features': None, 'random_state': 0}\n",
      "Exactitud: 0.6918 (+/-0.0411) para los parámetros {'criterion': 'gini', 'max_depth': 70, 'max_features': 'auto', 'random_state': 0}\n",
      "Exactitud: 0.6918 (+/-0.0411) para los parámetros {'criterion': 'gini', 'max_depth': 70, 'max_features': 'sqrt', 'random_state': 0}\n",
      "Exactitud: 0.6918 (+/-0.0411) para los parámetros {'criterion': 'gini', 'max_depth': 70, 'max_features': 'log2', 'random_state': 0}\n",
      "Exactitud: 0.7005 (+/-0.0659) para los parámetros {'criterion': 'gini', 'max_depth': 70, 'max_features': None, 'random_state': 0}\n",
      "Exactitud: 0.6918 (+/-0.0411) para los parámetros {'criterion': 'gini', 'max_depth': 90, 'max_features': 'auto', 'random_state': 0}\n",
      "Exactitud: 0.6918 (+/-0.0411) para los parámetros {'criterion': 'gini', 'max_depth': 90, 'max_features': 'sqrt', 'random_state': 0}\n",
      "Exactitud: 0.6918 (+/-0.0411) para los parámetros {'criterion': 'gini', 'max_depth': 90, 'max_features': 'log2', 'random_state': 0}\n",
      "Exactitud: 0.7005 (+/-0.0659) para los parámetros {'criterion': 'gini', 'max_depth': 90, 'max_features': None, 'random_state': 0}\n",
      "Exactitud: 0.6918 (+/-0.0411) para los parámetros {'criterion': 'gini', 'max_depth': 100, 'max_features': 'auto', 'random_state': 0}\n",
      "Exactitud: 0.6918 (+/-0.0411) para los parámetros {'criterion': 'gini', 'max_depth': 100, 'max_features': 'sqrt', 'random_state': 0}\n",
      "Exactitud: 0.6918 (+/-0.0411) para los parámetros {'criterion': 'gini', 'max_depth': 100, 'max_features': 'log2', 'random_state': 0}\n",
      "Exactitud: 0.7005 (+/-0.0659) para los parámetros {'criterion': 'gini', 'max_depth': 100, 'max_features': None, 'random_state': 0}\n",
      "Exactitud: 0.6918 (+/-0.0411) para los parámetros {'criterion': 'gini', 'max_depth': 110, 'max_features': 'auto', 'random_state': 0}\n",
      "Exactitud: 0.6918 (+/-0.0411) para los parámetros {'criterion': 'gini', 'max_depth': 110, 'max_features': 'sqrt', 'random_state': 0}\n",
      "Exactitud: 0.6918 (+/-0.0411) para los parámetros {'criterion': 'gini', 'max_depth': 110, 'max_features': 'log2', 'random_state': 0}\n",
      "Exactitud: 0.7005 (+/-0.0659) para los parámetros {'criterion': 'gini', 'max_depth': 110, 'max_features': None, 'random_state': 0}\n",
      "Exactitud: 0.6918 (+/-0.0411) para los parámetros {'criterion': 'gini', 'max_depth': 120, 'max_features': 'auto', 'random_state': 0}\n",
      "Exactitud: 0.6918 (+/-0.0411) para los parámetros {'criterion': 'gini', 'max_depth': 120, 'max_features': 'sqrt', 'random_state': 0}\n",
      "Exactitud: 0.6918 (+/-0.0411) para los parámetros {'criterion': 'gini', 'max_depth': 120, 'max_features': 'log2', 'random_state': 0}\n",
      "Exactitud: 0.7005 (+/-0.0659) para los parámetros {'criterion': 'gini', 'max_depth': 120, 'max_features': None, 'random_state': 0}\n",
      "Exactitud: 0.6918 (+/-0.0411) para los parámetros {'criterion': 'gini', 'max_depth': 130, 'max_features': 'auto', 'random_state': 0}\n",
      "Exactitud: 0.6918 (+/-0.0411) para los parámetros {'criterion': 'gini', 'max_depth': 130, 'max_features': 'sqrt', 'random_state': 0}\n",
      "Exactitud: 0.6918 (+/-0.0411) para los parámetros {'criterion': 'gini', 'max_depth': 130, 'max_features': 'log2', 'random_state': 0}\n",
      "Exactitud: 0.7005 (+/-0.0659) para los parámetros {'criterion': 'gini', 'max_depth': 130, 'max_features': None, 'random_state': 0}\n",
      "Exactitud: 0.6918 (+/-0.0411) para los parámetros {'criterion': 'gini', 'max_depth': 150, 'max_features': 'auto', 'random_state': 0}\n",
      "Exactitud: 0.6918 (+/-0.0411) para los parámetros {'criterion': 'gini', 'max_depth': 150, 'max_features': 'sqrt', 'random_state': 0}\n",
      "Exactitud: 0.6918 (+/-0.0411) para los parámetros {'criterion': 'gini', 'max_depth': 150, 'max_features': 'log2', 'random_state': 0}\n",
      "Exactitud: 0.7005 (+/-0.0659) para los parámetros {'criterion': 'gini', 'max_depth': 150, 'max_features': None, 'random_state': 0}\n",
      "Exactitud: 0.6928 (+/-0.0681) para los parámetros {'criterion': 'entropy', 'max_depth': None, 'max_features': 'auto', 'random_state': 0}\n",
      "Exactitud: 0.6928 (+/-0.0681) para los parámetros {'criterion': 'entropy', 'max_depth': None, 'max_features': 'sqrt', 'random_state': 0}\n",
      "Exactitud: 0.6928 (+/-0.0681) para los parámetros {'criterion': 'entropy', 'max_depth': None, 'max_features': 'log2', 'random_state': 0}\n",
      "Exactitud: 0.7015 (+/-0.0578) para los parámetros {'criterion': 'entropy', 'max_depth': None, 'max_features': None, 'random_state': 0}\n",
      "Exactitud: 0.5931 (+/-0.0818) para los parámetros {'criterion': 'entropy', 'max_depth': 4, 'max_features': 'auto', 'random_state': 0}\n",
      "Exactitud: 0.5931 (+/-0.0818) para los parámetros {'criterion': 'entropy', 'max_depth': 4, 'max_features': 'sqrt', 'random_state': 0}\n",
      "Exactitud: 0.5931 (+/-0.0818) para los parámetros {'criterion': 'entropy', 'max_depth': 4, 'max_features': 'log2', 'random_state': 0}\n",
      "Exactitud: 0.6362 (+/-0.0581) para los parámetros {'criterion': 'entropy', 'max_depth': 4, 'max_features': None, 'random_state': 0}\n",
      "Exactitud: 0.6083 (+/-0.0574) para los parámetros {'criterion': 'entropy', 'max_depth': 5, 'max_features': 'auto', 'random_state': 0}\n",
      "Exactitud: 0.6083 (+/-0.0574) para los parámetros {'criterion': 'entropy', 'max_depth': 5, 'max_features': 'sqrt', 'random_state': 0}\n",
      "Exactitud: 0.6083 (+/-0.0574) para los parámetros {'criterion': 'entropy', 'max_depth': 5, 'max_features': 'log2', 'random_state': 0}\n",
      "Exactitud: 0.6413 (+/-0.0557) para los parámetros {'criterion': 'entropy', 'max_depth': 5, 'max_features': None, 'random_state': 0}\n",
      "Exactitud: 0.6159 (+/-0.1205) para los parámetros {'criterion': 'entropy', 'max_depth': 6, 'max_features': 'auto', 'random_state': 0}\n",
      "Exactitud: 0.6159 (+/-0.1205) para los parámetros {'criterion': 'entropy', 'max_depth': 6, 'max_features': 'sqrt', 'random_state': 0}\n",
      "Exactitud: 0.6159 (+/-0.1205) para los parámetros {'criterion': 'entropy', 'max_depth': 6, 'max_features': 'log2', 'random_state': 0}\n",
      "Exactitud: 0.6445 (+/-0.0587) para los parámetros {'criterion': 'entropy', 'max_depth': 6, 'max_features': None, 'random_state': 0}\n",
      "Exactitud: 0.6363 (+/-0.0870) para los parámetros {'criterion': 'entropy', 'max_depth': 7, 'max_features': 'auto', 'random_state': 0}\n",
      "Exactitud: 0.6363 (+/-0.0870) para los parámetros {'criterion': 'entropy', 'max_depth': 7, 'max_features': 'sqrt', 'random_state': 0}\n",
      "Exactitud: 0.6363 (+/-0.0870) para los parámetros {'criterion': 'entropy', 'max_depth': 7, 'max_features': 'log2', 'random_state': 0}\n",
      "Exactitud: 0.6467 (+/-0.0614) para los parámetros {'criterion': 'entropy', 'max_depth': 7, 'max_features': None, 'random_state': 0}\n",
      "Exactitud: 0.6377 (+/-0.0930) para los parámetros {'criterion': 'entropy', 'max_depth': 8, 'max_features': 'auto', 'random_state': 0}\n",
      "Exactitud: 0.6377 (+/-0.0930) para los parámetros {'criterion': 'entropy', 'max_depth': 8, 'max_features': 'sqrt', 'random_state': 0}\n",
      "Exactitud: 0.6377 (+/-0.0930) para los parámetros {'criterion': 'entropy', 'max_depth': 8, 'max_features': 'log2', 'random_state': 0}\n",
      "Exactitud: 0.6538 (+/-0.0578) para los parámetros {'criterion': 'entropy', 'max_depth': 8, 'max_features': None, 'random_state': 0}\n",
      "Exactitud: 0.6395 (+/-0.0445) para los parámetros {'criterion': 'entropy', 'max_depth': 9, 'max_features': 'auto', 'random_state': 0}\n",
      "Exactitud: 0.6395 (+/-0.0445) para los parámetros {'criterion': 'entropy', 'max_depth': 9, 'max_features': 'sqrt', 'random_state': 0}\n",
      "Exactitud: 0.6395 (+/-0.0445) para los parámetros {'criterion': 'entropy', 'max_depth': 9, 'max_features': 'log2', 'random_state': 0}\n",
      "Exactitud: 0.6571 (+/-0.0582) para los parámetros {'criterion': 'entropy', 'max_depth': 9, 'max_features': None, 'random_state': 0}\n",
      "Exactitud: 0.6443 (+/-0.0498) para los parámetros {'criterion': 'entropy', 'max_depth': 10, 'max_features': 'auto', 'random_state': 0}\n",
      "Exactitud: 0.6443 (+/-0.0498) para los parámetros {'criterion': 'entropy', 'max_depth': 10, 'max_features': 'sqrt', 'random_state': 0}\n",
      "Exactitud: 0.6443 (+/-0.0498) para los parámetros {'criterion': 'entropy', 'max_depth': 10, 'max_features': 'log2', 'random_state': 0}\n",
      "Exactitud: 0.6591 (+/-0.0537) para los parámetros {'criterion': 'entropy', 'max_depth': 10, 'max_features': None, 'random_state': 0}\n",
      "Exactitud: 0.6493 (+/-0.0847) para los parámetros {'criterion': 'entropy', 'max_depth': 11, 'max_features': 'auto', 'random_state': 0}\n",
      "Exactitud: 0.6493 (+/-0.0847) para los parámetros {'criterion': 'entropy', 'max_depth': 11, 'max_features': 'sqrt', 'random_state': 0}\n",
      "Exactitud: 0.6493 (+/-0.0847) para los parámetros {'criterion': 'entropy', 'max_depth': 11, 'max_features': 'log2', 'random_state': 0}\n",
      "Exactitud: 0.6628 (+/-0.0544) para los parámetros {'criterion': 'entropy', 'max_depth': 11, 'max_features': None, 'random_state': 0}\n",
      "Exactitud: 0.6523 (+/-0.0463) para los parámetros {'criterion': 'entropy', 'max_depth': 12, 'max_features': 'auto', 'random_state': 0}\n",
      "Exactitud: 0.6523 (+/-0.0463) para los parámetros {'criterion': 'entropy', 'max_depth': 12, 'max_features': 'sqrt', 'random_state': 0}\n",
      "Exactitud: 0.6523 (+/-0.0463) para los parámetros {'criterion': 'entropy', 'max_depth': 12, 'max_features': 'log2', 'random_state': 0}\n",
      "Exactitud: 0.6665 (+/-0.0514) para los parámetros {'criterion': 'entropy', 'max_depth': 12, 'max_features': None, 'random_state': 0}\n",
      "Exactitud: 0.6642 (+/-0.0336) para los parámetros {'criterion': 'entropy', 'max_depth': 15, 'max_features': 'auto', 'random_state': 0}\n",
      "Exactitud: 0.6642 (+/-0.0336) para los parámetros {'criterion': 'entropy', 'max_depth': 15, 'max_features': 'sqrt', 'random_state': 0}\n",
      "Exactitud: 0.6642 (+/-0.0336) para los parámetros {'criterion': 'entropy', 'max_depth': 15, 'max_features': 'log2', 'random_state': 0}\n",
      "Exactitud: 0.6772 (+/-0.0538) para los parámetros {'criterion': 'entropy', 'max_depth': 15, 'max_features': None, 'random_state': 0}\n",
      "Exactitud: 0.6775 (+/-0.0941) para los parámetros {'criterion': 'entropy', 'max_depth': 20, 'max_features': 'auto', 'random_state': 0}\n",
      "Exactitud: 0.6775 (+/-0.0941) para los parámetros {'criterion': 'entropy', 'max_depth': 20, 'max_features': 'sqrt', 'random_state': 0}\n",
      "Exactitud: 0.6775 (+/-0.0941) para los parámetros {'criterion': 'entropy', 'max_depth': 20, 'max_features': 'log2', 'random_state': 0}\n",
      "Exactitud: 0.6951 (+/-0.0682) para los parámetros {'criterion': 'entropy', 'max_depth': 20, 'max_features': None, 'random_state': 0}\n",
      "Exactitud: 0.6909 (+/-0.0341) para los parámetros {'criterion': 'entropy', 'max_depth': 30, 'max_features': 'auto', 'random_state': 0}\n",
      "Exactitud: 0.6909 (+/-0.0341) para los parámetros {'criterion': 'entropy', 'max_depth': 30, 'max_features': 'sqrt', 'random_state': 0}\n",
      "Exactitud: 0.6909 (+/-0.0341) para los parámetros {'criterion': 'entropy', 'max_depth': 30, 'max_features': 'log2', 'random_state': 0}\n",
      "Exactitud: 0.7014 (+/-0.0609) para los parámetros {'criterion': 'entropy', 'max_depth': 30, 'max_features': None, 'random_state': 0}\n",
      "Exactitud: 0.6928 (+/-0.0681) para los parámetros {'criterion': 'entropy', 'max_depth': 40, 'max_features': 'auto', 'random_state': 0}\n",
      "Exactitud: 0.6928 (+/-0.0681) para los parámetros {'criterion': 'entropy', 'max_depth': 40, 'max_features': 'sqrt', 'random_state': 0}\n",
      "Exactitud: 0.6928 (+/-0.0681) para los parámetros {'criterion': 'entropy', 'max_depth': 40, 'max_features': 'log2', 'random_state': 0}\n",
      "Exactitud: 0.7015 (+/-0.0578) para los parámetros {'criterion': 'entropy', 'max_depth': 40, 'max_features': None, 'random_state': 0}\n",
      "Exactitud: 0.6928 (+/-0.0681) para los parámetros {'criterion': 'entropy', 'max_depth': 50, 'max_features': 'auto', 'random_state': 0}\n",
      "Exactitud: 0.6928 (+/-0.0681) para los parámetros {'criterion': 'entropy', 'max_depth': 50, 'max_features': 'sqrt', 'random_state': 0}\n",
      "Exactitud: 0.6928 (+/-0.0681) para los parámetros {'criterion': 'entropy', 'max_depth': 50, 'max_features': 'log2', 'random_state': 0}\n",
      "Exactitud: 0.7015 (+/-0.0578) para los parámetros {'criterion': 'entropy', 'max_depth': 50, 'max_features': None, 'random_state': 0}\n",
      "Exactitud: 0.6928 (+/-0.0681) para los parámetros {'criterion': 'entropy', 'max_depth': 70, 'max_features': 'auto', 'random_state': 0}\n",
      "Exactitud: 0.6928 (+/-0.0681) para los parámetros {'criterion': 'entropy', 'max_depth': 70, 'max_features': 'sqrt', 'random_state': 0}\n",
      "Exactitud: 0.6928 (+/-0.0681) para los parámetros {'criterion': 'entropy', 'max_depth': 70, 'max_features': 'log2', 'random_state': 0}\n",
      "Exactitud: 0.7015 (+/-0.0578) para los parámetros {'criterion': 'entropy', 'max_depth': 70, 'max_features': None, 'random_state': 0}\n",
      "Exactitud: 0.6928 (+/-0.0681) para los parámetros {'criterion': 'entropy', 'max_depth': 90, 'max_features': 'auto', 'random_state': 0}\n",
      "Exactitud: 0.6928 (+/-0.0681) para los parámetros {'criterion': 'entropy', 'max_depth': 90, 'max_features': 'sqrt', 'random_state': 0}\n",
      "Exactitud: 0.6928 (+/-0.0681) para los parámetros {'criterion': 'entropy', 'max_depth': 90, 'max_features': 'log2', 'random_state': 0}\n",
      "Exactitud: 0.7015 (+/-0.0578) para los parámetros {'criterion': 'entropy', 'max_depth': 90, 'max_features': None, 'random_state': 0}\n",
      "Exactitud: 0.6928 (+/-0.0681) para los parámetros {'criterion': 'entropy', 'max_depth': 100, 'max_features': 'auto', 'random_state': 0}\n",
      "Exactitud: 0.6928 (+/-0.0681) para los parámetros {'criterion': 'entropy', 'max_depth': 100, 'max_features': 'sqrt', 'random_state': 0}\n",
      "Exactitud: 0.6928 (+/-0.0681) para los parámetros {'criterion': 'entropy', 'max_depth': 100, 'max_features': 'log2', 'random_state': 0}\n",
      "Exactitud: 0.7015 (+/-0.0578) para los parámetros {'criterion': 'entropy', 'max_depth': 100, 'max_features': None, 'random_state': 0}\n",
      "Exactitud: 0.6928 (+/-0.0681) para los parámetros {'criterion': 'entropy', 'max_depth': 110, 'max_features': 'auto', 'random_state': 0}\n",
      "Exactitud: 0.6928 (+/-0.0681) para los parámetros {'criterion': 'entropy', 'max_depth': 110, 'max_features': 'sqrt', 'random_state': 0}\n",
      "Exactitud: 0.6928 (+/-0.0681) para los parámetros {'criterion': 'entropy', 'max_depth': 110, 'max_features': 'log2', 'random_state': 0}\n",
      "Exactitud: 0.7015 (+/-0.0578) para los parámetros {'criterion': 'entropy', 'max_depth': 110, 'max_features': None, 'random_state': 0}\n",
      "Exactitud: 0.6928 (+/-0.0681) para los parámetros {'criterion': 'entropy', 'max_depth': 120, 'max_features': 'auto', 'random_state': 0}\n",
      "Exactitud: 0.6928 (+/-0.0681) para los parámetros {'criterion': 'entropy', 'max_depth': 120, 'max_features': 'sqrt', 'random_state': 0}\n",
      "Exactitud: 0.6928 (+/-0.0681) para los parámetros {'criterion': 'entropy', 'max_depth': 120, 'max_features': 'log2', 'random_state': 0}\n",
      "Exactitud: 0.7015 (+/-0.0578) para los parámetros {'criterion': 'entropy', 'max_depth': 120, 'max_features': None, 'random_state': 0}\n",
      "Exactitud: 0.6928 (+/-0.0681) para los parámetros {'criterion': 'entropy', 'max_depth': 130, 'max_features': 'auto', 'random_state': 0}\n",
      "Exactitud: 0.6928 (+/-0.0681) para los parámetros {'criterion': 'entropy', 'max_depth': 130, 'max_features': 'sqrt', 'random_state': 0}\n",
      "Exactitud: 0.6928 (+/-0.0681) para los parámetros {'criterion': 'entropy', 'max_depth': 130, 'max_features': 'log2', 'random_state': 0}\n",
      "Exactitud: 0.7015 (+/-0.0578) para los parámetros {'criterion': 'entropy', 'max_depth': 130, 'max_features': None, 'random_state': 0}\n",
      "Exactitud: 0.6928 (+/-0.0681) para los parámetros {'criterion': 'entropy', 'max_depth': 150, 'max_features': 'auto', 'random_state': 0}\n",
      "Exactitud: 0.6928 (+/-0.0681) para los parámetros {'criterion': 'entropy', 'max_depth': 150, 'max_features': 'sqrt', 'random_state': 0}\n",
      "Exactitud: 0.6928 (+/-0.0681) para los parámetros {'criterion': 'entropy', 'max_depth': 150, 'max_features': 'log2', 'random_state': 0}\n",
      "Exactitud: 0.7015 (+/-0.0578) para los parámetros {'criterion': 'entropy', 'max_depth': 150, 'max_features': None, 'random_state': 0}\n"
     ]
    }
   ],
   "source": [
    "tree_para = {'criterion':['gini','entropy'],\n",
    "             'max_depth':[None, 4, 5, 6, 7, 8, 9, 10, 11, 12, 15, 20, 30, 40, 50, 70, 90, 100, 110, 120, 130, 150],\n",
    "             'max_features':['auto', 'sqrt', 'log2', None],\n",
    "             'random_state':[0]\n",
    "            }\n",
    "\n",
    "model = grid(model=DecisionTreeClassifier(), params=tree_para, n_jobs=n_jobs)"
   ]
  },
  {
   "cell_type": "markdown",
   "metadata": {},
   "source": [
    "Corremos el modelo con los mejores parámetros encontrados:"
   ]
  },
  {
   "cell_type": "code",
   "execution_count": 29,
   "metadata": {},
   "outputs": [
    {
     "name": "stdout",
     "output_type": "stream",
     "text": [
      "Reporte para el modelo número 3 :\n",
      "              precision    recall  f1-score   support\n",
      "\n",
      "           1       0.19      0.18      0.19       288\n",
      "           2       0.58      0.66      0.62      2012\n",
      "           3       0.49      0.47      0.48      1658\n",
      "           4       0.55      0.50      0.53      1143\n",
      "           5       0.47      0.47      0.47       561\n",
      "           6       0.46      0.45      0.45       285\n",
      "           7       0.65      0.60      0.63       929\n",
      "\n",
      "    accuracy                           0.54      6876\n",
      "   macro avg       0.49      0.48      0.48      6876\n",
      "weighted avg       0.53      0.54      0.53      6876\n",
      "\n",
      "Actualización de la tabla:\n",
      "  id_ejecución             tipo_modelo  \\\n",
      "0        ejec0      LogisticRegression   \n",
      "1        ejec1      LogisticRegression   \n",
      "2        ejec2  DecisionTreeClassifier   \n",
      "3        ejec3  DecisionTreeClassifier   \n",
      "\n",
      "                                         descripcion  accuracy  precision  \\\n",
      "0  default parameters (penalty=l2, C=1.0, random_...  0.386271   0.291249   \n",
      "1                  penalty=l2, C=1.0, random_state=0  0.386271   0.291249   \n",
      "2  default parameters (criterion=gini, max_depth=...  0.523851   0.522612   \n",
      "3  criterion=entropy, max_depth=None, max_feature...  0.535922   0.534259   \n",
      "\n",
      "     recall  \n",
      "0  0.386271  \n",
      "1  0.386271  \n",
      "2  0.523851  \n",
      "3  0.535922  \n"
     ]
    }
   ],
   "source": [
    "best_params = model.best_params_\n",
    "\n",
    "model = DecisionTreeClassifier(criterion=best_params['criterion'], \n",
    "                               max_depth=best_params['max_depth'],\n",
    "                               max_features=best_params['max_features'],\n",
    "                               random_state=best_params['random_state']\n",
    "                              )\n",
    "model.fit(xTrain, yTrain)\n",
    "\n",
    "yPred = model.predict(xTest)\n",
    "\n",
    "desc = \"criterion={}, max_depth={}, max_features={}, random_state={}\"\n",
    "desc = desc.format(str(best_params['criterion']),\n",
    "                   str(best_params['max_depth']),\n",
    "                   str(best_params['max_features']), \n",
    "                   str(best_params['random_state'])\n",
    "                  )\n",
    "\n",
    "save(num_ejec=i, y_pred=yPred, tipo_modelo='DecisionTreeClassifier', descripcion=desc)\n",
    "i+=1"
   ]
  },
  {
   "cell_type": "markdown",
   "metadata": {},
   "source": [
    "4- Entrenar un modelo Random Forest"
   ]
  },
  {
   "cell_type": "code",
   "execution_count": 10,
   "metadata": {},
   "outputs": [
    {
     "name": "stderr",
     "output_type": "stream",
     "text": [
      "/home/nahuel/anaconda3/envs/diploDatos/lib/python3.7/site-packages/sklearn/ensemble/forest.py:245: FutureWarning: The default value of n_estimators will change from 10 in version 0.20 to 100 in 0.22.\n",
      "  \"10 in version 0.20 to 100 in 0.22.\", FutureWarning)\n"
     ]
    },
    {
     "name": "stdout",
     "output_type": "stream",
     "text": [
      "Reporte para el modelo número 1 :\n",
      "              precision    recall  f1-score   support\n",
      "\n",
      "           1       0.29      0.18      0.22       288\n",
      "           2       0.57      0.68      0.62      2012\n",
      "           3       0.47      0.48      0.48      1658\n",
      "           4       0.56      0.51      0.53      1143\n",
      "           5       0.53      0.45      0.49       561\n",
      "           6       0.54      0.42      0.47       285\n",
      "           7       0.69      0.63      0.66       929\n",
      "\n",
      "    accuracy                           0.55      6876\n",
      "   macro avg       0.52      0.48      0.50      6876\n",
      "weighted avg       0.54      0.55      0.54      6876\n",
      "\n",
      "Actualización de la tabla:\n",
      "  id_ejecución             tipo_modelo  \\\n",
      "0        ejec0      LogisticRegression   \n",
      "1        ejec1  RandomForestClassifier   \n",
      "\n",
      "                                         descripcion  accuracy  precision  \\\n",
      "0  default parameters (penalty=l2, C=1.0, random_...  0.386271   0.291249   \n",
      "1  default parameters (n_estimators=10, criterion...  0.546539   0.543016   \n",
      "\n",
      "     recall  \n",
      "0  0.386271  \n",
      "1  0.546539  \n"
     ]
    }
   ],
   "source": [
    "# Random Forest\n",
    "model = RandomForestClassifier(random_state=0) \n",
    "model.fit(xTrain, yTrain)\n",
    "\n",
    "yPred = model.predict(xTest)\n",
    "\n",
    "desc = 'default parameters (n_estimators=10, criterion=gini, max_depth=None, max_features=auto, random_state=0)'\n",
    "\n",
    "save(num_ejec=i, y_pred=yPred, tipo_modelo='RandomForestClassifier', descripcion=desc) \n",
    "i+=1"
   ]
  },
  {
   "cell_type": "markdown",
   "metadata": {},
   "source": [
    "Buscamos mejores parámetros:"
   ]
  },
  {
   "cell_type": "code",
   "execution_count": 10,
   "metadata": {},
   "outputs": [
    {
     "name": "stdout",
     "output_type": "stream",
     "text": [
      "Fitting 3 folds for each of 3200 candidates, totalling 9600 fits\n"
     ]
    },
    {
     "name": "stderr",
     "output_type": "stream",
     "text": [
      "[Parallel(n_jobs=4)]: Using backend LokyBackend with 4 concurrent workers.\n",
      "[Parallel(n_jobs=4)]: Done   5 tasks      | elapsed:    2.6s\n",
      "[Parallel(n_jobs=4)]: Done  10 tasks      | elapsed:    4.5s\n",
      "[Parallel(n_jobs=4)]: Done  17 tasks      | elapsed:    8.0s\n",
      "[Parallel(n_jobs=4)]: Done  24 tasks      | elapsed:   13.0s\n",
      "/home/nahuel/anaconda3/envs/diploDatos/lib/python3.7/site-packages/joblib/externals/loky/process_executor.py:706: UserWarning: A worker stopped while some jobs were given to the executor. This can be caused by a too short worker timeout or by a memory leak.\n",
      "  \"timeout or by a memory leak.\", UserWarning\n"
     ]
    },
    {
     "ename": "KeyboardInterrupt",
     "evalue": "",
     "output_type": "error",
     "traceback": [
      "\u001b[0;31m---------------------------------------------------------------------------\u001b[0m",
      "\u001b[0;31mKeyboardInterrupt\u001b[0m                         Traceback (most recent call last)",
      "\u001b[0;32m<ipython-input-10-2381a6d5ed5e>\u001b[0m in \u001b[0;36m<module>\u001b[0;34m\u001b[0m\n\u001b[1;32m      6\u001b[0m             }\n\u001b[1;32m      7\u001b[0m \u001b[0;34m\u001b[0m\u001b[0m\n\u001b[0;32m----> 8\u001b[0;31m \u001b[0mmodel\u001b[0m \u001b[0;34m=\u001b[0m \u001b[0mgrid\u001b[0m\u001b[0;34m(\u001b[0m\u001b[0mmodel\u001b[0m\u001b[0;34m=\u001b[0m\u001b[0mRandomForestClassifier\u001b[0m\u001b[0;34m(\u001b[0m\u001b[0;34m)\u001b[0m\u001b[0;34m,\u001b[0m \u001b[0mparams\u001b[0m\u001b[0;34m=\u001b[0m\u001b[0mrand_para\u001b[0m\u001b[0;34m,\u001b[0m \u001b[0mn_jobs\u001b[0m\u001b[0;34m=\u001b[0m\u001b[0mn_jobs\u001b[0m\u001b[0;34m,\u001b[0m \u001b[0mverbose\u001b[0m\u001b[0;34m=\u001b[0m\u001b[0;36m10\u001b[0m\u001b[0;34m)\u001b[0m\u001b[0;34m\u001b[0m\u001b[0;34m\u001b[0m\u001b[0m\n\u001b[0m",
      "\u001b[0;32m<ipython-input-6-c84413f645f4>\u001b[0m in \u001b[0;36mgrid\u001b[0;34m(model, params, n_jobs, verbose)\u001b[0m\n\u001b[1;32m      3\u001b[0m     clf = GridSearchCV(model, params, cv=StratifiedKFold(n_splits=3).split(xTrain, yTrain), \n\u001b[1;32m      4\u001b[0m                        n_jobs=n_jobs, verbose=verbose)\n\u001b[0;32m----> 5\u001b[0;31m     \u001b[0mclf\u001b[0m\u001b[0;34m.\u001b[0m\u001b[0mfit\u001b[0m\u001b[0;34m(\u001b[0m\u001b[0mxTrain\u001b[0m\u001b[0;34m,\u001b[0m \u001b[0myTrain\u001b[0m\u001b[0;34m)\u001b[0m\u001b[0;34m\u001b[0m\u001b[0;34m\u001b[0m\u001b[0m\n\u001b[0m\u001b[1;32m      6\u001b[0m \u001b[0;34m\u001b[0m\u001b[0m\n\u001b[1;32m      7\u001b[0m     \u001b[0mprint\u001b[0m\u001b[0;34m(\u001b[0m\u001b[0;34m\"Mejor conjunto de parámetros:\"\u001b[0m\u001b[0;34m)\u001b[0m\u001b[0;34m\u001b[0m\u001b[0;34m\u001b[0m\u001b[0m\n",
      "\u001b[0;32m~/anaconda3/envs/diploDatos/lib/python3.7/site-packages/sklearn/model_selection/_search.py\u001b[0m in \u001b[0;36mfit\u001b[0;34m(self, X, y, groups, **fit_params)\u001b[0m\n\u001b[1;32m    686\u001b[0m                 \u001b[0;32mreturn\u001b[0m \u001b[0mresults\u001b[0m\u001b[0;34m\u001b[0m\u001b[0;34m\u001b[0m\u001b[0m\n\u001b[1;32m    687\u001b[0m \u001b[0;34m\u001b[0m\u001b[0m\n\u001b[0;32m--> 688\u001b[0;31m             \u001b[0mself\u001b[0m\u001b[0;34m.\u001b[0m\u001b[0m_run_search\u001b[0m\u001b[0;34m(\u001b[0m\u001b[0mevaluate_candidates\u001b[0m\u001b[0;34m)\u001b[0m\u001b[0;34m\u001b[0m\u001b[0;34m\u001b[0m\u001b[0m\n\u001b[0m\u001b[1;32m    689\u001b[0m \u001b[0;34m\u001b[0m\u001b[0m\n\u001b[1;32m    690\u001b[0m         \u001b[0;31m# For multi-metric evaluation, store the best_index_, best_params_ and\u001b[0m\u001b[0;34m\u001b[0m\u001b[0;34m\u001b[0m\u001b[0;34m\u001b[0m\u001b[0m\n",
      "\u001b[0;32m~/anaconda3/envs/diploDatos/lib/python3.7/site-packages/sklearn/model_selection/_search.py\u001b[0m in \u001b[0;36m_run_search\u001b[0;34m(self, evaluate_candidates)\u001b[0m\n\u001b[1;32m   1147\u001b[0m     \u001b[0;32mdef\u001b[0m \u001b[0m_run_search\u001b[0m\u001b[0;34m(\u001b[0m\u001b[0mself\u001b[0m\u001b[0;34m,\u001b[0m \u001b[0mevaluate_candidates\u001b[0m\u001b[0;34m)\u001b[0m\u001b[0;34m:\u001b[0m\u001b[0;34m\u001b[0m\u001b[0;34m\u001b[0m\u001b[0m\n\u001b[1;32m   1148\u001b[0m         \u001b[0;34m\"\"\"Search all candidates in param_grid\"\"\"\u001b[0m\u001b[0;34m\u001b[0m\u001b[0;34m\u001b[0m\u001b[0m\n\u001b[0;32m-> 1149\u001b[0;31m         \u001b[0mevaluate_candidates\u001b[0m\u001b[0;34m(\u001b[0m\u001b[0mParameterGrid\u001b[0m\u001b[0;34m(\u001b[0m\u001b[0mself\u001b[0m\u001b[0;34m.\u001b[0m\u001b[0mparam_grid\u001b[0m\u001b[0;34m)\u001b[0m\u001b[0;34m)\u001b[0m\u001b[0;34m\u001b[0m\u001b[0;34m\u001b[0m\u001b[0m\n\u001b[0m\u001b[1;32m   1150\u001b[0m \u001b[0;34m\u001b[0m\u001b[0m\n\u001b[1;32m   1151\u001b[0m \u001b[0;34m\u001b[0m\u001b[0m\n",
      "\u001b[0;32m~/anaconda3/envs/diploDatos/lib/python3.7/site-packages/sklearn/model_selection/_search.py\u001b[0m in \u001b[0;36mevaluate_candidates\u001b[0;34m(candidate_params)\u001b[0m\n\u001b[1;32m    665\u001b[0m                                \u001b[0;32mfor\u001b[0m \u001b[0mparameters\u001b[0m\u001b[0;34m,\u001b[0m \u001b[0;34m(\u001b[0m\u001b[0mtrain\u001b[0m\u001b[0;34m,\u001b[0m \u001b[0mtest\u001b[0m\u001b[0;34m)\u001b[0m\u001b[0;34m\u001b[0m\u001b[0;34m\u001b[0m\u001b[0m\n\u001b[1;32m    666\u001b[0m                                in product(candidate_params,\n\u001b[0;32m--> 667\u001b[0;31m                                           cv.split(X, y, groups)))\n\u001b[0m\u001b[1;32m    668\u001b[0m \u001b[0;34m\u001b[0m\u001b[0m\n\u001b[1;32m    669\u001b[0m                 \u001b[0;32mif\u001b[0m \u001b[0mlen\u001b[0m\u001b[0;34m(\u001b[0m\u001b[0mout\u001b[0m\u001b[0;34m)\u001b[0m \u001b[0;34m<\u001b[0m \u001b[0;36m1\u001b[0m\u001b[0;34m:\u001b[0m\u001b[0;34m\u001b[0m\u001b[0;34m\u001b[0m\u001b[0m\n",
      "\u001b[0;32m~/anaconda3/envs/diploDatos/lib/python3.7/site-packages/joblib/parallel.py\u001b[0m in \u001b[0;36m__call__\u001b[0;34m(self, iterable)\u001b[0m\n\u001b[1;32m    932\u001b[0m \u001b[0;34m\u001b[0m\u001b[0m\n\u001b[1;32m    933\u001b[0m             \u001b[0;32mwith\u001b[0m \u001b[0mself\u001b[0m\u001b[0;34m.\u001b[0m\u001b[0m_backend\u001b[0m\u001b[0;34m.\u001b[0m\u001b[0mretrieval_context\u001b[0m\u001b[0;34m(\u001b[0m\u001b[0;34m)\u001b[0m\u001b[0;34m:\u001b[0m\u001b[0;34m\u001b[0m\u001b[0;34m\u001b[0m\u001b[0m\n\u001b[0;32m--> 934\u001b[0;31m                 \u001b[0mself\u001b[0m\u001b[0;34m.\u001b[0m\u001b[0mretrieve\u001b[0m\u001b[0;34m(\u001b[0m\u001b[0;34m)\u001b[0m\u001b[0;34m\u001b[0m\u001b[0;34m\u001b[0m\u001b[0m\n\u001b[0m\u001b[1;32m    935\u001b[0m             \u001b[0;31m# Make sure that we get a last message telling us we are done\u001b[0m\u001b[0;34m\u001b[0m\u001b[0;34m\u001b[0m\u001b[0;34m\u001b[0m\u001b[0m\n\u001b[1;32m    936\u001b[0m             \u001b[0melapsed_time\u001b[0m \u001b[0;34m=\u001b[0m \u001b[0mtime\u001b[0m\u001b[0;34m.\u001b[0m\u001b[0mtime\u001b[0m\u001b[0;34m(\u001b[0m\u001b[0;34m)\u001b[0m \u001b[0;34m-\u001b[0m \u001b[0mself\u001b[0m\u001b[0;34m.\u001b[0m\u001b[0m_start_time\u001b[0m\u001b[0;34m\u001b[0m\u001b[0;34m\u001b[0m\u001b[0m\n",
      "\u001b[0;32m~/anaconda3/envs/diploDatos/lib/python3.7/site-packages/joblib/parallel.py\u001b[0m in \u001b[0;36mretrieve\u001b[0;34m(self)\u001b[0m\n\u001b[1;32m    831\u001b[0m             \u001b[0;32mtry\u001b[0m\u001b[0;34m:\u001b[0m\u001b[0;34m\u001b[0m\u001b[0;34m\u001b[0m\u001b[0m\n\u001b[1;32m    832\u001b[0m                 \u001b[0;32mif\u001b[0m \u001b[0mgetattr\u001b[0m\u001b[0;34m(\u001b[0m\u001b[0mself\u001b[0m\u001b[0;34m.\u001b[0m\u001b[0m_backend\u001b[0m\u001b[0;34m,\u001b[0m \u001b[0;34m'supports_timeout'\u001b[0m\u001b[0;34m,\u001b[0m \u001b[0;32mFalse\u001b[0m\u001b[0;34m)\u001b[0m\u001b[0;34m:\u001b[0m\u001b[0;34m\u001b[0m\u001b[0;34m\u001b[0m\u001b[0m\n\u001b[0;32m--> 833\u001b[0;31m                     \u001b[0mself\u001b[0m\u001b[0;34m.\u001b[0m\u001b[0m_output\u001b[0m\u001b[0;34m.\u001b[0m\u001b[0mextend\u001b[0m\u001b[0;34m(\u001b[0m\u001b[0mjob\u001b[0m\u001b[0;34m.\u001b[0m\u001b[0mget\u001b[0m\u001b[0;34m(\u001b[0m\u001b[0mtimeout\u001b[0m\u001b[0;34m=\u001b[0m\u001b[0mself\u001b[0m\u001b[0;34m.\u001b[0m\u001b[0mtimeout\u001b[0m\u001b[0;34m)\u001b[0m\u001b[0;34m)\u001b[0m\u001b[0;34m\u001b[0m\u001b[0;34m\u001b[0m\u001b[0m\n\u001b[0m\u001b[1;32m    834\u001b[0m                 \u001b[0;32melse\u001b[0m\u001b[0;34m:\u001b[0m\u001b[0;34m\u001b[0m\u001b[0;34m\u001b[0m\u001b[0m\n\u001b[1;32m    835\u001b[0m                     \u001b[0mself\u001b[0m\u001b[0;34m.\u001b[0m\u001b[0m_output\u001b[0m\u001b[0;34m.\u001b[0m\u001b[0mextend\u001b[0m\u001b[0;34m(\u001b[0m\u001b[0mjob\u001b[0m\u001b[0;34m.\u001b[0m\u001b[0mget\u001b[0m\u001b[0;34m(\u001b[0m\u001b[0;34m)\u001b[0m\u001b[0;34m)\u001b[0m\u001b[0;34m\u001b[0m\u001b[0;34m\u001b[0m\u001b[0m\n",
      "\u001b[0;32m~/anaconda3/envs/diploDatos/lib/python3.7/site-packages/joblib/_parallel_backends.py\u001b[0m in \u001b[0;36mwrap_future_result\u001b[0;34m(future, timeout)\u001b[0m\n\u001b[1;32m    519\u001b[0m         AsyncResults.get from multiprocessing.\"\"\"\n\u001b[1;32m    520\u001b[0m         \u001b[0;32mtry\u001b[0m\u001b[0;34m:\u001b[0m\u001b[0;34m\u001b[0m\u001b[0;34m\u001b[0m\u001b[0m\n\u001b[0;32m--> 521\u001b[0;31m             \u001b[0;32mreturn\u001b[0m \u001b[0mfuture\u001b[0m\u001b[0;34m.\u001b[0m\u001b[0mresult\u001b[0m\u001b[0;34m(\u001b[0m\u001b[0mtimeout\u001b[0m\u001b[0;34m=\u001b[0m\u001b[0mtimeout\u001b[0m\u001b[0;34m)\u001b[0m\u001b[0;34m\u001b[0m\u001b[0;34m\u001b[0m\u001b[0m\n\u001b[0m\u001b[1;32m    522\u001b[0m         \u001b[0;32mexcept\u001b[0m \u001b[0mLokyTimeoutError\u001b[0m\u001b[0;34m:\u001b[0m\u001b[0;34m\u001b[0m\u001b[0;34m\u001b[0m\u001b[0m\n\u001b[1;32m    523\u001b[0m             \u001b[0;32mraise\u001b[0m \u001b[0mTimeoutError\u001b[0m\u001b[0;34m(\u001b[0m\u001b[0;34m)\u001b[0m\u001b[0;34m\u001b[0m\u001b[0;34m\u001b[0m\u001b[0m\n",
      "\u001b[0;32m~/anaconda3/envs/diploDatos/lib/python3.7/concurrent/futures/_base.py\u001b[0m in \u001b[0;36mresult\u001b[0;34m(self, timeout)\u001b[0m\n\u001b[1;32m    428\u001b[0m                 \u001b[0;32mreturn\u001b[0m \u001b[0mself\u001b[0m\u001b[0;34m.\u001b[0m\u001b[0m__get_result\u001b[0m\u001b[0;34m(\u001b[0m\u001b[0;34m)\u001b[0m\u001b[0;34m\u001b[0m\u001b[0;34m\u001b[0m\u001b[0m\n\u001b[1;32m    429\u001b[0m \u001b[0;34m\u001b[0m\u001b[0m\n\u001b[0;32m--> 430\u001b[0;31m             \u001b[0mself\u001b[0m\u001b[0;34m.\u001b[0m\u001b[0m_condition\u001b[0m\u001b[0;34m.\u001b[0m\u001b[0mwait\u001b[0m\u001b[0;34m(\u001b[0m\u001b[0mtimeout\u001b[0m\u001b[0;34m)\u001b[0m\u001b[0;34m\u001b[0m\u001b[0;34m\u001b[0m\u001b[0m\n\u001b[0m\u001b[1;32m    431\u001b[0m \u001b[0;34m\u001b[0m\u001b[0m\n\u001b[1;32m    432\u001b[0m             \u001b[0;32mif\u001b[0m \u001b[0mself\u001b[0m\u001b[0;34m.\u001b[0m\u001b[0m_state\u001b[0m \u001b[0;32min\u001b[0m \u001b[0;34m[\u001b[0m\u001b[0mCANCELLED\u001b[0m\u001b[0;34m,\u001b[0m \u001b[0mCANCELLED_AND_NOTIFIED\u001b[0m\u001b[0;34m]\u001b[0m\u001b[0;34m:\u001b[0m\u001b[0;34m\u001b[0m\u001b[0;34m\u001b[0m\u001b[0m\n",
      "\u001b[0;32m~/anaconda3/envs/diploDatos/lib/python3.7/threading.py\u001b[0m in \u001b[0;36mwait\u001b[0;34m(self, timeout)\u001b[0m\n\u001b[1;32m    294\u001b[0m         \u001b[0;32mtry\u001b[0m\u001b[0;34m:\u001b[0m    \u001b[0;31m# restore state no matter what (e.g., KeyboardInterrupt)\u001b[0m\u001b[0;34m\u001b[0m\u001b[0;34m\u001b[0m\u001b[0m\n\u001b[1;32m    295\u001b[0m             \u001b[0;32mif\u001b[0m \u001b[0mtimeout\u001b[0m \u001b[0;32mis\u001b[0m \u001b[0;32mNone\u001b[0m\u001b[0;34m:\u001b[0m\u001b[0;34m\u001b[0m\u001b[0;34m\u001b[0m\u001b[0m\n\u001b[0;32m--> 296\u001b[0;31m                 \u001b[0mwaiter\u001b[0m\u001b[0;34m.\u001b[0m\u001b[0macquire\u001b[0m\u001b[0;34m(\u001b[0m\u001b[0;34m)\u001b[0m\u001b[0;34m\u001b[0m\u001b[0;34m\u001b[0m\u001b[0m\n\u001b[0m\u001b[1;32m    297\u001b[0m                 \u001b[0mgotit\u001b[0m \u001b[0;34m=\u001b[0m \u001b[0;32mTrue\u001b[0m\u001b[0;34m\u001b[0m\u001b[0;34m\u001b[0m\u001b[0m\n\u001b[1;32m    298\u001b[0m             \u001b[0;32melse\u001b[0m\u001b[0;34m:\u001b[0m\u001b[0;34m\u001b[0m\u001b[0;34m\u001b[0m\u001b[0m\n",
      "\u001b[0;31mKeyboardInterrupt\u001b[0m: "
     ]
    }
   ],
   "source": [
    "rand_para = {'n_estimators':[5, 10, 15, 20, 25, 30, 35, 40, 50, 60, 10, 80, 90, 100, 200, 300, 320, 350, 400, 450],\n",
    "             'criterion':['gini', 'entropy'],\n",
    "             'max_depth':[None, 8, 9, 10, 11, 12, 15, 20, 30, 40, 50, 70, 90, 100, 110, 120, 130, 150, 200, 250],\n",
    "             'max_features':['sqrt', 'log2', None],\n",
    "             'random_state': [0],\n",
    "            }\n",
    "\n",
    "model = grid(model=RandomForestClassifier(), params=rand_para, n_jobs=n_jobs, verbose=10)"
   ]
  },
  {
   "cell_type": "markdown",
   "metadata": {},
   "source": [
    "(La celda anterior tardó aproximadamente un día en ejecutarse)."
   ]
  },
  {
   "cell_type": "markdown",
   "metadata": {},
   "source": [
    "Corremos el modelo con los mejores parámetros encontrados:"
   ]
  },
  {
   "cell_type": "code",
   "execution_count": null,
   "metadata": {},
   "outputs": [],
   "source": [
    "best_params = model.best_params_\n",
    "\n",
    "model = RandomForestClassifier(n_estimators=best_params['n_estimators'],\n",
    "                               criterion=best_params['criterion'],\n",
    "                               max_depth=best_params['max_depth'],\n",
    "                               max_features=best_params['max_features'],\n",
    "                               random_state=best_params['random_state']\n",
    "                              )\n",
    "model.fit(xTrain, yTrain)\n",
    "\n",
    "yPred = model.predict(xTest)\n",
    "\n",
    "desc = \"n_estimators={}, criterion={}, max_depth={}, max_features={}, random_state={}\"\n",
    "desc = desc.format(str(best_params['n_estimators']),\n",
    "                   str(best_params['criterion']),\n",
    "                   str(best_params['max_depth']), \n",
    "                   str(best_params['max_features']),\n",
    "                   str(best_params['random_state'])\n",
    "                  )\n",
    "                \n",
    "save(num_ejec=i, y_pred=yPred, tipo_modelo='RandomForestClassifier', descripcion=desc)\n",
    "i+=1"
   ]
  },
  {
   "cell_type": "markdown",
   "metadata": {},
   "source": [
    "5- Entrenar un modelo con XGBoost\n",
    "(Ejemplo: https://www.kaggle.com/rozester/xgboost-example-python)"
   ]
  },
  {
   "cell_type": "code",
   "execution_count": null,
   "metadata": {
    "scrolled": true
   },
   "outputs": [],
   "source": [
    "# XGBoost \n",
    "model = xgb.XGBClassifier(random_state=0)\n",
    "model.fit(xTrain, yTrain)\n",
    "\n",
    "yPred = model.predict(xTest)\n",
    "\n",
    "desc = 'default parameters (max_depth=3, learning_rate=0.1, n_estimators=100, random_state=0)'\n",
    "\n",
    "save(num_ejec=i, y_pred=yPred, tipo_modelo='XGBClassifier', descripcion=desc) \n",
    "i+=1"
   ]
  },
  {
   "cell_type": "markdown",
   "metadata": {},
   "source": [
    "Buscamos mejores parámetros:"
   ]
  },
  {
   "cell_type": "code",
   "execution_count": null,
   "metadata": {},
   "outputs": [],
   "source": [
    "xgb_para = {'n_estimators':[5, 10, 15, 20, 25, 30, 35, 40, 50, 60, 10, 80, 90, 100, 200, 300, 320, 340, 350, 400],\n",
    "            'max_depth':[3, 6, 8, 9, 10, 11, 12, 15, 20, 30, 40, 50, 70, 90, 100, 110, 120, 130, 150, 200, 300],\n",
    "            'learning_rate':[0.01, 0.05, 0.1],\n",
    "            'random_state':[0]\n",
    "           }\n",
    "\n",
    "model = grid(model=xgb.XGBClassifier(), params=xgb_para, n_jobs=n_jobs)"
   ]
  },
  {
   "cell_type": "markdown",
   "metadata": {},
   "source": [
    "(la anterior celda tarda días en ejecutarse, habría que enviarla al cluster)"
   ]
  },
  {
   "cell_type": "markdown",
   "metadata": {},
   "source": [
    "Corremos el modelo con los mejores parámetros encontrados:"
   ]
  },
  {
   "cell_type": "code",
   "execution_count": null,
   "metadata": {},
   "outputs": [],
   "source": [
    "best_params = model.best_params_\n",
    "\n",
    "model = xgb.XGBClassifier(n_estimators=best_params['n_estimators'], \n",
    "                          max_depth=best_params['max_depth'],\n",
    "                          learning_rate=best_params['learning_rate'],\n",
    "                          random_state=best_params['random_state']\n",
    "                         )\n",
    "model.fit(xTrain, yTrain)\n",
    "\n",
    "yPred = model.predict(xTest)\n",
    "\n",
    "desc = \"n_estimators={}, max_depth={}, learning_rate={}, random_state={}\"\n",
    "desc = desc.format(str(best_params['n_estimators']),\n",
    "                str(best_params['max_depth']), \n",
    "                str(best_params['learning_rate']),\n",
    "                str(best_params['random_state'])\n",
    "                )\n",
    "\n",
    "save(num_ejec=i, y_pred=yPred, tipo_modelo='XGBClassifier', descripcion=desc)\n",
    "i+=1"
   ]
  }
 ],
 "metadata": {
  "kernelspec": {
   "display_name": "diploDatos",
   "language": "python",
   "name": "diplodatos"
  },
  "language_info": {
   "codemirror_mode": {
    "name": "ipython",
    "version": 3
   },
   "file_extension": ".py",
   "mimetype": "text/x-python",
   "name": "python",
   "nbconvert_exporter": "python",
   "pygments_lexer": "ipython3",
   "version": "3.7.4"
  }
 },
 "nbformat": 4,
 "nbformat_minor": 4
}
