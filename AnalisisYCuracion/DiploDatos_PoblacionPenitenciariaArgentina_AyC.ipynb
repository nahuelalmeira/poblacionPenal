{
 "cells": [
  {
   "cell_type": "markdown",
   "metadata": {
    "colab_type": "text",
    "id": "view-in-github"
   },
   "source": [
    "<a href=\"https://colab.research.google.com/github/nahuelalmeira/poblacionPenal/blob/master/AnalisisYCuracion/DiploDatos_PoblacionPenitenciariaArgentina_AyC.ipynb\" target=\"_parent\"><img src=\"https://colab.research.google.com/assets/colab-badge.svg\" alt=\"Open In Colab\"/></a>"
   ]
  },
  {
   "cell_type": "markdown",
   "metadata": {
    "colab_type": "text",
    "id": "er50CAdUP5-C"
   },
   "source": [
    "# DiploDatos 2019 -  Población Penitenciaria en Argentina"
   ]
  },
  {
   "cell_type": "markdown",
   "metadata": {
    "colab_type": "text",
    "id": "Ob8rhY4xQFCZ"
   },
   "source": [
    "\n",
    "\n",
    "\n",
    "> http://diplodatos.famaf.unc.edu.ar/poblacion-penitenciaria-en-argentina-2002-a-2017/\n",
    "\n",
    "\n"
   ]
  },
  {
   "cell_type": "markdown",
   "metadata": {
    "colab_type": "text",
    "id": "pBy37x-nOl0m"
   },
   "source": [
    "## Práctico Análisis y Curación de Datos"
   ]
  },
  {
   "cell_type": "markdown",
   "metadata": {
    "colab_type": "text",
    "id": "e9JpNwvnJ7b_"
   },
   "source": [
    "En este notebook trabajaremos sobre el dataset original extraído del portal de datos abiertos de la nación:\n",
    "\n",
    "https://datos.gob.ar/dataset/justicia-sistema-nacional-estadisticas-sobre-ejecucion-pena---sneep\n",
    "\n",
    "El objetivo de este trabajo será el de procesar el conjunto de datos para poder utilizarlos en el análisis exploratorio de los mismos. Los entregables del trabajo serán:\n",
    "\n",
    "1- Dataset con características similares al entregado para el primer práctico:\n",
    "\n",
    "https://github.com/camporeale/Datos/raw/master/sneep_2017_diplodatos.zip\n",
    "\n",
    "2- Notebook con el análisis del dataset y los pasos ejecutados para la limpieza del mismo.\n",
    "\n",
    "3- Script de python que permita automatizar el procesamiento. Debe poder pasarsele por parámetros la versión 2002-2017 del dataset y ejecutar correctamente."
   ]
  },
  {
   "cell_type": "markdown",
   "metadata": {
    "colab_type": "text",
    "id": "So2jL_sVMUoP"
   },
   "source": [
    "### Inicialización y carga de datos"
   ]
  },
  {
   "cell_type": "code",
   "execution_count": 1,
   "metadata": {
    "colab": {},
    "colab_type": "code",
    "id": "OzQIHr0ryXj-"
   },
   "outputs": [],
   "source": [
    "# Importamos las librerías necesarias\n",
    "import sys\n",
    "import os\n",
    "import numpy as np\n",
    "import pandas as pd\n",
    "import matplotlib.pyplot as plt\n",
    "import seaborn as sns\n",
    "%matplotlib inline\n",
    "\n",
    "sys.path.append('../config')\n",
    "from mpl_settings_v3 import *\n",
    "\n",
    "pd.set_option('display.max_columns', 50)\n",
    "pd.set_option('display.max_columns', 100)"
   ]
  },
  {
   "cell_type": "code",
   "execution_count": 2,
   "metadata": {
    "colab": {
     "base_uri": "https://localhost:8080/",
     "height": 73
    },
    "colab_type": "code",
    "id": "JRFpX9UOykhz",
    "outputId": "b78c2deb-f341-412f-b943-8168513ebc71"
   },
   "outputs": [
    {
     "name": "stderr",
     "output_type": "stream",
     "text": [
      "/home/lucia/.anaconda3/lib/python3.7/site-packages/IPython/core/interactiveshell.py:3049: DtypeWarning: Columns (39) have mixed types. Specify dtype option on import or set low_memory=False.\n",
      "  interactivity=interactivity, compiler=compiler, result=result)\n"
     ]
    }
   ],
   "source": [
    "# Cargamos el CSV en un dataframe\n",
    "input_file = '../datasets/sneep-2017.csv'\n",
    "if os.path.isfile(input_file):\n",
    "    url = input_file\n",
    "    data_raw = pd.read_csv(url, index_col=0)\n",
    "else:\n",
    "    url = 'http://datos.jus.gob.ar/dataset/6c03af36-6a1d-4306-b2a8-dd39ad73afb3/resource/af0a64da-6d06-45cf-a86c-de00f09221d8/download/sneep-2017.csv'\n",
    "    data_raw = pd.read_csv(url, index_col=0)"
   ]
  },
  {
   "cell_type": "markdown",
   "metadata": {
    "colab_type": "text",
    "id": "pzyW2avcMd_8"
   },
   "source": [
    "### Análisis"
   ]
  },
  {
   "cell_type": "code",
   "execution_count": 3,
   "metadata": {
    "colab": {
     "base_uri": "https://localhost:8080/",
     "height": 53
    },
    "colab_type": "code",
    "id": "JNw3qMGTf5b8",
    "outputId": "af764f4b-5beb-4459-9e70-15012bc564da"
   },
   "outputs": [
    {
     "name": "stdout",
     "output_type": "stream",
     "text": [
      "Cantidad de registros:  85283\n",
      "Cantidad de columnas:  86\n"
     ]
    }
   ],
   "source": [
    "# Obtenemos la cantidad de filas y columnas\n",
    "print(\"Cantidad de registros: \", data_raw.shape[0])\n",
    "print(\"Cantidad de columnas: \", data_raw.shape[1])"
   ]
  },
  {
   "cell_type": "code",
   "execution_count": 4,
   "metadata": {
    "colab": {
     "base_uri": "https://localhost:8080/",
     "height": 1133
    },
    "colab_type": "code",
    "id": "oeyqebSkP45j",
    "outputId": "21804bce-6f1f-4fd4-ef94-96d4d43034a5"
   },
   "outputs": [
    {
     "data": {
      "text/plain": [
       "provincia_id                                            int64\n",
       "provincia_descripcion                                  object\n",
       "establecimiento_id                                      int64\n",
       "establecimiento_descripcion                            object\n",
       "edad                                                  float64\n",
       "genero_id                                               int64\n",
       "genero_descripcion                                     object\n",
       "nacionalidad_id                                         int64\n",
       "nacionalidad_descripcion                               object\n",
       "estado_civil_id                                       float64\n",
       "estado_civil_descripcion                               object\n",
       "nivel_instruccion_id                                  float64\n",
       "nivel_instruccion_descripcion                          object\n",
       "ultima_situacion_laboral_id                           float64\n",
       "ultima_situacion_laboral_descripcion                   object\n",
       "capacitacion_laboral_al_ingresar_id                   float64\n",
       "capacitacion_laboral_al_ingresar_descripcion           object\n",
       "ultimo_lugar_residencia_id                            float64\n",
       "ultimo_lugar_residencia_descripcion                    object\n",
       "ultima_provincia_residencia_id                        float64\n",
       "ultima_provincia_residencia_descripcion                object\n",
       "jurisdiccion_id                                         int64\n",
       "jurisdiccion_descripcion                               object\n",
       "situacion_legal_id                                      int64\n",
       "situacion_legal_descripcion                            object\n",
       "fecha_detencion                                        object\n",
       "fecha_condenado                                        object\n",
       "establecimiento_procedencia_id                        float64\n",
       "establecimiento_procedencia_descripcion                object\n",
       "delito1_id                                            float64\n",
       "                                                       ...   \n",
       "tentativa_fugas_evasiones_id                          float64\n",
       "tentativa_fugas_evasiones_descripcion                  object\n",
       "tentativa_suicidio                                    float64\n",
       "fue_lesionado_id                                      float64\n",
       "fue_lesionado_descripcion                              object\n",
       "duracion_condena_anios                                float64\n",
       "duracion_condena_meses                                float64\n",
       "duracion_condena_rango                                  int64\n",
       "tipo_condena                                          float64\n",
       "tiene_medidas_seguridad                               float64\n",
       "es_reincidente_id                                      object\n",
       "es_reincidente_descripcion                            float64\n",
       "tiene_periodo_progresividad_id                         object\n",
       "tiene_periodo_progresividad_descripcion                 int64\n",
       "reparticion_id                                         object\n",
       "reparticion_descripcion                               float64\n",
       "tuvo_salidas_transitorias_id                           object\n",
       "tuvo_salidas_transitorias_descripcion                 float64\n",
       "incorporado_reg_semi_libertad_id                       object\n",
       "incorporado_reg_semi_libertad_descripcion             float64\n",
       "participa_programa_pre_libertad                       float64\n",
       "participa_programa_prision_discontinua_id              object\n",
       "participa_programa_prision_discontinua_descripcion    float64\n",
       "participa_programa_semi_detencion_id                   object\n",
       "participa_programa_semi_detencion_descripcion         float64\n",
       "tuvo_reduccion_pena_id                                 object\n",
       "tuvo_reduccion_pena_descripcion                       float64\n",
       "mujer_tiene_hijos_intramuro                             int64\n",
       "provincia_indec_id                                    float64\n",
       "ultima_provincia_residencia_indec_id                  float64\n",
       "Length: 86, dtype: object"
      ]
     },
     "execution_count": 4,
     "metadata": {},
     "output_type": "execute_result"
    }
   ],
   "source": [
    "# Listamos las columnas y sus tipos de datos\n",
    "data_raw.dtypes"
   ]
  },
  {
   "cell_type": "code",
   "execution_count": 5,
   "metadata": {
    "colab": {
     "base_uri": "https://localhost:8080/",
     "height": 1969
    },
    "colab_type": "code",
    "id": "iiLvxkEHRzHK",
    "outputId": "618c4326-e361-4491-af15-fb1d3ed98bc4"
   },
   "outputs": [
    {
     "data": {
      "text/html": [
       "<div>\n",
       "<style scoped>\n",
       "    .dataframe tbody tr th:only-of-type {\n",
       "        vertical-align: middle;\n",
       "    }\n",
       "\n",
       "    .dataframe tbody tr th {\n",
       "        vertical-align: top;\n",
       "    }\n",
       "\n",
       "    .dataframe thead th {\n",
       "        text-align: right;\n",
       "    }\n",
       "</style>\n",
       "<table border=\"1\" class=\"dataframe\">\n",
       "  <thead>\n",
       "    <tr style=\"text-align: right;\">\n",
       "      <th>anio_censo</th>\n",
       "      <th>2017</th>\n",
       "      <th>2017</th>\n",
       "    </tr>\n",
       "  </thead>\n",
       "  <tbody>\n",
       "    <tr>\n",
       "      <th>provincia_id</th>\n",
       "      <td>1</td>\n",
       "      <td>1</td>\n",
       "    </tr>\n",
       "    <tr>\n",
       "      <th>provincia_descripcion</th>\n",
       "      <td>Buenos Aires</td>\n",
       "      <td>Buenos Aires</td>\n",
       "    </tr>\n",
       "    <tr>\n",
       "      <th>establecimiento_id</th>\n",
       "      <td>63</td>\n",
       "      <td>114</td>\n",
       "    </tr>\n",
       "    <tr>\n",
       "      <th>establecimiento_descripcion</th>\n",
       "      <td>SPF - COMPLEJO  PENITENCIARIO FEDERAL  I  -EZE...</td>\n",
       "      <td>UNIDAD 32 - FLORENCIO VARELA</td>\n",
       "    </tr>\n",
       "    <tr>\n",
       "      <th>edad</th>\n",
       "      <td>52</td>\n",
       "      <td>33</td>\n",
       "    </tr>\n",
       "    <tr>\n",
       "      <th>genero_id</th>\n",
       "      <td>1</td>\n",
       "      <td>1</td>\n",
       "    </tr>\n",
       "    <tr>\n",
       "      <th>genero_descripcion</th>\n",
       "      <td>Masculino</td>\n",
       "      <td>Masculino</td>\n",
       "    </tr>\n",
       "    <tr>\n",
       "      <th>nacionalidad_id</th>\n",
       "      <td>1</td>\n",
       "      <td>1</td>\n",
       "    </tr>\n",
       "    <tr>\n",
       "      <th>nacionalidad_descripcion</th>\n",
       "      <td>Argentina</td>\n",
       "      <td>Argentina</td>\n",
       "    </tr>\n",
       "    <tr>\n",
       "      <th>estado_civil_id</th>\n",
       "      <td>1</td>\n",
       "      <td>1</td>\n",
       "    </tr>\n",
       "    <tr>\n",
       "      <th>estado_civil_descripcion</th>\n",
       "      <td>Soltero</td>\n",
       "      <td>Soltero</td>\n",
       "    </tr>\n",
       "    <tr>\n",
       "      <th>nivel_instruccion_id</th>\n",
       "      <td>4</td>\n",
       "      <td>3</td>\n",
       "    </tr>\n",
       "    <tr>\n",
       "      <th>nivel_instruccion_descripcion</th>\n",
       "      <td>Secundario incompleto</td>\n",
       "      <td>Primario completo</td>\n",
       "    </tr>\n",
       "    <tr>\n",
       "      <th>ultima_situacion_laboral_id</th>\n",
       "      <td>1</td>\n",
       "      <td>1</td>\n",
       "    </tr>\n",
       "    <tr>\n",
       "      <th>ultima_situacion_laboral_descripcion</th>\n",
       "      <td>Trabajador de tiempo completo</td>\n",
       "      <td>Trabajador de tiempo completo</td>\n",
       "    </tr>\n",
       "    <tr>\n",
       "      <th>capacitacion_laboral_al_ingresar_id</th>\n",
       "      <td>1</td>\n",
       "      <td>2</td>\n",
       "    </tr>\n",
       "    <tr>\n",
       "      <th>capacitacion_laboral_al_ingresar_descripcion</th>\n",
       "      <td>Tiene algún oficio</td>\n",
       "      <td>Tiene alguna profesión</td>\n",
       "    </tr>\n",
       "    <tr>\n",
       "      <th>ultimo_lugar_residencia_id</th>\n",
       "      <td>2</td>\n",
       "      <td>2</td>\n",
       "    </tr>\n",
       "    <tr>\n",
       "      <th>ultimo_lugar_residencia_descripcion</th>\n",
       "      <td>Urbano</td>\n",
       "      <td>Urbano</td>\n",
       "    </tr>\n",
       "    <tr>\n",
       "      <th>ultima_provincia_residencia_id</th>\n",
       "      <td>24</td>\n",
       "      <td>1</td>\n",
       "    </tr>\n",
       "    <tr>\n",
       "      <th>ultima_provincia_residencia_descripcion</th>\n",
       "      <td>Ciudad de Buenos Aires</td>\n",
       "      <td>Buenos Aires</td>\n",
       "    </tr>\n",
       "    <tr>\n",
       "      <th>jurisdiccion_id</th>\n",
       "      <td>24</td>\n",
       "      <td>1</td>\n",
       "    </tr>\n",
       "    <tr>\n",
       "      <th>jurisdiccion_descripcion</th>\n",
       "      <td>NACIONAL - Ciudad de Buenos Aires</td>\n",
       "      <td>PROVINCIAL - Buenos Aires</td>\n",
       "    </tr>\n",
       "    <tr>\n",
       "      <th>situacion_legal_id</th>\n",
       "      <td>2</td>\n",
       "      <td>1</td>\n",
       "    </tr>\n",
       "    <tr>\n",
       "      <th>situacion_legal_descripcion</th>\n",
       "      <td>Procesado</td>\n",
       "      <td>Condenado</td>\n",
       "    </tr>\n",
       "    <tr>\n",
       "      <th>fecha_detencion</th>\n",
       "      <td>NaN</td>\n",
       "      <td>23/08/2017 00:00:00</td>\n",
       "    </tr>\n",
       "    <tr>\n",
       "      <th>fecha_condenado</th>\n",
       "      <td>NaN</td>\n",
       "      <td>20/08/2015 00:00:00</td>\n",
       "    </tr>\n",
       "    <tr>\n",
       "      <th>establecimiento_procedencia_id</th>\n",
       "      <td>1</td>\n",
       "      <td>2</td>\n",
       "    </tr>\n",
       "    <tr>\n",
       "      <th>establecimiento_procedencia_descripcion</th>\n",
       "      <td>Ingreso directo</td>\n",
       "      <td>Deriv. de otro establecimiento</td>\n",
       "    </tr>\n",
       "    <tr>\n",
       "      <th>delito1_id</th>\n",
       "      <td>1</td>\n",
       "      <td>1</td>\n",
       "    </tr>\n",
       "    <tr>\n",
       "      <th>...</th>\n",
       "      <td>...</td>\n",
       "      <td>...</td>\n",
       "    </tr>\n",
       "    <tr>\n",
       "      <th>tentativa_fugas_evasiones_id</th>\n",
       "      <td>3</td>\n",
       "      <td>3</td>\n",
       "    </tr>\n",
       "    <tr>\n",
       "      <th>tentativa_fugas_evasiones_descripcion</th>\n",
       "      <td>No</td>\n",
       "      <td>No</td>\n",
       "    </tr>\n",
       "    <tr>\n",
       "      <th>tentativa_suicidio</th>\n",
       "      <td>0</td>\n",
       "      <td>0</td>\n",
       "    </tr>\n",
       "    <tr>\n",
       "      <th>fue_lesionado_id</th>\n",
       "      <td>4</td>\n",
       "      <td>4</td>\n",
       "    </tr>\n",
       "    <tr>\n",
       "      <th>fue_lesionado_descripcion</th>\n",
       "      <td>No fue lesionado</td>\n",
       "      <td>No fue lesionado</td>\n",
       "    </tr>\n",
       "    <tr>\n",
       "      <th>duracion_condena_anios</th>\n",
       "      <td>0</td>\n",
       "      <td>15</td>\n",
       "    </tr>\n",
       "    <tr>\n",
       "      <th>duracion_condena_meses</th>\n",
       "      <td>0</td>\n",
       "      <td>0</td>\n",
       "    </tr>\n",
       "    <tr>\n",
       "      <th>duracion_condena_rango</th>\n",
       "      <td>0</td>\n",
       "      <td>5</td>\n",
       "    </tr>\n",
       "    <tr>\n",
       "      <th>tipo_condena</th>\n",
       "      <td>NaN</td>\n",
       "      <td>NaN</td>\n",
       "    </tr>\n",
       "    <tr>\n",
       "      <th>tiene_medidas_seguridad</th>\n",
       "      <td>0</td>\n",
       "      <td>1</td>\n",
       "    </tr>\n",
       "    <tr>\n",
       "      <th>es_reincidente_id</th>\n",
       "      <td>NaN</td>\n",
       "      <td>Primario</td>\n",
       "    </tr>\n",
       "    <tr>\n",
       "      <th>es_reincidente_descripcion</th>\n",
       "      <td>0</td>\n",
       "      <td>6</td>\n",
       "    </tr>\n",
       "    <tr>\n",
       "      <th>tiene_periodo_progresividad_id</th>\n",
       "      <td>NaN</td>\n",
       "      <td>No se aplica ninguna</td>\n",
       "    </tr>\n",
       "    <tr>\n",
       "      <th>tiene_periodo_progresividad_descripcion</th>\n",
       "      <td>3</td>\n",
       "      <td>1</td>\n",
       "    </tr>\n",
       "    <tr>\n",
       "      <th>reparticion_id</th>\n",
       "      <td>Federal</td>\n",
       "      <td>Provincial</td>\n",
       "    </tr>\n",
       "    <tr>\n",
       "      <th>reparticion_descripcion</th>\n",
       "      <td>0</td>\n",
       "      <td>0</td>\n",
       "    </tr>\n",
       "    <tr>\n",
       "      <th>tuvo_salidas_transitorias_id</th>\n",
       "      <td>NaN</td>\n",
       "      <td>NaN</td>\n",
       "    </tr>\n",
       "    <tr>\n",
       "      <th>tuvo_salidas_transitorias_descripcion</th>\n",
       "      <td>0</td>\n",
       "      <td>1</td>\n",
       "    </tr>\n",
       "    <tr>\n",
       "      <th>incorporado_reg_semi_libertad_id</th>\n",
       "      <td>NaN</td>\n",
       "      <td>No está incorporado al régimen de semilibertad</td>\n",
       "    </tr>\n",
       "    <tr>\n",
       "      <th>incorporado_reg_semi_libertad_descripcion</th>\n",
       "      <td>NaN</td>\n",
       "      <td>0</td>\n",
       "    </tr>\n",
       "    <tr>\n",
       "      <th>participa_programa_pre_libertad</th>\n",
       "      <td>0</td>\n",
       "      <td>1</td>\n",
       "    </tr>\n",
       "    <tr>\n",
       "      <th>participa_programa_prision_discontinua_id</th>\n",
       "      <td>NaN</td>\n",
       "      <td>No está incorporado</td>\n",
       "    </tr>\n",
       "    <tr>\n",
       "      <th>participa_programa_prision_discontinua_descripcion</th>\n",
       "      <td>0</td>\n",
       "      <td>1</td>\n",
       "    </tr>\n",
       "    <tr>\n",
       "      <th>participa_programa_semi_detencion_id</th>\n",
       "      <td>NaN</td>\n",
       "      <td>No tiene semidetención</td>\n",
       "    </tr>\n",
       "    <tr>\n",
       "      <th>participa_programa_semi_detencion_descripcion</th>\n",
       "      <td>0</td>\n",
       "      <td>4</td>\n",
       "    </tr>\n",
       "    <tr>\n",
       "      <th>tuvo_reduccion_pena_id</th>\n",
       "      <td>NaN</td>\n",
       "      <td>No tuvo reducción de pena</td>\n",
       "    </tr>\n",
       "    <tr>\n",
       "      <th>tuvo_reduccion_pena_descripcion</th>\n",
       "      <td>NaN</td>\n",
       "      <td>NaN</td>\n",
       "    </tr>\n",
       "    <tr>\n",
       "      <th>mujer_tiene_hijos_intramuro</th>\n",
       "      <td>6</td>\n",
       "      <td>6</td>\n",
       "    </tr>\n",
       "    <tr>\n",
       "      <th>provincia_indec_id</th>\n",
       "      <td>2</td>\n",
       "      <td>6</td>\n",
       "    </tr>\n",
       "    <tr>\n",
       "      <th>ultima_provincia_residencia_indec_id</th>\n",
       "      <td>NaN</td>\n",
       "      <td>NaN</td>\n",
       "    </tr>\n",
       "  </tbody>\n",
       "</table>\n",
       "<p>86 rows × 2 columns</p>\n",
       "</div>"
      ],
      "text/plain": [
       "anio_censo                                                                                       2017  \\\n",
       "provincia_id                                                                                        1   \n",
       "provincia_descripcion                                                                    Buenos Aires   \n",
       "establecimiento_id                                                                                 63   \n",
       "establecimiento_descripcion                         SPF - COMPLEJO  PENITENCIARIO FEDERAL  I  -EZE...   \n",
       "edad                                                                                               52   \n",
       "genero_id                                                                                           1   \n",
       "genero_descripcion                                                                          Masculino   \n",
       "nacionalidad_id                                                                                     1   \n",
       "nacionalidad_descripcion                                                                    Argentina   \n",
       "estado_civil_id                                                                                     1   \n",
       "estado_civil_descripcion                                                                      Soltero   \n",
       "nivel_instruccion_id                                                                                4   \n",
       "nivel_instruccion_descripcion                                                   Secundario incompleto   \n",
       "ultima_situacion_laboral_id                                                                         1   \n",
       "ultima_situacion_laboral_descripcion                                    Trabajador de tiempo completo   \n",
       "capacitacion_laboral_al_ingresar_id                                                                 1   \n",
       "capacitacion_laboral_al_ingresar_descripcion                                       Tiene algún oficio   \n",
       "ultimo_lugar_residencia_id                                                                          2   \n",
       "ultimo_lugar_residencia_descripcion                                                            Urbano   \n",
       "ultima_provincia_residencia_id                                                                     24   \n",
       "ultima_provincia_residencia_descripcion                                        Ciudad de Buenos Aires   \n",
       "jurisdiccion_id                                                                                    24   \n",
       "jurisdiccion_descripcion                                            NACIONAL - Ciudad de Buenos Aires   \n",
       "situacion_legal_id                                                                                  2   \n",
       "situacion_legal_descripcion                                                                 Procesado   \n",
       "fecha_detencion                                                                                   NaN   \n",
       "fecha_condenado                                                                                   NaN   \n",
       "establecimiento_procedencia_id                                                                      1   \n",
       "establecimiento_procedencia_descripcion                                               Ingreso directo   \n",
       "delito1_id                                                                                          1   \n",
       "...                                                                                               ...   \n",
       "tentativa_fugas_evasiones_id                                                                        3   \n",
       "tentativa_fugas_evasiones_descripcion                                                              No   \n",
       "tentativa_suicidio                                                                                  0   \n",
       "fue_lesionado_id                                                                                    4   \n",
       "fue_lesionado_descripcion                                                            No fue lesionado   \n",
       "duracion_condena_anios                                                                              0   \n",
       "duracion_condena_meses                                                                              0   \n",
       "duracion_condena_rango                                                                              0   \n",
       "tipo_condena                                                                                      NaN   \n",
       "tiene_medidas_seguridad                                                                             0   \n",
       "es_reincidente_id                                                                                 NaN   \n",
       "es_reincidente_descripcion                                                                          0   \n",
       "tiene_periodo_progresividad_id                                                                    NaN   \n",
       "tiene_periodo_progresividad_descripcion                                                             3   \n",
       "reparticion_id                                                                                Federal   \n",
       "reparticion_descripcion                                                                             0   \n",
       "tuvo_salidas_transitorias_id                                                                      NaN   \n",
       "tuvo_salidas_transitorias_descripcion                                                               0   \n",
       "incorporado_reg_semi_libertad_id                                                                  NaN   \n",
       "incorporado_reg_semi_libertad_descripcion                                                         NaN   \n",
       "participa_programa_pre_libertad                                                                     0   \n",
       "participa_programa_prision_discontinua_id                                                         NaN   \n",
       "participa_programa_prision_discontinua_descripcion                                                  0   \n",
       "participa_programa_semi_detencion_id                                                              NaN   \n",
       "participa_programa_semi_detencion_descripcion                                                       0   \n",
       "tuvo_reduccion_pena_id                                                                            NaN   \n",
       "tuvo_reduccion_pena_descripcion                                                                   NaN   \n",
       "mujer_tiene_hijos_intramuro                                                                         6   \n",
       "provincia_indec_id                                                                                  2   \n",
       "ultima_provincia_residencia_indec_id                                                              NaN   \n",
       "\n",
       "anio_censo                                                                                    2017  \n",
       "provincia_id                                                                                     1  \n",
       "provincia_descripcion                                                                 Buenos Aires  \n",
       "establecimiento_id                                                                             114  \n",
       "establecimiento_descripcion                                           UNIDAD 32 - FLORENCIO VARELA  \n",
       "edad                                                                                            33  \n",
       "genero_id                                                                                        1  \n",
       "genero_descripcion                                                                       Masculino  \n",
       "nacionalidad_id                                                                                  1  \n",
       "nacionalidad_descripcion                                                                 Argentina  \n",
       "estado_civil_id                                                                                  1  \n",
       "estado_civil_descripcion                                                                   Soltero  \n",
       "nivel_instruccion_id                                                                             3  \n",
       "nivel_instruccion_descripcion                                                    Primario completo  \n",
       "ultima_situacion_laboral_id                                                                      1  \n",
       "ultima_situacion_laboral_descripcion                                 Trabajador de tiempo completo  \n",
       "capacitacion_laboral_al_ingresar_id                                                              2  \n",
       "capacitacion_laboral_al_ingresar_descripcion                                Tiene alguna profesión  \n",
       "ultimo_lugar_residencia_id                                                                       2  \n",
       "ultimo_lugar_residencia_descripcion                                                         Urbano  \n",
       "ultima_provincia_residencia_id                                                                   1  \n",
       "ultima_provincia_residencia_descripcion                                               Buenos Aires  \n",
       "jurisdiccion_id                                                                                  1  \n",
       "jurisdiccion_descripcion                                                 PROVINCIAL - Buenos Aires  \n",
       "situacion_legal_id                                                                               1  \n",
       "situacion_legal_descripcion                                                              Condenado  \n",
       "fecha_detencion                                                                23/08/2017 00:00:00  \n",
       "fecha_condenado                                                                20/08/2015 00:00:00  \n",
       "establecimiento_procedencia_id                                                                   2  \n",
       "establecimiento_procedencia_descripcion                             Deriv. de otro establecimiento  \n",
       "delito1_id                                                                                       1  \n",
       "...                                                                                            ...  \n",
       "tentativa_fugas_evasiones_id                                                                     3  \n",
       "tentativa_fugas_evasiones_descripcion                                                           No  \n",
       "tentativa_suicidio                                                                               0  \n",
       "fue_lesionado_id                                                                                 4  \n",
       "fue_lesionado_descripcion                                                         No fue lesionado  \n",
       "duracion_condena_anios                                                                          15  \n",
       "duracion_condena_meses                                                                           0  \n",
       "duracion_condena_rango                                                                           5  \n",
       "tipo_condena                                                                                   NaN  \n",
       "tiene_medidas_seguridad                                                                          1  \n",
       "es_reincidente_id                                                                         Primario  \n",
       "es_reincidente_descripcion                                                                       6  \n",
       "tiene_periodo_progresividad_id                                                No se aplica ninguna  \n",
       "tiene_periodo_progresividad_descripcion                                                          1  \n",
       "reparticion_id                                                                          Provincial  \n",
       "reparticion_descripcion                                                                          0  \n",
       "tuvo_salidas_transitorias_id                                                                   NaN  \n",
       "tuvo_salidas_transitorias_descripcion                                                            1  \n",
       "incorporado_reg_semi_libertad_id                    No está incorporado al régimen de semilibertad  \n",
       "incorporado_reg_semi_libertad_descripcion                                                        0  \n",
       "participa_programa_pre_libertad                                                                  1  \n",
       "participa_programa_prision_discontinua_id                                      No está incorporado  \n",
       "participa_programa_prision_discontinua_descripcion                                               1  \n",
       "participa_programa_semi_detencion_id                                        No tiene semidetención  \n",
       "participa_programa_semi_detencion_descripcion                                                    4  \n",
       "tuvo_reduccion_pena_id                                                   No tuvo reducción de pena  \n",
       "tuvo_reduccion_pena_descripcion                                                                NaN  \n",
       "mujer_tiene_hijos_intramuro                                                                      6  \n",
       "provincia_indec_id                                                                               6  \n",
       "ultima_provincia_residencia_indec_id                                                           NaN  \n",
       "\n",
       "[86 rows x 2 columns]"
      ]
     },
     "execution_count": 5,
     "metadata": {},
     "output_type": "execute_result"
    }
   ],
   "source": [
    "# Analizamos 2 muestras de filas, usamos transpose() para visualizar los datos con mayor comodidad\n",
    "data_raw.sample(2).transpose()"
   ]
  },
  {
   "cell_type": "markdown",
   "metadata": {
    "colab_type": "text",
    "id": "31dPDKtEl_ud"
   },
   "source": [
    "### Lineamientos básicos del preprocesamiento "
   ]
  },
  {
   "cell_type": "markdown",
   "metadata": {
    "colab_type": "text",
    "id": "CVJKpWKtmFsi"
   },
   "source": [
    "\n",
    "\n",
    "* Parseo de fechas. Los campos \"fecha_detencion\" y \"fecha_condena\" deben ser transformados a tipos de datos date, en este proceso puede que se encuentren errores, analizar los mismos y decidir si conservar o descartar registros con problemas.\n",
    "\n",
    "* Análisis y Selección de Features. El dataset tiene campos duplicados que expresan la misma información: campos con sufijo \"_id\" y \"_descripcion\". En general estos campos son de tipo numérico y string respectivamente, pero hay algunas excepciones. Identificarlas y editar el dataframe para que quede consistente, conservar solo los campos con las descripciones.\n",
    " \n",
    "* Análisis de consistencia de los datos 1: Analizar los valores del campo \"mujer_tiene_hijos_intramuro\", identificar el problema que afecta a los datos, y corregir el dataset acorde a esto. \n",
    "\n",
    "* Análisis de consistencia de los datos 2: Analizar los campos \"fecha_detencion\" y \"fecha_condena\"\n",
    "\n",
    "* Generación de nuevas Features. Generar un nuevo campo que contenga información acerca del tiempo en días que toma la resolución de la situación procesal de cada persona (diferencia entre fecha de encarcelamiento y de condena)\n",
    "\n",
    "* Análisis e imputación de valores nulos. Existen muchos registros con valores nulos en múltiples columnas. Analizar las posibles soluciones. Tener en cuenta que dependiendo el tipo de trabajo que querramos hacer con los datos en un futuro, es probable que necesitemos realizar tareas como: eliminar registros, eliminar columnas, cargar datos con valores aleatorios, cargar datos con valores más frecuentes, etc. \n",
    "\n",
    "* Bonus:  El dataset contiene información respecto a individuos particulares, y si bien no hay nombres o identificadores únicos como el número de documento, es muy posible que se pueda inferir la identidad de muchas personas usando otros conjuntos de datos públicos. Teniendo en cuenta que uno de los campos describe si la persona recibió atención médica por distintos tipos de enfermedades (HIV, Chagas, Hepatitis, etc.), es importante pensar en qué tipo de acciones podrían tomarse en la elaboración del reporte para asegurar la anonimidad de los datos, o de no ser posible, la eliminación de aquellos atributos que podrían ser considerados información sensible y/o privada. Hacer un análisis corto respecto a este tema y exponer sus opiniones."
   ]
  },
  {
   "cell_type": "markdown",
   "metadata": {},
   "source": [
    "Primero exploramos un poco el data set para deducir cuales son los datos problemáticos que necesitamos limpiar o curar."
   ]
  },
  {
   "cell_type": "markdown",
   "metadata": {},
   "source": [
    "A continuación definimos las funciones que necesitamos para limpiar el dataset."
   ]
  },
  {
   "cell_type": "code",
   "execution_count": 6,
   "metadata": {},
   "outputs": [],
   "source": [
    "def preprocesar_csv(input_file, output_file, year=None):\n",
    "    \"\"\"\n",
    "    Cambia separación por coma a separación por punto y coma \n",
    "    y elimina comillas dobles\n",
    "    \"\"\"\n",
    "    \n",
    "    number_of_fields = []\n",
    "    with open(input_file, 'r') as in_f:\n",
    "        with open(output_file, 'w') as out_f:\n",
    "            line = in_f.readline()\n",
    "            if year == 2017:\n",
    "                line = line.replace('tiene_medidas_seguridad,', '') \n",
    "                line = line.replace('recibio_atencion_medica_ult_anio,', \n",
    "                                    'recibio_atencion_medica_ult_anio_id,') #col _id mal nombrada      \n",
    "            while line:\n",
    "                out_line = line.replace(',TRENEL', ', TRENEL')         \n",
    "                out_line = out_line.replace(', ', '[COMA] ')\n",
    "                out_line = out_line.replace(',', ';')\n",
    "                out_line = out_line.replace('[COMA]', ',')\n",
    "                out_line = out_line.replace(';\"', \";\")\n",
    "                out_line = out_line.replace('\";', \";\")\n",
    "                NF = len(out_line.split(';'))\n",
    "                number_of_fields.append(NF)\n",
    "                out_f.write(out_line)\n",
    "                line = in_f.readline()\n",
    "                \n",
    "    assert len(np.unique(number_of_fields)) == 1"
   ]
  },
  {
   "cell_type": "code",
   "execution_count": 7,
   "metadata": {
    "colab": {},
    "colab_type": "code",
    "id": "1QQFe4-TcyUb"
   },
   "outputs": [],
   "source": [
    "def filtrar_nulos(df, f=0.8):\n",
    "    \"\"\"\n",
    "    Descarta registros que tengan al menos\n",
    "    una fraccion f de campos nulos.\n",
    "    \"\"\"\n",
    "    \n",
    "    n_cols = df.shape[1]\n",
    "    n_null = df.isnull().sum(axis=1)\n",
    "    mask = n_null < int(n_cols*f)\n",
    "    df = df[mask]\n",
    "    return df\n",
    "    \n",
    "\n",
    "def procesar_fechas(df, current_year):\n",
    "    \"\"\"\n",
    "    Descarta fechas que sean posteriores al 31 de Diciembre\n",
    "    del año en que se realizo el censo.\n",
    "    \"\"\"\n",
    "    \n",
    "    date_cols = ['fecha_detencion', 'fecha_condenado']\n",
    "    incorrect_dates = {}\n",
    "    for date_col in date_cols:\n",
    "        incorrect_dates[date_col] = 0\n",
    "        corrected_values = []\n",
    "        for i, date in df[date_col].items():\n",
    "            if isinstance(date, str):\n",
    "                year = int(date.split('/')[2][:4])\n",
    "                if year > current_year:\n",
    "                    incorrect_dates[date_col] += 1\n",
    "                    date = np.NaN\n",
    "                else:\n",
    "                    try:\n",
    "                        date = date[:10]\n",
    "                    except:\n",
    "                        print(date)\n",
    "\n",
    "            corrected_values.append(date)\n",
    "        df[date_col] = corrected_values\n",
    "\n",
    "    df['fecha_detencion'] = pd.to_datetime(df['fecha_detencion'])\n",
    "    df['fecha_condenado'] = pd.to_datetime(df['fecha_condenado'])\n",
    "    return df\n",
    "\n",
    "def calcular_tiempo_resolucion(df):\n",
    "    \"\"\"\n",
    "    Crea un nuevo campo con el tiempo de resolucion de condena.\n",
    "    \"\"\"\n",
    "    \n",
    "    condenados = df['situacion_legal_descripcion'] == 'Condenado'\n",
    "    df['tiempo_resolucion'] = df['fecha_condenado'] - df['fecha_detencion']\n",
    "    return df\n",
    "\n",
    "def calcular_numero_delitos(df):\n",
    "    \"\"\"\n",
    "    Crea un nuevo campo con la cantidad de delitos cometidos.\n",
    "    \"\"\"\n",
    "    \n",
    "    delito_cols = ['delito{}_descripcion'.format(i) for i in range(1, 6)]\n",
    "    df['delitos_cantidad'] = df[delito_cols].count(axis=1)\n",
    "    return df\n",
    "\n",
    "def procesar_edades(df):\n",
    "    \"\"\"\n",
    "    Reemplaza los NaN y valores iguales a 0 por la media de las edades.\n",
    "    \"\"\"\n",
    "    \n",
    "    #mask = (df['edad'] == 0) & ((df['delitos_cantidad'] > 0) | \\\n",
    "    #                              (df['situacion_legal_descripcion'] == 'Condenado') | \\\n",
    "    #                              (df['nivel_instruccion_descripcion'].notnull()))\n",
    "    mask = df['edad'] == 0\n",
    "    df[mask] = np.NaN\n",
    "    df['edad'].fillna(df['edad'].mean(skipna=True))\n",
    "    return df\n",
    "\n",
    "def eliminar_id(df):\n",
    "    \"\"\"\n",
    "    Elimina las columnas _id, nos quedamos solo con las descripciones\n",
    "    \"\"\"\n",
    "    df = df.drop([x for x in df if x.endswith('_id')], 1)\n",
    "    df.columns = [col.replace('_descripcion', '') for col in df.columns]\n",
    "    return df"
   ]
  },
  {
   "cell_type": "code",
   "execution_count": 8,
   "metadata": {},
   "outputs": [
    {
     "name": "stdout",
     "output_type": "stream",
     "text": [
      "Preprocesando csv\n",
      "Procesando fechas\n",
      "Calculando tiempo resolucion\n",
      "Calculando numero de delitos\n",
      "Procesando edades\n",
      "Eliminando columnas con pocos datos\n",
      "Eliminando las columnas _id\n"
     ]
    }
   ],
   "source": [
    "input_file = '../datasets/sneep-2017.csv'\n",
    "output_file = '../datasets/py_sneep-2017.csv'\n",
    "\n",
    "print('Preprocesando csv')\n",
    "preprocesar_csv(input_file, output_file, 2017)\n",
    "\n",
    "df = pd.read_csv(output_file, sep=';')\n",
    "df = filtrar_nulos(df, f=0.7)\n",
    "\n",
    "print('Procesando fechas')\n",
    "df = procesar_fechas(df, current_year=2017)\n",
    "print('Calculando tiempo resolucion')\n",
    "df = calcular_tiempo_resolucion(df)\n",
    "print('Calculando numero de delitos')\n",
    "df = calcular_numero_delitos(df)\n",
    "print('Procesando edades')\n",
    "df = procesar_edades(df)\n",
    "print('Eliminando columnas con pocos datos')\n",
    "df = filtrar_nulos(df, f=0.7)\n",
    "print('Eliminando las columnas _id' )\n",
    "df = eliminar_id(df)\n",
    "\n",
    "df.to_csv(path_or_buf=output_file, sep=';')"
   ]
  },
  {
   "cell_type": "code",
   "execution_count": 9,
   "metadata": {},
   "outputs": [
    {
     "data": {
      "text/plain": [
       "(84914, 51)"
      ]
     },
     "execution_count": 9,
     "metadata": {},
     "output_type": "execute_result"
    }
   ],
   "source": [
    "df.shape"
   ]
  },
  {
   "cell_type": "code",
   "execution_count": 10,
   "metadata": {},
   "outputs": [
    {
     "data": {
      "text/plain": [
       "anio_censo                                        float64\n",
       "provincia                                          object\n",
       "establecimiento                                    object\n",
       "edad                                              float64\n",
       "genero                                             object\n",
       "nacionalidad                                       object\n",
       "estado_civil                                       object\n",
       "nivel_instruccion                                  object\n",
       "ultima_situacion_laboral                           object\n",
       "capacitacion_laboral_al_ingresar                   object\n",
       "ultimo_lugar_residencia                            object\n",
       "ultima_provincia_residencia                        object\n",
       "jurisdiccion                                       object\n",
       "situacion_legal                                    object\n",
       "fecha_detencion                            datetime64[ns]\n",
       "fecha_condenado                            datetime64[ns]\n",
       "establecimiento_procedencia                        object\n",
       "delito1                                            object\n",
       "delito2                                            object\n",
       "delito3                                            object\n",
       "delito4                                            object\n",
       "delito5                                            object\n",
       "horas_trabajo_remunerado                           object\n",
       "participacion_programa_laboral                    float64\n",
       "participacion_programa_educativo                   object\n",
       "participacion_actividades_deportivas              float64\n",
       "recibio_atencion_medica_ult_anio                   object\n",
       "recibio_visitas_ultimo_anio                       float64\n",
       "participo_alteracion_orden_ult_anio                object\n",
       "tipo_infraccion_disciplinaria                      object\n",
       "sancion_aplicada                                   object\n",
       "calificacion_conducta                              object\n",
       "tentativa_fugas_evasiones                          object\n",
       "tentativa_suicidio                                float64\n",
       "fue_lesionado                                      object\n",
       "duracion_condena_anios                            float64\n",
       "duracion_condena_meses                            float64\n",
       "duracion_condena_rango                            float64\n",
       "tipo_condena                                      float64\n",
       "es_reincidente                                     object\n",
       "tiene_periodo_progresividad                        object\n",
       "reparticion                                        object\n",
       "tuvo_salidas_transitorias                          object\n",
       "incorporado_reg_semi_libertad                      object\n",
       "participa_programa_pre_libertad                   float64\n",
       "participa_programa_prision_discontinua             object\n",
       "participa_programa_semi_detencion                  object\n",
       "tuvo_reduccion_pena                                object\n",
       "mujer_tiene_hijos_intramuro                       float64\n",
       "tiempo_resolucion                         timedelta64[ns]\n",
       "delitos_cantidad                                  float64\n",
       "dtype: object"
      ]
     },
     "execution_count": 10,
     "metadata": {},
     "output_type": "execute_result"
    }
   ],
   "source": [
    "# Listamos las columnas y sus tipos de datos\n",
    "df.dtypes"
   ]
  },
  {
   "cell_type": "markdown",
   "metadata": {},
   "source": [
    "Veamos cómo quedó con la columna 'mujer_tiene_hijos_intramuro'"
   ]
  },
  {
   "cell_type": "code",
   "execution_count": 11,
   "metadata": {},
   "outputs": [
    {
     "data": {
      "text/plain": [
       "count    3590.000000\n",
       "mean        0.048747\n",
       "std         0.215368\n",
       "min         0.000000\n",
       "25%         0.000000\n",
       "50%         0.000000\n",
       "75%         0.000000\n",
       "max         1.000000\n",
       "Name: mujer_tiene_hijos_intramuro, dtype: float64"
      ]
     },
     "execution_count": 11,
     "metadata": {},
     "output_type": "execute_result"
    }
   ],
   "source": [
    "df['mujer_tiene_hijos_intramuro'].describe()"
   ]
  },
  {
   "cell_type": "code",
   "execution_count": 12,
   "metadata": {},
   "outputs": [
    {
     "data": {
      "text/plain": [
       "array([nan,  0.,  1.])"
      ]
     },
     "execution_count": 12,
     "metadata": {},
     "output_type": "execute_result"
    }
   ],
   "source": [
    "df['mujer_tiene_hijos_intramuro'].unique()"
   ]
  },
  {
   "cell_type": "code",
   "execution_count": 13,
   "metadata": {},
   "outputs": [
    {
     "data": {
      "text/plain": [
       "0.0    3415\n",
       "1.0     175\n",
       "Name: mujer_tiene_hijos_intramuro, dtype: int64"
      ]
     },
     "execution_count": 13,
     "metadata": {},
     "output_type": "execute_result"
    }
   ],
   "source": [
    "df['mujer_tiene_hijos_intramuro'].value_counts()"
   ]
  },
  {
   "cell_type": "code",
   "execution_count": 14,
   "metadata": {},
   "outputs": [
    {
     "data": {
      "text/plain": [
       "81324"
      ]
     },
     "execution_count": 14,
     "metadata": {},
     "output_type": "execute_result"
    }
   ],
   "source": [
    "df['mujer_tiene_hijos_intramuro'].isna().sum()"
   ]
  },
  {
   "cell_type": "markdown",
   "metadata": {},
   "source": [
    "Hay muchos valores NaN"
   ]
  }
 ],
 "metadata": {
  "colab": {
   "collapsed_sections": [
    "So2jL_sVMUoP",
    "pzyW2avcMd_8"
   ],
   "include_colab_link": true,
   "name": "DiploDatos-PoblacionPenitenciariaArgentina-AyC.ipynb",
   "provenance": [],
   "version": "0.3.2"
  },
  "kernelspec": {
   "display_name": "Python 3",
   "language": "python",
   "name": "python3"
  },
  "language_info": {
   "codemirror_mode": {
    "name": "ipython",
    "version": 3
   },
   "file_extension": ".py",
   "mimetype": "text/x-python",
   "name": "python",
   "nbconvert_exporter": "python",
   "pygments_lexer": "ipython3",
   "version": "3.7.3"
  }
 },
 "nbformat": 4,
 "nbformat_minor": 1
}
