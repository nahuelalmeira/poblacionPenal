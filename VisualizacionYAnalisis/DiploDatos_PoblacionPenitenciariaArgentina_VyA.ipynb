{
 "cells": [
  {
   "cell_type": "markdown",
   "metadata": {
    "colab_type": "text",
    "id": "view-in-github"
   },
   "source": [
    "<a href=\"https://colab.research.google.com/github/nahuelalmeira/poblacionPenal/blob/master/DiploDatos_PoblacionPenitenciariaArgentina_VyA.ipynb\" target=\"_parent\"><img src=\"https://colab.research.google.com/assets/colab-badge.svg\" alt=\"Open In Colab\"/></a>"
   ]
  },
  {
   "cell_type": "markdown",
   "metadata": {
    "colab_type": "text",
    "id": "er50CAdUP5-C"
   },
   "source": [
    "# DiploDatos 2019 -  Población Penitenciaria en Argentina"
   ]
  },
  {
   "cell_type": "markdown",
   "metadata": {
    "colab_type": "text",
    "id": "Ob8rhY4xQFCZ"
   },
   "source": [
    "\n",
    "\n",
    "\n",
    "> http://diplodatos.famaf.unc.edu.ar/poblacion-penitenciaria-en-argentina-2002-a-2017/\n",
    "\n",
    "\n"
   ]
  },
  {
   "cell_type": "markdown",
   "metadata": {
    "colab_type": "text",
    "id": "pBy37x-nOl0m"
   },
   "source": [
    "## Practico Análisis y Visualización de Datos"
   ]
  },
  {
   "cell_type": "markdown",
   "metadata": {
    "colab_type": "text",
    "id": "e9JpNwvnJ7b_"
   },
   "source": [
    "En este notebook se explicarán los métodos para la carga inicial de los datos que vamos a usar en el proyecto, se describirá la estructura general de los mismos, y veremos algunos métodos básicos de análisis.\n",
    "\n",
    "Antes de comenzar a trabajar con CSVs, siempre es recomendable descargar el dataset en nuestra computadora y observarlo directamente con alguna herramienta de procesamiento de texto , para tener una visión rápida del tipo de datos con el cual trabajeremos, pero también para asegurarnos que estamos utilizando un archivo con el formato correcto."
   ]
  },
  {
   "cell_type": "code",
   "execution_count": null,
   "metadata": {},
   "outputs": [],
   "source": [
    "### Aumentar el ancho del notebook\n",
    "from IPython.core.display import display, HTML\n",
    "display(HTML(\"<style>.container { width:90% !important; }</style>\"))"
   ]
  },
  {
   "cell_type": "markdown",
   "metadata": {
    "colab_type": "text",
    "id": "So2jL_sVMUoP"
   },
   "source": [
    "### Inicialización y carga de datos"
   ]
  },
  {
   "cell_type": "code",
   "execution_count": null,
   "metadata": {
    "colab": {},
    "colab_type": "code",
    "id": "OzQIHr0ryXj-"
   },
   "outputs": [],
   "source": [
    "# Importamos las librerías necesarias\n",
    "import os\n",
    "import sys\n",
    "import pandas as pd\n",
    "import numpy as np\n",
    "import matplotlib.pyplot as plt\n",
    "import seaborn as sns\n",
    "pd.set_option('display.max_columns', 50)\n",
    "pd.set_option('display.max_columns', 100)\n",
    "\n",
    "#\n",
    "sys.path.append('../config')\n",
    "from mpl_settings_v3 import *"
   ]
  },
  {
   "cell_type": "markdown",
   "metadata": {},
   "source": [
    "El dataset se encuentra en\n",
    "\n",
    "https://github.com/camporeale/Datos/raw/master/sneep_2017_diplodatos.zip \n",
    "\n",
    "y debe estar descargado en la carpeta '../datasets'. En caso de que no se encuentre el archivo, se leerá online."
   ]
  },
  {
   "cell_type": "code",
   "execution_count": null,
   "metadata": {
    "colab": {
     "base_uri": "https://localhost:8080/",
     "height": 71
    },
    "colab_type": "code",
    "id": "JRFpX9UOykhz",
    "outputId": "d050cb20-6075-4729-e3b3-121df6d2d98c"
   },
   "outputs": [],
   "source": [
    "## Cargamos el CSV en un dataframe. Si es posible, lo descargamos y \n",
    "## sino, lo leemos online. (Para descargarlo es necesario tener instalado wget)\n",
    "\n",
    "data_dir = '../datasets'\n",
    "data_file = os.path.join(data_dir, 'sneep_2017_diplodatos.zip')\n",
    "\n",
    "if not os.path.isfile(data_file):\n",
    "    print('No se encontró copia local del dataset. Leyendo online')\n",
    "    data_raw = pd.read_csv(url,compression='zip',index_col=0)\n",
    "else:\n",
    "    data_raw = pd.read_csv(data_file, compression='zip', index_col=0)"
   ]
  },
  {
   "cell_type": "code",
   "execution_count": null,
   "metadata": {
    "colab": {
     "base_uri": "https://localhost:8080/",
     "height": 71
    },
    "colab_type": "code",
    "id": "JRFpX9UOykhz",
    "outputId": "d050cb20-6075-4729-e3b3-121df6d2d98c"
   },
   "outputs": [],
   "source": [
    "## Seteamos semilla random para reproducibilidad\n",
    "np.random.seed(0)"
   ]
  },
  {
   "cell_type": "markdown",
   "metadata": {},
   "source": [
    "### Información disponible\n",
    "\n",
    "#### Información general\n",
    "\n",
    "- Año censo\n",
    "- Tipo de servicio penitenciario\n",
    "- Provincia\n",
    "- Establecimiento\n",
    "\n",
    "#### Información poblacional\n",
    "\n",
    "- Género\n",
    "- Nacionalidad\n",
    "- Estado civil\n",
    "- Mujeres viviendo con sus niños\n",
    "- Último lugar de residencia\n",
    "- Última provincia de residencia\n",
    "- Nivel de instrucción\n",
    "- Última situación laboral\n",
    "- Capacitación laboral al ingresar\n",
    "\n",
    "#### Información judicial\n",
    "\n",
    "- Jurisdicción\n",
    "- Situación legal\n",
    "- Tipo de delito\n",
    "- Reincidente\n",
    "- Establecimiento de procedencia\n",
    "\n",
    "#### Actividades y otras situaciones registradas dentro de la institución\n",
    "\n",
    "- Recibió atención médica en el último año\n",
    "- Recibió visitas en el último año\n",
    "- Participa en programa laboral\n",
    "- Horas de trabajo remunerado\n",
    "- Participa en programa educativo\n",
    "- Participa en actividades deportivas\n",
    "- Calificación conducta\n",
    "- Participó en alteración del orden en el último año\n",
    "- Tipo de infracción disciplinaria\n",
    "- Sanción aplicada\n",
    "- Fue lesionado\n",
    "- Tentativa de suicidio\n",
    "\n",
    "#### Condenas y progresividad de la pena\n",
    "\n",
    "- Condenado a prisión o reclusión perpetua\n",
    "- Tuvo reducción de pena\n",
    "- Duración de la condena\n",
    "- Tuvo salidas transitorias\n",
    "- Incorporado al régimen de semi libertad\n",
    "- Participa en programas de pre-libertad\n",
    "- Participa en programa de prisión discontinua\n",
    "- Participa en programa de semi detención\n",
    "- Tiene período de progresividad"
   ]
  },
  {
   "cell_type": "markdown",
   "metadata": {
    "colab_type": "text",
    "id": "pzyW2avcMd_8"
   },
   "source": [
    "### Análisis exploratorio"
   ]
  },
  {
   "cell_type": "code",
   "execution_count": null,
   "metadata": {
    "colab": {
     "base_uri": "https://localhost:8080/",
     "height": 53
    },
    "colab_type": "code",
    "id": "JNw3qMGTf5b8",
    "outputId": "89f8dd51-4c1b-48da-86d0-69a7042d512b"
   },
   "outputs": [],
   "source": [
    "# Obtenemos la cantidad de filas y columnas\n",
    "print(\"Cantidad de registros: \", data_raw.shape[0])\n",
    "print(\"Cantidad de columnas: \", data_raw.shape[1])"
   ]
  },
  {
   "cell_type": "code",
   "execution_count": null,
   "metadata": {
    "colab": {
     "base_uri": "https://localhost:8080/",
     "height": 935
    },
    "colab_type": "code",
    "id": "oeyqebSkP45j",
    "outputId": "fadfa4d1-1d2b-46af-fdbe-a7f024c9dd00"
   },
   "outputs": [],
   "source": [
    "# Listamos las columnas y sus tipos de datos\n",
    "data_raw.dtypes"
   ]
  },
  {
   "cell_type": "code",
   "execution_count": null,
   "metadata": {
    "colab": {
     "base_uri": "https://localhost:8080/",
     "height": 1599
    },
    "colab_type": "code",
    "id": "iiLvxkEHRzHK",
    "outputId": "83605abc-3ae9-4e52-b870-cbc06b3b9f06"
   },
   "outputs": [],
   "source": [
    "# Analizamos 2 muestras de filas, usamos transpose() para visualizar los datos con mayor comodidad\n",
    "data_raw.sample(2).transpose()"
   ]
  },
  {
   "cell_type": "code",
   "execution_count": null,
   "metadata": {
    "colab": {
     "base_uri": "https://localhost:8080/",
     "height": 89
    },
    "colab_type": "code",
    "id": "RcvMrzg8S3CW",
    "outputId": "6175fc3f-6197-488b-bf3f-4ff9af5edcfc"
   },
   "outputs": [],
   "source": [
    "# Distribución por genero\n",
    "data_raw[\"genero_descripcion\"].value_counts()"
   ]
  },
  {
   "cell_type": "code",
   "execution_count": null,
   "metadata": {},
   "outputs": [],
   "source": [
    "ax = data_raw[\"genero_descripcion\"].value_counts().plot(kind='barh', figsize=(10,6), color=\"coral\", fontsize=13);\n",
    "ax.set_alpha(0.8)\n",
    "ax.set_title(\"Proporción de internos por género\", fontsize=18)\n",
    "ax.set_xlabel(\"\", fontsize=18);\n",
    "ax.set_xticks([0, 20000, 40000, 60000, 80000])\n",
    "\n",
    "# create a list to collect the plt.patches data\n",
    "totals = []\n",
    "\n",
    "# find the values and append to list\n",
    "for i in ax.patches:\n",
    "    totals.append(i.get_width())\n",
    "\n",
    "# set individual bar lables using above list\n",
    "total = sum(totals)\n",
    "\n",
    "# set individual bar lables using above list\n",
    "for i in ax.patches:\n",
    "    # get_width pulls left or right; get_y pushes up or down\n",
    "    ax.text(i.get_width()+.3, i.get_y()+.38, \\\n",
    "            str(round((i.get_width()/total)*100, 2))+'%', fontsize=15, color='dimgrey')\n",
    "\n",
    "# invert for largest on top \n",
    "ax.invert_yaxis()"
   ]
  },
  {
   "cell_type": "code",
   "execution_count": null,
   "metadata": {
    "colab": {
     "base_uri": "https://localhost:8080/",
     "height": 365
    },
    "colab_type": "code",
    "id": "nxT7FLoShVxT",
    "outputId": "35049404-0817-4ff6-bcec-40c26b25735d"
   },
   "outputs": [],
   "source": [
    "# Internos por provincia\n",
    "plt.figure(figsize=(10, 8))\n",
    "ax = plt.gca()\n",
    "data_raw[\"provincia_descripcion\"].value_counts().plot(kind='barh', ax=ax, fontsize=20)\n",
    "plt.show()"
   ]
  },
  {
   "cell_type": "code",
   "execution_count": null,
   "metadata": {
    "colab": {
     "base_uri": "https://localhost:8080/",
     "height": 365
    },
    "colab_type": "code",
    "id": "eghinKhxjqb_",
    "outputId": "9bbfcaac-8e0c-4617-b8ba-aeb507de9c6f"
   },
   "outputs": [],
   "source": [
    "# Histograma por edades\n",
    "data_raw[\"edad\"].plot.hist(grid=True, bins=15, rwidth=0.9,color='#607c8e', figsize=(10,6))\n",
    "plt.show()"
   ]
  },
  {
   "cell_type": "markdown",
   "metadata": {
    "colab_type": "text",
    "id": "31dPDKtEl_ud"
   },
   "source": [
    "### Análisis del Grupo"
   ]
  },
  {
   "cell_type": "markdown",
   "metadata": {
    "colab_type": "text",
    "id": "CVJKpWKtmFsi"
   },
   "source": [
    "En esta sección el grupo de trabajo deberá realizar el siguiente análisis:\n",
    "\n",
    "\n",
    "\n",
    "*   Análisis estadístico de variables\n",
    "\n",
    "\n",
    "> Seleccionar un conjunto de al menos 4 variables que resulten de interés para el grupo y:\n",
    "1.   Usar distintos tipos de gráficos para describir sus distribuciones\n",
    "2.   Analizar Outliers\n",
    "3.   Calcular estadísticos clásicos (media, mediana, moda, desviación estandar)\n",
    "\n",
    "\n",
    "\n",
    "*   Evolución de variables en el tiempo. Seleccionar 2 variables y graficar como fueron cambiando desde 2002 a 2017.  Para ello se tiene que utilizar el siguiente conjunto de datos:\n",
    "\n",
    "https://github.com/camporeale/Datos/raw/master/sneep_2002_2017_diplodatos.zip\n",
    "\n",
    "\n",
    "\n",
    "\n",
    "*   Analisis de probabilidades condicionales. Tomar al menos dos pares de variables y realizar un análisis del tipo:\n",
    "\n",
    "\n",
    "\n",
    "> ¿Cual es la probabilidad de que el interno haya sido lesionado en el último año dado que está en una  prisión en Buenos Aires? ¿Y en Córdoba? \n",
    "\n",
    "> ¿Cual es la probabilidad de que se le otorguen salidas provisorias dado que esté casado/a? ¿Y siendo soltero?\n",
    "\n",
    "\n",
    "\n",
    "Los siguientes recursos pueden usarse como ejemplos de distintos tipos de análisis:\n",
    "\n",
    "*   http://www.saij.gob.ar/estadisticas-ejecucion-de-la-pena\n",
    "*   http://www.jus.gob.ar/media/1126013/Una_Gestion_Penitenciaria_Integral_SNEEP.pdf\n",
    "\n",
    "\n"
   ]
  },
  {
   "cell_type": "markdown",
   "metadata": {},
   "source": [
    "## Funciones auxiliares"
   ]
  },
  {
   "cell_type": "code",
   "execution_count": null,
   "metadata": {},
   "outputs": [],
   "source": [
    "from collections import Counter"
   ]
  },
  {
   "cell_type": "code",
   "execution_count": null,
   "metadata": {},
   "outputs": [],
   "source": [
    "def get_cdf(data):\n",
    "    \"\"\"\n",
    "    Calcula funcion de distribucion cumulativa.\n",
    "    Data tiene que ser un array de enteros.\n",
    "    \"\"\"\n",
    "    cdf = []\n",
    "    rango = range(min(data), max(data)+1)\n",
    "    for e in rango:\n",
    "        cdf.append((data<=e).sum()) \n",
    "    cdf = np.array(cdf)\n",
    "    return rango, cdf\n",
    "\n",
    "def get_ccdf(data):\n",
    "    \"\"\"\n",
    "    Plot the complementary cumulative distribution function\n",
    "    (1-CDF(x)) based on the data on the axes object.\n",
    "    \n",
    "    Note that this way of computing and plotting the ccdf is not\n",
    "    the best approach for a discrete variable, where many\n",
    "    observations can have exactly same value!\n",
    "    \"\"\"\n",
    "    # Note that, here we use the convention for presenting an \n",
    "    # empirical 1-CDF (ccdf) as discussed above\n",
    "    sorted_vals = np.sort(np.unique(data))\n",
    "    ccdf = np.zeros(len(sorted_vals))\n",
    "    n = float(len(data))\n",
    "    for i, val in enumerate(sorted_vals):\n",
    "        ccdf[i] = np.sum(data >= val)/n\n",
    "    return sorted_vals, ccdf"
   ]
  },
  {
   "cell_type": "markdown",
   "metadata": {},
   "source": [
    "## Análisis estadístico de variables"
   ]
  },
  {
   "cell_type": "markdown",
   "metadata": {},
   "source": [
    "*   Análisis estadístico de variables\n",
    "\n",
    "\n",
    "> Seleccionar un conjunto de al menos 4 variables que resulten de interés para el grupo y:\n",
    "1.   Usar distintos tipos de gráficos para describir sus distribuciones\n",
    "2.   Analizar Outliers\n",
    "3.   Calcular estadísticos clásicos (media, mediana, moda, desviación estandar)"
   ]
  },
  {
   "cell_type": "markdown",
   "metadata": {},
   "source": [
    "Las variables que vamos a analizar son: \n",
    "\n",
    "1. Edad de los internos.\n",
    "\n",
    "2. Duración de condena.\n",
    "\n",
    "3. Tiempo transcurrido entre detención y aplicación de condena.\n",
    "\n",
    "4. Cantidad de delitos."
   ]
  },
  {
   "cell_type": "markdown",
   "metadata": {},
   "source": [
    "### Edad"
   ]
  },
  {
   "cell_type": "markdown",
   "metadata": {},
   "source": [
    "Preprocesamiento: Eliminamos los registros nulos en el campo edad. Además, filtramos los registros que tengan edad 0 y que hayan cometido algún delito (interpretamos que, en este caso, el 0 de la edad es en realidad un NaN."
   ]
  },
  {
   "cell_type": "code",
   "execution_count": null,
   "metadata": {},
   "outputs": [],
   "source": [
    "def preprocessing_edad(data_raw, filtrar_edad_cero=False):\n",
    "    \n",
    "    data = data_raw\n",
    "    \n",
    "    if filtrar_edad_cero:\n",
    "        delito_cols = ['delito{}_descripcion'.format(i) for i in range(1, 6)]\n",
    "        data['delitos_cantidad'] = data[delito_cols].count(axis=1)\n",
    "        mask = (data['edad'] == 0) & ((data['delitos_cantidad'] > 0) | \\\n",
    "                                      (data['situacion_legal_descripcion'] == 'Condenado') | \\\n",
    "                                      (data['nivel_instruccion_descripcion'].notnull()))\n",
    "        mask = (data['edad'] == 0)\n",
    "        data = data[~mask]\n",
    "    \n",
    "    data = data.dropna(subset=['edad'])\n",
    "    \n",
    "    print('Total registros sin filtro:', data_raw.shape[0])\n",
    "    print('Total registros con filtro:', data.shape[0], '{:.2f}'.format(100*data.shape[0]/data_raw.shape[0]), '%')\n",
    "    \n",
    "    return data\n",
    "\n",
    "data_edad = preprocessing_edad(data_raw)"
   ]
  },
  {
   "cell_type": "code",
   "execution_count": null,
   "metadata": {},
   "outputs": [],
   "source": [
    "def plot_edad(data):\n",
    "    \n",
    "    ## Calculo estadisticos descriptivos\n",
    "    edades = data['edad'].sort_values().astype('int')\n",
    "    moda = data['edad'].mode().values[0]\n",
    "    media = edades.mean()\n",
    "    mediana = edades.median()\n",
    "    std = edades.std()\n",
    "\n",
    "    # Grafico histograma por edades\n",
    "    fig, axes = plt.subplots(figsize=(24, 8), ncols=2)\n",
    "    ax = axes[0]\n",
    "    data['edad'].plot.hist(bins=16, rwidth=0.9,color='#607c8e', ax=ax)\n",
    "    ax.set_ylabel('Número de internos')\n",
    "    ax.set_xlabel('Edad (años)')\n",
    "    ax.axvline(media, linestyle='--', color='k', label=r'$\\mathrm{media: }$' + r'$ {{{:.0f}}}\\pm {{{:.0f}}}$'.format(media, std))\n",
    "    ax.axvline(mediana, linestyle='-.', color='k', label=r'$\\mathrm{mediana: }$' + r'$ {{{:.0f}}}$'.format(mediana))\n",
    "    ax.axvline(moda, linestyle=':', color='k', label=r'$\\mathrm{moda: }$' + r'$ {{{:.0f}}}$'.format(moda))\n",
    "    #text = 'Media: {:.1f}\\nMediana: {:.1f}\\nModa: {:.1f}\\nStd: {:.1f}'.format(media, mediana, moda, std)\n",
    "    #ax.text(0.7, 0.35, text, transform=ax.transAxes, fontsize=28)\n",
    "    ax.legend(loc='best')\n",
    "    \n",
    "    ## Grafico CDF\n",
    "    ax = axes[1]\n",
    "    rango_edad, cdf = get_cdf(edades.values)\n",
    "    plt.plot(rango_edad, cdf, '-o')\n",
    "    ax.set_xlabel('Edad (años)')\n",
    "    ax.set_ylabel('Suma cumulativa')\n",
    "\n",
    "    plt.tight_layout()\n",
    "    plt.savefig('../Informe/graficos/edad.png')\n",
    "    plt.show()\n",
    "\n",
    "plot_edad(data_edad)"
   ]
  },
  {
   "cell_type": "markdown",
   "metadata": {},
   "source": [
    "Observamos que existen registros de edades correspondientes a menores de edad. Veamos qué edad tienen"
   ]
  },
  {
   "cell_type": "code",
   "execution_count": null,
   "metadata": {},
   "outputs": [],
   "source": [
    "Counter(data_edad[data_edad['edad']<18]['edad'])"
   ]
  },
  {
   "cell_type": "markdown",
   "metadata": {},
   "source": [
    "La mayoría de los registros presentan edad igual a 0. Esto podría tratarse de niños nacidos dentro de algún establecimiento penitenciario. Para corroborar que esto sea así, conviene cruzar la variable \"edad\" con la variable \"mujer_tiene_hijos_intramuro\", que contiene el número de niños que están en esta situación.\n",
    "\n",
    "[TODO] Los casos de edad 16 y 17 años, son correctos? Puede haber menores de edad en los establecimientos en los que se realiza el censo?"
   ]
  },
  {
   "cell_type": "code",
   "execution_count": null,
   "metadata": {},
   "outputs": [],
   "source": [
    "test = data_edad[data_edad['edad']==0] \n",
    "test\n",
    "#test[test['nivel_instruccion_descripcion'].notnull()]#& ~data_edad['nivel_instruccion_descripcion'].notnull()]"
   ]
  },
  {
   "cell_type": "code",
   "execution_count": null,
   "metadata": {},
   "outputs": [],
   "source": [
    "data = data_raw.dropna(subset=['mujer_tiene_hijos_intramuro', 'edad'])\n",
    "print('Total de hijos intramuro:', data['mujer_tiene_hijos_intramuro'].count())\n",
    "print('\\nSeparado de acuerdo con la cantindad de hijos por mujer:')\n",
    "data['mujer_tiene_hijos_intramuro'].value_counts()"
   ]
  },
  {
   "cell_type": "markdown",
   "metadata": {},
   "source": [
    "La variable \"mujer_tiene_hijos_intramuro\" presenta outliers muy por encima de los valores esperados. Lo más probable es que se trate de un error de en la carga, por lo que la información no parece confiable. Analizaremos este aspecto con más detalle en el práctico de curación."
   ]
  },
  {
   "cell_type": "markdown",
   "metadata": {},
   "source": [
    "### Duración de condena"
   ]
  },
  {
   "cell_type": "markdown",
   "metadata": {},
   "source": [
    "Antes que nada, tenemos que separar los registros que tienen condena firme de los que no tienen. Veamos qué tipos de situación legal existe."
   ]
  },
  {
   "cell_type": "code",
   "execution_count": null,
   "metadata": {},
   "outputs": [],
   "source": [
    "count_condena = data_raw.groupby(by='situacion_legal_descripcion')['situacion_legal_descripcion'].count()\n",
    "print(count_condena)\n",
    "print('\\nPorcentaje de internos sin condena firme: {:.1f}%'.format(100*count_condena['Condenado'] / count_condena.sum()))"
   ]
  },
  {
   "cell_type": "markdown",
   "metadata": {},
   "source": [
    "Vemos que poco más de la mitad de los internos tiene condena firme. En adelante, filtraremos sólo estos registros."
   ]
  },
  {
   "cell_type": "code",
   "execution_count": null,
   "metadata": {},
   "outputs": [],
   "source": [
    "data_condena = data_raw[data_raw['situacion_legal_descripcion']=='Condenado']"
   ]
  },
  {
   "cell_type": "markdown",
   "metadata": {},
   "source": [
    "Consideremos los campos: duracion_condena_anios y duracion_condena_meses. Primero veamos que los valores de duracion_condena_meses estén acotados entre 0 y 11."
   ]
  },
  {
   "cell_type": "code",
   "execution_count": null,
   "metadata": {},
   "outputs": [],
   "source": [
    "np.sort(data_condena['duracion_condena_meses'].unique())"
   ]
  },
  {
   "cell_type": "markdown",
   "metadata": {},
   "source": [
    "Los valores de duracion_condena_anios deberían ser enteros no negativos."
   ]
  },
  {
   "cell_type": "code",
   "execution_count": null,
   "metadata": {},
   "outputs": [],
   "source": [
    "np.sort(data_condena['duracion_condena_anios'].unique())"
   ]
  },
  {
   "cell_type": "markdown",
   "metadata": {},
   "source": [
    "El campo duracion_condena_rango asigna un valor numérico de acuerdo a la duración de la condena, por lo tanto, no agrega información que no esté contenida en los otros dos campos."
   ]
  },
  {
   "cell_type": "code",
   "execution_count": null,
   "metadata": {},
   "outputs": [],
   "source": [
    "rango_values = np.sort(data_condena['duracion_condena_rango'].unique())\n",
    "print('Valores de la variable rango:', rango_values)\n",
    "\n",
    "print('Rango\\t Duraciones')\n",
    "for i in rango_values:\n",
    "    print('{}\\t{}'.format(i, np.sort(data_condena[data_condena['duracion_condena_rango']==i]['duracion_condena_anios'].unique())))"
   ]
  },
  {
   "cell_type": "markdown",
   "metadata": {},
   "source": [
    "En los campos \"duracion_condena_meses\" y \"duracion_condena_anios\" encontramos valores nulos. Veamos cuántos registros tenemos con información faltante."
   ]
  },
  {
   "cell_type": "code",
   "execution_count": null,
   "metadata": {
    "scrolled": true
   },
   "outputs": [],
   "source": [
    "total = data_condena[['duracion_condena_meses', 'duracion_condena_anios']].shape[0]\n",
    "ambos_nulos = total - data_condena[['duracion_condena_meses', 'duracion_condena_anios']].dropna(how='all').shape[0]\n",
    "anios_nulos = total - data_condena[['duracion_condena_anios']].dropna().shape[0]\n",
    "meses_nulos = total - data_condena[['duracion_condena_meses']].dropna().shape[0]\n",
    "\n",
    "print('Campo duracion_condena_meses nulo:', meses_nulos)\n",
    "print('Campo duracion_condena_anios nulo:', anios_nulos)\n",
    "print('Ambos campos nulos:', ambos_nulos)"
   ]
  },
  {
   "cell_type": "markdown",
   "metadata": {},
   "source": [
    "Como se trata de pocos registros, podemos descartarlos sin afectar la estadística para hacer el análisis."
   ]
  },
  {
   "cell_type": "code",
   "execution_count": null,
   "metadata": {},
   "outputs": [],
   "source": [
    "data_condena = data_condena.dropna(subset=['duracion_condena_anios', 'duracion_condena_meses'])"
   ]
  },
  {
   "cell_type": "markdown",
   "metadata": {},
   "source": [
    "Lo próximo sería ver si existen campos con duración de condena de 0 años y 0 meses."
   ]
  },
  {
   "cell_type": "code",
   "execution_count": null,
   "metadata": {},
   "outputs": [],
   "source": [
    "mask = (data_condena['duracion_condena_meses'] == 0) & (data_condena['duracion_condena_anios'] == 0)\n",
    "count = data_condena[mask].shape[0]\n",
    "print('Condenas de 0 años y 0 meses:', count)\n",
    "print('Porcentaje del total: {:.1f}%'.format(100 *count / data_condena.shape[0]))"
   ]
  },
  {
   "cell_type": "markdown",
   "metadata": {},
   "source": [
    "Vemos que aproximadamente un 8% de los registros cae en esta categoría. Dos hipótesis que podemos manejar son que se trate de internos con condena inferior a un mes, o que sea un error de carga (por ejemplo, cargar un 0 en lugar de un NaN). Como no tenemos aún información suficiente como para poner a prueba estas hipótesis, vamos a descartar estos registros para el análisis."
   ]
  },
  {
   "cell_type": "code",
   "execution_count": null,
   "metadata": {},
   "outputs": [],
   "source": [
    "data_condena = data_condena[~mask]\n",
    "data_condena.shape"
   ]
  },
  {
   "cell_type": "markdown",
   "metadata": {},
   "source": [
    "Para hacer el análisis, definimos una nueva columna con la duración en años, con los meses incluidos."
   ]
  },
  {
   "cell_type": "code",
   "execution_count": null,
   "metadata": {},
   "outputs": [],
   "source": [
    "data_condena['duracion_condena_anios_total'] = data_condena['duracion_condena_anios'] + data_condena['duracion_condena_meses']/12"
   ]
  },
  {
   "cell_type": "code",
   "execution_count": null,
   "metadata": {
    "scrolled": false
   },
   "outputs": [],
   "source": [
    "def preprocessing_duracion_condena(data_raw):\n",
    "    \n",
    "    ## Selecciono solo los condenados\n",
    "    data = data_raw[data_raw['situacion_legal_descripcion']=='Condenado']\n",
    "    \n",
    "    ## Filtro valores nulos\n",
    "    data = data.dropna(subset=['duracion_condena_meses', 'duracion_condena_anios'])\n",
    "    \n",
    "    ## Filtro condenas con duracion cero\n",
    "    mask = (data['duracion_condena_meses'] == 0) & (data['duracion_condena_anios'] == 0)\n",
    "    data = data[~mask]\n",
    "    \n",
    "    ## Defino nuevo campo para la duracion de condena\n",
    "    data['duracion_condena_anios_total'] = data['duracion_condena_anios'] + data['duracion_condena_meses']/12\n",
    "    \n",
    "    return data    \n",
    "\n",
    "def plot_duracion_condena(data):\n",
    "    \n",
    "    ## Calculo estadisticos descriptivos\n",
    "    anios = data['duracion_condena_anios_total'].sort_values()\n",
    "    moda = data['duracion_condena_anios_total'].mode().values[0]\n",
    "    media = anios.mean()\n",
    "    mediana = anios.median()\n",
    "    std = anios.std()\n",
    "\n",
    "    fig, axes = plt.subplots(figsize=(24, 8), ncols=2)\n",
    "    \n",
    "    ## Grafico histograma de tiempos de condena\n",
    "    ax = axes[0]\n",
    "    data[\"duracion_condena_anios_total\"].plot.hist(bins=13, rwidth=0.9,color='#607c8e', ax=ax, label='')\n",
    "    ax.set_yscale('log')\n",
    "    ax.set_ylabel('Número de internos')\n",
    "    ax.set_xlabel('Duración de condena (años)')\n",
    "    ax.axvline(media, linestyle='--', color='k', label=r'$\\mathrm{media: }$' + r'$ {{{:.0f}}}\\pm {{{:.0f}}}$'.format(media, std))\n",
    "    ax.axvline(mediana, linestyle='-.', color='k', label=r'$\\mathrm{mediana: }$' + r'$ {{{:.0f}}}$'.format(mediana))\n",
    "    ax.axvline(moda, linestyle=':', color='k', label=r'$\\mathrm{moda: }$' + r'$ {{{:.0f}}}$'.format(moda))\n",
    "    #text = 'Media: {:.1f}\\nMediana: {:.1f}\\nModa: {:.1f}\\nStd: {:.1f}'.format(media, mediana, moda, std)\n",
    "    #ax.text(0.75, 0.34, text, transform=ax.transAxes, fontsize=24)\n",
    "    ax.legend(loc='best', fontsize=24)\n",
    "    \n",
    "    ## Grafico CCDF\n",
    "    ax = axes[1]\n",
    "    rango_edad, ccdf = get_ccdf(anios.values)\n",
    "    ax.plot(rango_edad, ccdf, '-o')\n",
    "    ax.set_yscale('log')\n",
    "    ax.set_xlabel('Duracion de condena (años)')\n",
    "    ax.set_ylabel('Suma cumulativa complementaria')\n",
    "    \n",
    "    plt.tight_layout()\n",
    "    plt.savefig('../Informe/graficos/duracion_condena.png')\n",
    "    plt.show()\n",
    "    \n",
    "data_condena = preprocessing_duracion_condena(data_raw)\n",
    "plot_duracion_condena(data_condena)"
   ]
  },
  {
   "cell_type": "markdown",
   "metadata": {},
   "source": [
    "## Diferencias entre fecha de condena y fecha de detención\n"
   ]
  },
  {
   "cell_type": "markdown",
   "metadata": {},
   "source": [
    "Queremos ver la distribución de tiempos entre el momento de detención y el momento de condena. Para empezar, vemos cuáles son los campos relevantes y los filtramos adecuadamente."
   ]
  },
  {
   "cell_type": "code",
   "execution_count": null,
   "metadata": {},
   "outputs": [],
   "source": [
    "data_raw['fecha_detencion'].head()"
   ]
  },
  {
   "cell_type": "code",
   "execution_count": null,
   "metadata": {},
   "outputs": [],
   "source": [
    "## Filtro condenados\n",
    "data_dur_condena = data_raw[data_raw['situacion_legal_descripcion']=='Condenado']\n",
    "\n",
    "## Columnas relevantes\n",
    "date_cols = ['fecha_detencion', 'fecha_condenado']\n",
    "\n",
    "print('Sin filtrar:', data_dur_condena.shape[0])\n",
    "print('Filtrado:', data_dur_condena.dropna(subset=date_cols).shape[0])\n",
    "\n",
    "## Filtro valores nulos\n",
    "data_dur_condena = data_dur_condena.dropna(subset=date_cols)\n",
    "\n",
    "## Selecciono tipo de datos de columnas como datatime\n",
    "#data_dur_condena[date_cols] = data_dur_condena[date_cols].astype('datetime64[Y]')\n",
    "data_dur_condena['fecha_detencion'] = pd.to_datetime(data_dur_condena['fecha_detencion'], format='%Y-%m-%d')\n",
    "data_dur_condena['fecha_condenado'] = pd.to_datetime(data_dur_condena['fecha_condenado'], format='%Y-%m-%d')"
   ]
  },
  {
   "cell_type": "markdown",
   "metadata": {},
   "source": [
    "Veamos los valores extremos de la serie"
   ]
  },
  {
   "cell_type": "code",
   "execution_count": null,
   "metadata": {},
   "outputs": [],
   "source": [
    "print('Valores extremos de fechas de detención')\n",
    "print(data_dur_condena['fecha_detencion'].sort_values()[:3])\n",
    "print(data_dur_condena['fecha_detencion'].sort_values()[-3:])\n",
    "print('')\n",
    "print('')\n",
    "print('Valores extremos de fechas de condena')\n",
    "print(data_dur_condena['fecha_condenado'].sort_values()[:3])\n",
    "print(data_dur_condena['fecha_condenado'].sort_values()[-3:])"
   ]
  },
  {
   "cell_type": "markdown",
   "metadata": {},
   "source": [
    "Vemos que existen fechas incorrectas (en particular, existen fechas futuristas). Como estos casos son claramente datos mal cargados, los filtramos y nos quedamos sólo con las fechas anteriores a la fecha del censo, 31 de Diciembre de 2017"
   ]
  },
  {
   "cell_type": "code",
   "execution_count": null,
   "metadata": {},
   "outputs": [],
   "source": [
    "fecha_ultimo_censo = '2017-12-31'\n",
    "mask = (data_dur_condena['fecha_detencion'] <= fecha_ultimo_censo) & \\\n",
    "       (data_dur_condena['fecha_condenado'] <= fecha_ultimo_censo)\n",
    "print(data_dur_condena[~mask].shape[0])\n",
    "data_dur_condena = data_dur_condena[mask]"
   ]
  },
  {
   "cell_type": "markdown",
   "metadata": {},
   "source": [
    "Calculamos ahora las diferencias entre la fecha de condenado y la fecha de detención, y graficamos el histograma."
   ]
  },
  {
   "cell_type": "code",
   "execution_count": null,
   "metadata": {
    "scrolled": false
   },
   "outputs": [],
   "source": [
    "data_dur_condena['tiempo_sin_condena'] = data_dur_condena['fecha_condenado'] - data_dur_condena['fecha_detencion']\n",
    "data_dur_condena['tiempo_sin_condena'] = data_dur_condena['tiempo_sin_condena'].astype('timedelta64[Y]')\n",
    "data_dur_condena['tiempo_sin_condena'].hist(bins=20, rwidth=0.9, density=False, log=True);"
   ]
  },
  {
   "cell_type": "code",
   "execution_count": null,
   "metadata": {},
   "outputs": [],
   "source": [
    "data_dur_condena['tiempo_sin_condena'].describe()"
   ]
  },
  {
   "cell_type": "code",
   "execution_count": null,
   "metadata": {},
   "outputs": [],
   "source": [
    "data_dur_condena['tiempo_sin_condena'].sort_values().values[-10:]"
   ]
  },
  {
   "cell_type": "markdown",
   "metadata": {},
   "source": [
    "El histograma indica que existe una distribución centrada en un valor cercano a cero, y que decae, de manera aproximadamente exponencial, hacia valores negativos y positivos. Mientras que los valores positivos no parecen, a priori, extraños, es necesario interpretar los valores negativos. Para esto, hay que preguntarse si existe alguna condición en la que la fecha de condenado pueda preceder a la fecha de detención. \n",
    "\n",
    "Existen algunas hipótesis que podrían dar lugar a una situación de este tipo. La primera es que una persona podría haber recibido la condena sin estar detenida, o estando detenida en un establecimiento policial, cuyos datos no están dentro de la base de datos, y haber sido incorporada al servicio penitenciario un tiempo después. Podría suceder, incluso, que una persona se de a la fuga después de haber sido condenada, y antes de ser detenida. La segunda es que una persona puede tener múltiples causas. Se puede dar el caso en que una persona haya sido condenada por una causa y que, habiendo cumplido su condena, haya sido detenida por un segundo delito. En ese caso, podría ser que el registro muestre la fecha de condena de la primera causa, y la fecha de detención de la segunda. Para testear esta hipótesis, se podría estudiar si los registros para los cuales la diferencia de tiempos es negativa corresponde a registros de reincidentes. La tercera es que un condenado haya sido derivado de otro establecimiento y que figure como fecha de detención la fecha en la que ingresó al último establecimiento.\n",
    "\n",
    "Para este primer análisis, vamos a considerar todos los valores negativos como outliers y descartarlos. Más adelante, buscaremos evaluar estas hipótesis."
   ]
  },
  {
   "cell_type": "code",
   "execution_count": null,
   "metadata": {},
   "outputs": [],
   "source": [
    "mask = data_dur_condena['tiempo_sin_condena'] > 0\n",
    "data_dur_condena[mask].shape[0]"
   ]
  },
  {
   "cell_type": "code",
   "execution_count": null,
   "metadata": {},
   "outputs": [],
   "source": [
    "def preprocessing_dur_condena(data_raw, fecha_ultimo_censo, negativos=False):\n",
    "    \n",
    "    ## Selecciono sólo los condenados\n",
    "    data = data_raw[data_raw['situacion_legal_descripcion']=='Condenado']\n",
    "\n",
    "    ## Columnas relevantes\n",
    "    date_cols = ['fecha_detencion', 'fecha_condenado']\n",
    "\n",
    "    ## Filtro valores nulos\n",
    "    data = data.dropna(subset=date_cols)\n",
    "\n",
    "    ## Selecciono tipo de datos de columnas como datatime\n",
    "    data['fecha_detencion'] = pd.to_datetime(data['fecha_detencion'], format='%Y-%m-%d')\n",
    "    data['fecha_condenado'] = pd.to_datetime(data['fecha_condenado'], format='%Y-%m-%d')\n",
    "    \n",
    "    ## Filtro las fechas 'del futuro' (fechas posteriores a la realizacion del censo)\n",
    "    mask = (data['fecha_detencion'] < fecha_ultimo_censo) & \\\n",
    "           (data['fecha_condenado'] < fecha_ultimo_censo)\n",
    "    data = data[mask]\n",
    "    \n",
    "    ## Defino campo con tiempo sin condena\n",
    "    data['tiempo_sin_condena'] = data['fecha_condenado'] - data['fecha_detencion']\n",
    "    \n",
    "    ## Selecciono tipo de datos como timedelta medido en años\n",
    "    data['tiempo_sin_condena'] = data['tiempo_sin_condena'].astype('timedelta64[Y]')\n",
    "    \n",
    "    ## Filtro valores negativos\n",
    "    if not negativos:\n",
    "        mask = data['tiempo_sin_condena'] > 0\n",
    "        data = data[mask]\n",
    "    \n",
    "    return data\n",
    "\n",
    "def plot_tiempo_sin_condena(data, negativos=False):\n",
    "\n",
    "    tiempo_sin_condena_anios = data['tiempo_sin_condena']\n",
    "\n",
    "    moda = data['tiempo_sin_condena'].mode().values[0]\n",
    "    media = data['tiempo_sin_condena'].mean()\n",
    "    mediana = tiempo_sin_condena_anios.median()\n",
    "    std = tiempo_sin_condena_anios.std()\n",
    "\n",
    "    fig, ax = plt.subplots(figsize=(12, 8))\n",
    "    ax.set_xlabel('Años')\n",
    "    ax.set_ylabel('Número de internos')\n",
    "    ax.hist(tiempo_sin_condena_anios.values, rwidth=0.9, log=True, bins=12, color='#607c8e')\n",
    "    ax.axvline(media, linestyle='--', color='k', label=r'$\\mathrm{media: }$' + r'$ {{{:.1f}}}\\pm {{{:.1f}}}$'.format(media, std))\n",
    "    ax.axvline(mediana, linestyle='-.', color='k', label=r'$\\mathrm{mediana: }$' + r'$ {{{:.1f}}}$'.format(mediana))\n",
    "    ax.axvline(moda, linestyle=':', color='k', label=r'$\\mathrm{moda: }$' + r'$ {{{:.1f}}}$'.format(moda))\n",
    "    #text = 'Media: {:.1f}\\nMediana: {:.1f}\\nModa: {:.1f}\\nStd: {:.1f}'.format(media, mediana, moda, std)\n",
    "    #ax.text(0.75, 0.34, text, transform=ax.transAxes, fontsize=24)\n",
    "    ax.legend(loc='best')\n",
    "    if negativos:\n",
    "        plt.savefig('../Informe/graficos/diff_condenado_detencion_negativos.png')\n",
    "    else:\n",
    "        plt.savefig('../Informe/graficos/diff_condenado_detencion.png')\n",
    "    plt.show()\n",
    "    \n",
    "fecha_ultimo_censo = '2017-12-31'\n",
    "data_dur_condena = preprocessing_dur_condena(data_raw, fecha_ultimo_censo, negativos=True)\n",
    "plot_tiempo_sin_condena(data_dur_condena, negativos=True)\n",
    "data_dur_condena = preprocessing_dur_condena(data_raw, fecha_ultimo_censo)\n",
    "plot_tiempo_sin_condena(data_dur_condena)"
   ]
  },
  {
   "cell_type": "markdown",
   "metadata": {},
   "source": [
    "## Cantidad de delitos cometidos por interno"
   ]
  },
  {
   "cell_type": "markdown",
   "metadata": {},
   "source": [
    "Cada interno puede haber cometido uno o más delitos. Cada delito está registrado en un campo distinto, y se registra hasta un máximo de 5 delitos, ordenados de mayor a menor gravedad. Aquí veremos cómo se distribuye el número de delitos por interno."
   ]
  },
  {
   "cell_type": "markdown",
   "metadata": {},
   "source": [
    "Extraemos los campos relevantes"
   ]
  },
  {
   "cell_type": "code",
   "execution_count": null,
   "metadata": {
    "scrolled": true
   },
   "outputs": [],
   "source": [
    "delito_cols = ['delito{}_descripcion'.format(i) for i in range(1, 6)]\n",
    "data_raw[delito_cols].sample(10)"
   ]
  },
  {
   "cell_type": "markdown",
   "metadata": {},
   "source": [
    "Creamos un nuevo campo que contenga el número de delitos por interno"
   ]
  },
  {
   "cell_type": "code",
   "execution_count": null,
   "metadata": {},
   "outputs": [],
   "source": [
    "data_raw['delitos_cantidad'] = data_raw[delito_cols].count(axis=1)"
   ]
  },
  {
   "cell_type": "markdown",
   "metadata": {},
   "source": [
    "Graficamos el histograma"
   ]
  },
  {
   "cell_type": "code",
   "execution_count": null,
   "metadata": {},
   "outputs": [],
   "source": [
    "def preprocessing_cantidad_delitos(data_raw):\n",
    "    \n",
    "    data_raw['delitos_cantidad'] = data_raw[delito_cols].count(axis=1)\n",
    "    data = data_raw.dropna(subset=['delitos_cantidad'])\n",
    "    return data\n",
    "\n",
    "def plot_cantidad_delitos(data):\n",
    "\n",
    "    bin_edges = [0.5, 1.5, 2.5, 3.5, 4.5, 5.5]\n",
    "    bin_centers = np.diff(bin_edges)\n",
    "\n",
    "    mean = data['delitos_cantidad'].mean()\n",
    "    std = data['delitos_cantidad'].std()\n",
    "    mode = data['delitos_cantidad'].mode()[0]\n",
    "    median = data['delitos_cantidad'].median()\n",
    "\n",
    "    fig, ax = plt.subplots(figsize=(10, 6))\n",
    "    arr = ax.hist(data_raw['delitos_cantidad'], bins=bin_edges, rwidth=0.9, color='#607c8e')\n",
    "    for i in range(5):\n",
    "        ax.text(arr[1][i]+0.2, arr[0][i]+0.1*arr[0][i], '{:5.0f}'.format(arr[0][i]), fontsize=22)\n",
    "    text = 'Media: {:.1f}\\nMediana: {:.1f}\\nModa: {:.1f}\\nStd: {:.1f}'.format(media, mediana, moda, std)\n",
    "    ax.text(0.7, 0.7, text, fontsize=22, transform=ax.transAxes)\n",
    "    ax.set_xticks([1, 2, 3, 4, 5])\n",
    "    ax.set_ylim((1, 200000))\n",
    "    ax.set_xlabel('Cantidad de delitos')\n",
    "    ax.set_ylabel('Número de internos')\n",
    "    ax.set_yscale('log')\n",
    "    plt.savefig('../Informe/graficos/cantidad_delitos.png')\n",
    "    plt.show()\n",
    "    \n",
    "data = preprocessing_cantidad_delitos(data_raw)\n",
    "plot_cantidad_delitos(data)"
   ]
  },
  {
   "cell_type": "markdown",
   "metadata": {},
   "source": [
    "## Análisis temporal"
   ]
  },
  {
   "cell_type": "code",
   "execution_count": null,
   "metadata": {},
   "outputs": [],
   "source": [
    "temporal_data_file = '../datasets/sneep_2002_2017_diplodatos.zip'\n",
    "temp_data = pd.read_csv(temporal_data_file, compression='zip', index_col=0)"
   ]
  },
  {
   "cell_type": "code",
   "execution_count": null,
   "metadata": {},
   "outputs": [],
   "source": [
    "temp_data.sample(5)"
   ]
  },
  {
   "cell_type": "markdown",
   "metadata": {},
   "source": [
    "Corroboremos que tenemos datos de todos los años entre 2002 y 2017"
   ]
  },
  {
   "cell_type": "code",
   "execution_count": null,
   "metadata": {},
   "outputs": [],
   "source": [
    "temp_data['anio_censo'].unique()"
   ]
  },
  {
   "cell_type": "markdown",
   "metadata": {},
   "source": [
    "### Situación legal"
   ]
  },
  {
   "cell_type": "markdown",
   "metadata": {},
   "source": [
    "Veamos cómo evoluciona la cantidad de internos condenados y procesados a lo largo de los años, y si nuestro análisis se condice con el de la nota de chequeado:\n",
    "\n",
    "https://chequeado.com/ultimas-noticias/martin-casares-por-primera-vez-en-la-historia-en-2017-el-porcentaje-de-condenados-supero-al-de-procesados/\n",
    "\n"
   ]
  },
  {
   "cell_type": "code",
   "execution_count": null,
   "metadata": {},
   "outputs": [],
   "source": [
    "pivot = temp_data.dropna(subset=['situacion_legal_descripcion']).pivot_table(index='anio_censo', \n",
    "                                                                             columns='situacion_legal_descripcion', \n",
    "                                                                             values='provincia_descripcion', aggfunc='count')\n",
    "\n",
    "mask = temp_data['provincia_descripcion'] == 'Buenos Aires'\n",
    "pivot_ba = temp_data[mask].dropna(subset=['situacion_legal_descripcion']).pivot_table(index='anio_censo', \n",
    "                                                                                     columns='situacion_legal_descripcion', \n",
    "                                                                                     values='provincia_descripcion', aggfunc='count')\n",
    "\n",
    "pivot"
   ]
  },
  {
   "cell_type": "code",
   "execution_count": null,
   "metadata": {},
   "outputs": [],
   "source": [
    "condenados = pivot['Condenado']\n",
    "procesados = pivot['Procesado']\n",
    "condenados_ba = pivot_ba['Condenado']\n",
    "procesados_ba = pivot_ba['Procesado']"
   ]
  },
  {
   "cell_type": "code",
   "execution_count": null,
   "metadata": {
    "scrolled": false
   },
   "outputs": [],
   "source": [
    "fig, axes = plt.subplots(figsize=(24, 8), ncols=2)\n",
    "ax = axes[0]\n",
    "ax.plot(condenados.index, condenados.values, '-o', label='Condenados')\n",
    "ax.plot(procesados.index, procesados.values, '-s', label='Procesados')\n",
    "ax.set_title('Todo el país', fontsize=26)\n",
    "ax.set_xlabel('Año')\n",
    "ax.set_ylabel('Número de internos')\n",
    "ax.set_xticks(range(2002, 2018, 2))\n",
    "plt.setp(ax.xaxis.get_majorticklabels(), rotation=45)\n",
    "ax.legend(loc='best')\n",
    "\n",
    "ax = axes[1]\n",
    "ax.plot(condenados_ba.index, condenados_ba.values, '-o', label='Condenados')\n",
    "ax.plot(procesados_ba.index, procesados_ba.values, '-s', label='Procesados')\n",
    "ax.set_title('Buenos Aires', fontsize=26)\n",
    "ax.set_xlabel('Año')\n",
    "ax.set_ylabel('Número de internos')\n",
    "ax.set_xticks(range(2002, 2018, 2))\n",
    "plt.setp(ax.xaxis.get_majorticklabels(), rotation=45)\n",
    "ax.legend(loc='best')\n",
    "\n",
    "plt.tight_layout()\n",
    "plt.savefig('../Informe/graficos/situacion_legal.png')\n",
    "plt.show()"
   ]
  },
  {
   "cell_type": "markdown",
   "metadata": {},
   "source": [
    "Vemos que nuestro análisis coincide con los gráficos que se muestran en la nota."
   ]
  },
  {
   "cell_type": "code",
   "execution_count": null,
   "metadata": {},
   "outputs": [],
   "source": [
    "mask = temp_data['jurisdiccion_descripcion'] == 'FEDERAL'\n",
    "federal = temp_data[mask]['anio_censo'].value_counts().sort_index()\n",
    "no_federal = temp_data[~mask]['anio_censo'].value_counts().sort_index()\n",
    "\n",
    "fig, ax = plt.subplots(figsize=(12, 8), ncols=1)\n",
    "\n",
    "ax.plot(federal.index, federal/federal.loc[2002], '-o', label='Establecimientos federales')\n",
    "ax.plot(no_federal.index, no_federal/no_federal.loc[2002], '-s', label='Establecimientos no federales')\n",
    "ax.set_xlabel('Año')\n",
    "ax.set_ylabel('Variación')\n",
    "ax.set_title('Variación del número de internos respecto al año 2002', fontsize=22)\n",
    "ax.set_xticks(range(2002, 2018, 2))\n",
    "plt.setp(ax.xaxis.get_majorticklabels(), rotation=45)\n",
    "ax.legend(loc='best')\n",
    "plt.savefig('../Informe/graficos/variacion_2002_2017.png')\n",
    "plt.show()"
   ]
  },
  {
   "cell_type": "markdown",
   "metadata": {},
   "source": [
    "Vemos que hay una tendencia a la suba en la cantidad de internos. Sin embargo, habría que comparar estos datos con el crecimiento demográfico del país como para determinar si la suba es o no consecuencia del aumento poblacional."
   ]
  },
  {
   "cell_type": "markdown",
   "metadata": {},
   "source": [
    "## Participación en programas educativos. Evolución temporal"
   ]
  },
  {
   "cell_type": "markdown",
   "metadata": {},
   "source": [
    "Queremos ver cómo varía la proporción de internos que participa en programas educativos a lo largo del tiempo."
   ]
  },
  {
   "cell_type": "code",
   "execution_count": null,
   "metadata": {
    "scrolled": false
   },
   "outputs": [],
   "source": [
    "temp_data['participacion_programa_educativo_descripcion'].unique()\n",
    "contingency = temp_data.pivot_table(index='participacion_programa_educativo_descripcion', columns='anio_censo',\n",
    "                              values='provincia_descripcion', aggfunc='count', margins=True)\n",
    "conditionals = (contingency / contingency.loc['All']).T\n",
    "conditionals = conditionals.drop(['All'])\n",
    "conditionals = conditionals.drop(['All'], axis=1)\n",
    "columns = conditionals.columns.values\n",
    "labels_dict = dict(zip(['No participa', 'Primaria', 'Secundaria', 'Terciaria', 'Universitaria', 'No formal'],\n",
    "                      columns))\n",
    "fig, axes = plt.subplots(figsize=(24, 8), ncols=2)\n",
    "\n",
    "ax = axes[0]\n",
    "ax.plot(conditionals.index, conditionals.iloc[:,1:-1].sum(axis=1), '-o', label='Educacion formal')\n",
    "ax.plot(conditionals.index, conditionals[labels_dict['No formal']], '-s', label='Educacion no formal')\n",
    "ax.plot(conditionals.index, conditionals.iloc[:,1:].sum(axis=1), '-^', label='Total')\n",
    "ax.set_title('Participación en programas educativos', fontsize=24)\n",
    "ax.set_ylabel('Fracción de participantes')\n",
    "ax.set_xlabel('Año')\n",
    "ax.set_xticks(range(2002, 2018, 2))\n",
    "plt.setp(ax.xaxis.get_majorticklabels(), rotation=45)\n",
    "ax.legend(loc='best')\n",
    "\n",
    "ax = axes[1]\n",
    "for i, (label, column) in enumerate(list(labels_dict.items())[1:-1]):\n",
    "    ax.plot(conditionals.index, conditionals[column], marker=markers[i], label=label)\n",
    "ax.set_title('Participación en programas de educación formal', fontsize=24)\n",
    "ax.set_ylabel('Fracción de participantes')\n",
    "ax.set_xlabel('Año')\n",
    "ax.set_xticks(range(2002, 2018, 2))\n",
    "plt.setp(ax.xaxis.get_majorticklabels(), rotation=45)\n",
    "ax.legend(loc='best')\n",
    "\n",
    "plt.tight_layout()\n",
    "plt.savefig('../Informe/graficos/participacion_educativos.png')\n",
    "plt.show()"
   ]
  },
  {
   "cell_type": "markdown",
   "metadata": {},
   "source": [
    "Se puede ver que la participación en programas de educación formal aumentó a lo largo del tiempo. Desglosando entre los distintos niveles educativos, podemos apreciar que el aumento se dio principalmente en el nivel secundario."
   ]
  },
  {
   "cell_type": "markdown",
   "metadata": {},
   "source": [
    "## Diferencias entre internos según nacionalidad"
   ]
  },
  {
   "cell_type": "markdown",
   "metadata": {},
   "source": [
    "Veamos qué porcentaje de los internos son argentinos y qué porcentaje son extranjeros"
   ]
  },
  {
   "cell_type": "code",
   "execution_count": null,
   "metadata": {},
   "outputs": [],
   "source": [
    "nacionalidades = data_raw['nacionalidad_descripcion'].value_counts()\n",
    "nacionalidades_porcentaje = 100*nacionalidades / nacionalidades.sum()\n",
    "nacionalidades_porcentaje.name = 'Porcentaje_internos'\n",
    "pd.DataFrame(nacionalidades_porcentaje)"
   ]
  },
  {
   "cell_type": "code",
   "execution_count": null,
   "metadata": {},
   "outputs": [],
   "source": [
    "nacionalidades"
   ]
  },
  {
   "cell_type": "markdown",
   "metadata": {},
   "source": [
    "Ahora nos preguntamos, cuál es la probabilidad de que un interno pertenezca a una dada nacionalidad dado que pertenece a una cárcel federal?"
   ]
  },
  {
   "cell_type": "code",
   "execution_count": null,
   "metadata": {},
   "outputs": [],
   "source": [
    "mask = data_raw['jurisdiccion_descripcion'] == 'FEDERAL'\n",
    "nacionalidades_federales = data_raw[mask]['nacionalidad_descripcion'].value_counts()\n",
    "nacionalidades_no_federales = data_raw[~mask]['nacionalidad_descripcion'].value_counts()\n",
    "\n",
    "d = {\n",
    "    'federales': 100*nacionalidades_federales / nacionalidades_federales.sum(),\n",
    "    'no_federales': 100*nacionalidades_no_federales / nacionalidades_no_federales.sum()\n",
    "}\n",
    "\n",
    "df = pd.DataFrame(d).fillna(0)\n",
    "df"
   ]
  },
  {
   "cell_type": "markdown",
   "metadata": {},
   "source": [
    "Contando todos los establecimientos, más del 94% de los internos son argentinos. Sin embargo, si clasificamos según cárceles federales y no federales, vemos que en las cárceles federales existe un porcentaje significativamente menor de argentinos."
   ]
  },
  {
   "cell_type": "code",
   "execution_count": null,
   "metadata": {},
   "outputs": [],
   "source": [
    "def plot_nacionalidades_bar(data, federales=False, no_federales=False):\n",
    "    \n",
    "    data = data / data.sum()\n",
    "    \n",
    "    ## Filtro Argentina para mejor visualizacion\n",
    "    arg = data.loc['Argentina']\n",
    "    data = data.drop('Argentina')\n",
    "    \n",
    "    ## Filtro nacionalidades menos representadas\n",
    "    for nac, perc in data.items():\n",
    "        if perc < 0.0001:\n",
    "            data = data.drop(nac)\n",
    "\n",
    "    fig, ax = plt.subplots(figsize=(10, 6))\n",
    "    \n",
    "    yticks = np.arange(data.shape[0])\n",
    "    ax.set_yticks(yticks)\n",
    "    ax.set_yticklabels(data.index.values)\n",
    "    plt.yticks(fontsize=20)\n",
    "    plt.xticks([])\n",
    "    ax.spines['right'].set_visible(False)\n",
    "    ax.spines['top'].set_visible(False)\n",
    "    ax.spines['bottom'].set_visible(False)\n",
    "    if federales:\n",
    "        ax.set_title('Establecimientos federales', fontsize=22)\n",
    "    elif no_federales:\n",
    "        ax.set_title('Establecimientos no federales', fontsize=22)\n",
    "    else:\n",
    "        ax.set_title('Todos los establecimientos', fontsize=22)\n",
    "    \n",
    "    \n",
    "    \n",
    "    ax.barh(yticks, data, color='#607c8e')\n",
    "    \n",
    "    ## Anoto el valor para Argentina\n",
    "    ax.text(0.6, 0.90, 'Argentina: {:.2f}%'.format(100*arg), transform=ax.transAxes, fontsize=20)\n",
    "\n",
    "    ## Anoto los porcentajes junto a las barras\n",
    "    for p in ax.patches:\n",
    "        width, height = p.get_width(), p.get_height()\n",
    "        x, y = p.get_xy() \n",
    "        ax.annotate('{:.2%}'.format(width), (x + width + 0.0001, y + 0.2), fontsize=20)\n",
    "\n",
    "    if federales:\n",
    "        plt.savefig('../Informe/graficos/nacionalidad_bar_federales.png')  \n",
    "    elif no_federales:\n",
    "        plt.savefig('../Informe/graficos/nacionalidad_bar_no_federales.png')\n",
    "    else:\n",
    "        plt.savefig('../Informe/graficos/nacionalidad_bar.png')\n",
    "        \n",
    "    plt.show()\n",
    "    \n",
    "plot_nacionalidades_bar(nacionalidades)\n",
    "plot_nacionalidades_bar(nacionalidades_federales, federales=True)\n",
    "plot_nacionalidades_bar(nacionalidades_no_federales, no_federales=True)"
   ]
  },
  {
   "cell_type": "markdown",
   "metadata": {},
   "source": [
    "## Correlación entre la participación en programas educativos e infracciones disciplinarias"
   ]
  },
  {
   "cell_type": "markdown",
   "metadata": {},
   "source": [
    "Queremos ver si la participación en programas educativos influye en la cantidad de faltas disciplinarias. Veamos primero las categorías de los campos relevantes."
   ]
  },
  {
   "cell_type": "code",
   "execution_count": null,
   "metadata": {},
   "outputs": [],
   "source": [
    "data_raw['participacion_programa_educativo_descripcion'].value_counts()"
   ]
  },
  {
   "cell_type": "code",
   "execution_count": null,
   "metadata": {},
   "outputs": [],
   "source": [
    "data_raw['tipo_infraccion_disciplinaria_descripcion'].value_counts()"
   ]
  },
  {
   "cell_type": "markdown",
   "metadata": {},
   "source": [
    "Filtramos los datos nulos"
   ]
  },
  {
   "cell_type": "code",
   "execution_count": null,
   "metadata": {},
   "outputs": [],
   "source": [
    "data_reincidencia = data_raw.dropna(subset=['tipo_infraccion_disciplinaria_descripcion', 'participacion_programa_educativo_descripcion'])\n",
    "data_reincidencia.shape[0]"
   ]
  },
  {
   "cell_type": "code",
   "execution_count": null,
   "metadata": {},
   "outputs": [],
   "source": [
    "data_reincidencia['participacion_programa_educativo_descripcion'].value_counts() / \\\n",
    "data_reincidencia['participacion_programa_educativo_descripcion'].count()"
   ]
  },
  {
   "cell_type": "code",
   "execution_count": null,
   "metadata": {},
   "outputs": [],
   "source": [
    "data_reincidencia['tipo_infraccion_disciplinaria_descripcion'].value_counts() / \\\n",
    "data_reincidencia['tipo_infraccion_disciplinaria_descripcion'].count()"
   ]
  },
  {
   "cell_type": "code",
   "execution_count": null,
   "metadata": {},
   "outputs": [],
   "source": [
    "contingency = pd.crosstab(data_reincidencia['participacion_programa_educativo_descripcion'],\n",
    "                          data_reincidencia['tipo_infraccion_disciplinaria_descripcion'], \n",
    "                          margins=True, normalize=True)\n",
    "contingency"
   ]
  },
  {
   "cell_type": "code",
   "execution_count": null,
   "metadata": {},
   "outputs": [],
   "source": [
    "contingency['Faltas graves'] / contingency['All']"
   ]
  },
  {
   "cell_type": "markdown",
   "metadata": {},
   "source": [
    "## Salidas transitorias vs Reincidencia"
   ]
  },
  {
   "cell_type": "markdown",
   "metadata": {},
   "source": [
    "Queremos determinar si la reincidencia es un factor que influye en el otorgamiento de salidas transitorias"
   ]
  },
  {
   "cell_type": "code",
   "execution_count": null,
   "metadata": {},
   "outputs": [],
   "source": [
    "transitorias = 'tuvo_salidas_transitorias_descripcion'\n",
    "data_raw[transitorias].value_counts()"
   ]
  },
  {
   "cell_type": "code",
   "execution_count": null,
   "metadata": {},
   "outputs": [],
   "source": [
    "def percent(X):\n",
    "    return X/X[-1]\n",
    "    \n",
    "cross = pd.crosstab(data_raw[transitorias], data_raw['es_reincidente_descripcion'], margins=True).apply(percent)\n",
    "cross"
   ]
  },
  {
   "cell_type": "code",
   "execution_count": null,
   "metadata": {},
   "outputs": [],
   "source": [
    "cross.Primario / cross['All']"
   ]
  },
  {
   "cell_type": "markdown",
   "metadata": {},
   "source": [
    "## Es posible predecir intentos de suicidio? Y de fuga?"
   ]
  },
  {
   "cell_type": "code",
   "execution_count": null,
   "metadata": {},
   "outputs": [],
   "source": [
    "suicidio = 'tentativa_suicidio'\n",
    "data_raw[suicidio].value_counts()"
   ]
  },
  {
   "cell_type": "code",
   "execution_count": null,
   "metadata": {},
   "outputs": [],
   "source": [
    "fugas = 'tentativa_fugas_evasiones_descripcion'\n",
    "data_raw[fugas].value_counts()"
   ]
  },
  {
   "cell_type": "code",
   "execution_count": null,
   "metadata": {},
   "outputs": [],
   "source": [
    "visitas = 'recibio_visitas_ultimo_anio'\n",
    "data_raw[visitas].value_counts()"
   ]
  },
  {
   "cell_type": "code",
   "execution_count": null,
   "metadata": {},
   "outputs": [],
   "source": [
    "mask = (data_raw[suicidio] == 1) & (data_raw[visitas] == 1)\n",
    "data_raw[mask].shape"
   ]
  },
  {
   "cell_type": "code",
   "execution_count": null,
   "metadata": {},
   "outputs": [],
   "source": [
    "mask = (data_raw[fugas] != 'No') & (data_raw[visitas] == 1)\n",
    "data_raw[mask].dropna(subset=[fugas, visitas]).shape"
   ]
  },
  {
   "cell_type": "markdown",
   "metadata": {},
   "source": [
    "## Cómo se distribuye la población penal según su nivel de instrucción? \n",
    "\n",
    "### Los tipos de delitos, varían según nivel de instrucción?\n",
    "\n",
    "Obs: Los delitos no necesariamente están ordenados por gravedad"
   ]
  },
  {
   "cell_type": "code",
   "execution_count": null,
   "metadata": {},
   "outputs": [],
   "source": [
    "instruccion = 'nivel_instruccion_descripcion'\n",
    "data_raw[instruccion].value_counts()"
   ]
  },
  {
   "cell_type": "code",
   "execution_count": null,
   "metadata": {},
   "outputs": [],
   "source": [
    "data_raw[data_raw[instruccion]=='Universitario completo'][delito_cols]"
   ]
  },
  {
   "cell_type": "markdown",
   "metadata": {},
   "source": [
    "## Otros análisis (posiblemente incompletos)"
   ]
  },
  {
   "cell_type": "markdown",
   "metadata": {},
   "source": [
    "La duración de condenas parece decaer exponencialmente."
   ]
  },
  {
   "cell_type": "code",
   "execution_count": null,
   "metadata": {},
   "outputs": [],
   "source": [
    "from scipy.stats import kstest\n",
    "anios = data_condena['duracion_condena_anios_total'].sort_values()\n",
    "kstest(anios, 'expon')"
   ]
  },
  {
   "cell_type": "markdown",
   "metadata": {},
   "source": [
    "De acuerdo con el test de KS, la distribución no es exponencial. TODO hacer algún otro test. Puede ser Poisson?"
   ]
  },
  {
   "cell_type": "markdown",
   "metadata": {},
   "source": [
    "Obtenemos el parámetro de la distribución exponencial usando MLE.\n",
    "\n",
    "Referencia: https://www.comp.nus.edu.sg/~limkw/pubs/Lim_MLE_2017.pdf\n",
    "\n",
    "Para la distribución $p(x) = \\lambda e^{-\\lambda x}$, el estimador insesgado está dado por \n",
    "\n",
    "$$\n",
    "\\hat{\\lambda} = \\dfrac{N-1}{\\sum_{i=1}^N x_i},\n",
    "$$\n",
    "\n",
    "y su varianza está dada por \n",
    "\n",
    "$$\n",
    "\\mathrm{V}[\\hat{\\lambda}] = \\dfrac{\\hat{\\lambda}^2}{N-2}.\n",
    "$$\n",
    "\n"
   ]
  },
  {
   "cell_type": "code",
   "execution_count": null,
   "metadata": {},
   "outputs": [],
   "source": [
    "N = anios.shape[0]\n",
    "\n",
    "## MLE\n",
    "l_est = (N-1) / anios.sum()\n",
    "var_l_est = l_est**2 / (N-2)\n",
    "std_l_est = np.sqrt(var_l_est)\n",
    "print(l_est, '+-', std_l_est)\n",
    "\n",
    "## Error\n",
    "l_est_max = l_est + std_l_est\n",
    "l_est_min = l_est - std_l_est\n",
    "\n",
    "X_MLE = np.linspace(0, 50, 100)\n",
    "Y_MLE = l_est*np.exp(-l_est*X_MLE)\n",
    "Y_max = l_est_max*np.exp(-l_est_max*X_MLE)\n",
    "Y_min = l_est_min*np.exp(-l_est_min*X_MLE)"
   ]
  },
  {
   "cell_type": "markdown",
   "metadata": {},
   "source": [
    "Ajuste por mínimos cuadrados sobre la CCDF"
   ]
  },
  {
   "cell_type": "code",
   "execution_count": null,
   "metadata": {},
   "outputs": [],
   "source": [
    "from sklearn.linear_model import LinearRegression\n",
    "rango_edad, ccdf = get_ccdf(anios.values)\n",
    "linear_regressor = LinearRegression() \n",
    "X_LS = rango_edad.reshape(-1, 1)\n",
    "Y_LS = np.log(ccdf).reshape(-1, 1)\n",
    "linear_regressor.fit(X_LS, Y_LS)  # perform linear regression\n",
    "Y_pred = linear_regressor.predict(X_LS)  # make predictions\n",
    "slope = linear_regressor.coef_[0][0]\n",
    "r2 = linear_regressor.score(X_LS, Y_LS)"
   ]
  },
  {
   "cell_type": "code",
   "execution_count": null,
   "metadata": {
    "scrolled": false
   },
   "outputs": [],
   "source": [
    "fig, axes = plt.subplots(figsize=(24, 8), ncols=2)\n",
    "ax = axes[0]\n",
    "data_condena[\"duracion_condena_anios\"].plot.hist(bins=16, rwidth=0.9,color='#607c8e', ax=ax, density=True, label='')\n",
    "ax.set_yscale('log')\n",
    "ax.set_ylabel('Frecuencia')\n",
    "ax.set_xlabel('Duración de condena (años)')\n",
    "ax.plot(X_MLE, Y_MLE, color='red', label=r'$\\lambda_{\\mathrm{MLE}} = $' + r'$ {{{:.4f}}}\\pm {{{:.4f}}}$'.format(l_est, std_l_est))\n",
    "ax.plot(X_LS, -slope*np.exp(Y_pred), color='green', \n",
    "        label=r'$\\lambda_{\\mathrm{LS}} = $' + r'$ {{{:.4f}}},$'.format(-slope) + r' ' + r'$ r^2 = {{{:.3f}}}$'.format(r2))\n",
    "ax.fill_between(X_MLE, Y_min, Y_max, alpha=0.5, color='red')\n",
    "ax.legend(loc='best')\n",
    "\n",
    "ax = axes[1]\n",
    "ax.set_yscale('log')\n",
    "ax.set_xlabel('Duracion de condena (años)')\n",
    "ax.set_ylabel('Suma cumulativa complementaria')\n",
    "X = np.linspace(0, 50, 100)\n",
    "Y = np.exp(-l_est*X) \n",
    "ax.plot(rango_edad, ccdf, '-o')\n",
    "ax.plot(X, Y, color='red')\n",
    "ax.plot(X_LS, np.exp(Y_pred), color='green')\n",
    "\n",
    "plt.show()"
   ]
  },
  {
   "cell_type": "markdown",
   "metadata": {},
   "source": [
    "Visualmente se puede ver que el estimador ML no da un buen resultado. Mínimos cuadrados ajusta mejor. Sin embargo, habría que hacer más tests para determinar si la distribución de tiempos de condena es realmente exponencial."
   ]
  }
 ],
 "metadata": {
  "colab": {
   "collapsed_sections": [],
   "include_colab_link": true,
   "name": "DiploDatos-PoblacionPenitenciariaArgentina-VyA.ipynb",
   "provenance": [],
   "version": "0.3.2"
  },
  "kernelspec": {
   "display_name": "Python 3",
   "language": "python",
   "name": "python3"
  },
  "language_info": {
   "codemirror_mode": {
    "name": "ipython",
    "version": 3
   },
   "file_extension": ".py",
   "mimetype": "text/x-python",
   "name": "python",
   "nbconvert_exporter": "python",
   "pygments_lexer": "ipython3",
   "version": "3.7.3"
  }
 },
 "nbformat": 4,
 "nbformat_minor": 1
}
