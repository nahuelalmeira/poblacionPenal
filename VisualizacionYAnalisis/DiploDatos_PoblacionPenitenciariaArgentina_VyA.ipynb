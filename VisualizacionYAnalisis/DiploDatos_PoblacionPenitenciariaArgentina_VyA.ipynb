{
 "cells": [
  {
   "cell_type": "markdown",
   "metadata": {
    "colab_type": "text",
    "id": "view-in-github"
   },
   "source": [
    "<a href=\"https://colab.research.google.com/github/nahuelalmeira/poblacionPenal/blob/master/DiploDatos_PoblacionPenitenciariaArgentina_VyA.ipynb\" target=\"_parent\"><img src=\"https://colab.research.google.com/assets/colab-badge.svg\" alt=\"Open In Colab\"/></a>"
   ]
  },
  {
   "cell_type": "markdown",
   "metadata": {
    "colab_type": "text",
    "id": "er50CAdUP5-C"
   },
   "source": [
    "# DiploDatos 2019 -  Población Penitenciaria en Argentina"
   ]
  },
  {
   "cell_type": "markdown",
   "metadata": {
    "colab_type": "text",
    "id": "Ob8rhY4xQFCZ"
   },
   "source": [
    "\n",
    "\n",
    "\n",
    "> http://diplodatos.famaf.unc.edu.ar/poblacion-penitenciaria-en-argentina-2002-a-2017/\n",
    "\n",
    "\n"
   ]
  },
  {
   "cell_type": "markdown",
   "metadata": {
    "colab_type": "text",
    "id": "pBy37x-nOl0m"
   },
   "source": [
    "## Practico Análisis y Visualización de Datos"
   ]
  },
  {
   "cell_type": "markdown",
   "metadata": {
    "colab_type": "text",
    "id": "e9JpNwvnJ7b_"
   },
   "source": [
    "En este notebook se explicarán los métodos para la carga inicial de los datos que vamos a usar en el proyecto, se describirá la estructura general de los mismos, y veremos algunos métodos básicos de análisis.\n",
    "\n",
    "Antes de comenzar a trabajar con CSVs, siempre es recomendable descargar el dataset en nuestra computadora y observarlo directamente con alguna herramienta de procesamiento de texto , para tener una visión rápida del tipo de datos con el cual trabajeremos, pero también para asegurarnos que estamos utilizando un archivo con el formato correcto."
   ]
  },
  {
   "cell_type": "code",
   "execution_count": 1,
   "metadata": {},
   "outputs": [
    {
     "data": {
      "text/html": [
       "<style>.container { width:90% !important; }</style>"
      ],
      "text/plain": [
       "<IPython.core.display.HTML object>"
      ]
     },
     "metadata": {},
     "output_type": "display_data"
    }
   ],
   "source": [
    "### Aumentar el ancho del notebook\n",
    "from IPython.core.display import display, HTML\n",
    "display(HTML(\"<style>.container { width:90% !important; }</style>\"))"
   ]
  },
  {
   "cell_type": "markdown",
   "metadata": {
    "colab_type": "text",
    "id": "So2jL_sVMUoP"
   },
   "source": [
    "### Inicialización y carga de datos"
   ]
  },
  {
   "cell_type": "code",
   "execution_count": 32,
   "metadata": {
    "colab": {},
    "colab_type": "code",
    "id": "OzQIHr0ryXj-"
   },
   "outputs": [],
   "source": [
    "# Importamos las librerías necesarias\n",
    "import os\n",
    "import sys\n",
    "import pandas as pd\n",
    "import numpy as np\n",
    "import matplotlib.pyplot as plt\n",
    "import seaborn as sns\n",
    "pd.set_option('display.max_columns', 50)\n",
    "pd.set_option('display.max_columns', 100)\n",
    "\n",
    "#\n",
    "sys.path.append('../config')\n",
    "from mpl_settings_v3 import *"
   ]
  },
  {
   "cell_type": "code",
   "execution_count": null,
   "metadata": {
    "colab": {
     "base_uri": "https://localhost:8080/",
     "height": 71
    },
    "colab_type": "code",
    "id": "JRFpX9UOykhz",
    "outputId": "d050cb20-6075-4729-e3b3-121df6d2d98c"
   },
   "outputs": [],
   "source": [
    "## Cargamos el CSV en un dataframe. Si es posible, lo descargamos y \n",
    "## sino, lo leemos online\n",
    "\n",
    "data_dir = '../datasets'\n",
    "data_file = os.path.join(data_dir, 'sneep_2017_diplodatos.zip')\n",
    "url = 'https://github.com/camporeale/Datos/raw/master/sneep_2017_diplodatos.zip'\n",
    "\n",
    "if not os.path.isfile(data_file):\n",
    "    try:\n",
    "        if not os.path.exists(data_dir):\n",
    "            os.mkdir(data_dir)\n",
    "        import wget\n",
    "        wget.download(url, out=data_dir)\n",
    "        data_raw = pd.read_csv(data_file, compression='zip', index_col=0)\n",
    "    except:\n",
    "        print('No se pudo descargar dataset. Leyendo online')\n",
    "        data_raw = pd.read_csv(url,compression='zip',index_col=0)\n",
    "else:\n",
    "    data_raw = pd.read_csv(data_file, compression='zip', index_col=0)"
   ]
  },
  {
   "cell_type": "code",
   "execution_count": null,
   "metadata": {
    "colab": {
     "base_uri": "https://localhost:8080/",
     "height": 71
    },
    "colab_type": "code",
    "id": "JRFpX9UOykhz",
    "outputId": "d050cb20-6075-4729-e3b3-121df6d2d98c"
   },
   "outputs": [],
   "source": [
    "## Seteamos semilla random para reproducibilidad\n",
    "np.random.seed(0)"
   ]
  },
  {
   "cell_type": "markdown",
   "metadata": {},
   "source": [
    "### Información disponible\n",
    "\n",
    "#### Información general\n",
    "\n",
    "- Año censo\n",
    "- Tipo de servicio penitenciario\n",
    "- Provincia\n",
    "- Establecimiento\n",
    "\n",
    "#### Información poblacional\n",
    "\n",
    "- Género\n",
    "- Nacionalidad\n",
    "- Estado civil\n",
    "- Mujeres viviendo con sus niños\n",
    "- Último lugar de residencia\n",
    "- Última provincia de residencia\n",
    "- Nivel de instrucción\n",
    "- Última situación laboral\n",
    "- Capacitación laboral al ingresar\n",
    "\n",
    "#### Información judicial\n",
    "\n",
    "- Jurisdicción\n",
    "- Situación legal\n",
    "- Tipo de delito\n",
    "- Reincidente\n",
    "- Establecimiento de procedencia\n",
    "\n",
    "#### Actividades y otras situaciones registradas dentro de la institución\n",
    "\n",
    "- Recibió atención médica en el último año\n",
    "- Recibió visitas en el último año\n",
    "- Participa en programa laboral\n",
    "- Horas de trabajo remunerado\n",
    "- Participa en programa educativo\n",
    "- Participa en actividades deportivas\n",
    "- Calificación conducta\n",
    "- Participó en alteración del orden en el último año\n",
    "- Tipo de infracción disciplinaria\n",
    "- Sanción aplicada\n",
    "- Fue lesionado\n",
    "- Tentativa de suicidio\n",
    "\n",
    "#### Condenas y progresividad de la pena\n",
    "\n",
    "- Condenado a prisión o reclusión perpetua\n",
    "- Tuvo reducción de pena\n",
    "- Duración de la condena\n",
    "- Tuvo salidas transitorias\n",
    "- Incorporado al régimen de semi libertad\n",
    "- Participa en programas de pre-libertad\n",
    "- Participa en programa de prisión discontinua\n",
    "- Participa en programa de semi detención\n",
    "- Tiene período de progresividad"
   ]
  },
  {
   "cell_type": "markdown",
   "metadata": {
    "colab_type": "text",
    "id": "pzyW2avcMd_8"
   },
   "source": [
    "### Análisis exploratorio"
   ]
  },
  {
   "cell_type": "code",
   "execution_count": 0,
   "metadata": {
    "colab": {
     "base_uri": "https://localhost:8080/",
     "height": 53
    },
    "colab_type": "code",
    "id": "JNw3qMGTf5b8",
    "outputId": "89f8dd51-4c1b-48da-86d0-69a7042d512b"
   },
   "outputs": [
    {
     "name": "stdout",
     "output_type": "stream",
     "text": [
      "Cantidad de registros:  85283\n",
      "Cantidad de columnas:  50\n"
     ]
    }
   ],
   "source": [
    "# Obtenemos la cantidad de filas y columnas\n",
    "print(\"Cantidad de registros: \", data_raw.shape[0])\n",
    "print(\"Cantidad de columnas: \", data_raw.shape[1])"
   ]
  },
  {
   "cell_type": "code",
   "execution_count": 0,
   "metadata": {
    "colab": {
     "base_uri": "https://localhost:8080/",
     "height": 935
    },
    "colab_type": "code",
    "id": "oeyqebSkP45j",
    "outputId": "fadfa4d1-1d2b-46af-fdbe-a7f024c9dd00"
   },
   "outputs": [
    {
     "data": {
      "text/plain": [
       "anio_censo                                              int64\n",
       "provincia_descripcion                                  object\n",
       "establecimiento_descripcion                            object\n",
       "edad                                                  float64\n",
       "genero_descripcion                                     object\n",
       "nacionalidad_descripcion                               object\n",
       "estado_civil_descripcion                               object\n",
       "nivel_instruccion_descripcion                          object\n",
       "ultima_situacion_laboral_descripcion                   object\n",
       "capacitacion_laboral_al_ingresar_descripcion           object\n",
       "ultimo_lugar_residencia_descripcion                    object\n",
       "ultima_provincia_residencia_descripcion                object\n",
       "jurisdiccion_descripcion                               object\n",
       "situacion_legal_descripcion                            object\n",
       "fecha_detencion                                        object\n",
       "fecha_condenado                                        object\n",
       "establecimiento_procedencia_descripcion                object\n",
       "delito1_descripcion                                    object\n",
       "delito2_descripcion                                    object\n",
       "delito3_descripcion                                    object\n",
       "delito4_descripcion                                    object\n",
       "delito5_descripcion                                    object\n",
       "horas_trabajo_remunerado_descripcion                   object\n",
       "participacion_programa_laboral                        float64\n",
       "participacion_programa_educativo_descripcion           object\n",
       "participacion_actividades_deportivas                  float64\n",
       "recibio_atencion_medica_ult_anio_descripcion           object\n",
       "recibio_visitas_ultimo_anio                           float64\n",
       "participo_alteracion_orden_ult_anio_descripcion        object\n",
       "tipo_infraccion_disciplinaria_descripcion              object\n",
       "sancion_aplicada_descripcion                           object\n",
       "calificacion_conducta_descripcion                      object\n",
       "tentativa_fugas_evasiones_descripcion                  object\n",
       "tentativa_suicidio                                    float64\n",
       "fue_lesionado_descripcion                              object\n",
       "duracion_condena_anios                                float64\n",
       "duracion_condena_meses                                float64\n",
       "duracion_condena_rango                                  int64\n",
       "tipo_condena                                          float64\n",
       "tiene_medidas_seguridad                               float64\n",
       "es_reincidente_descripcion                             object\n",
       "tiene_periodo_progresividad_descripcion                object\n",
       "reparticion_descripcion                                object\n",
       "tuvo_salidas_transitorias_descripcion                  object\n",
       "incorporado_reg_semi_libertad_descripcion              object\n",
       "participa_programa_pre_libertad                       float64\n",
       "participa_programa_prision_discontinua_descripcion     object\n",
       "participa_programa_semi_detencion_descripcion          object\n",
       "tuvo_reduccion_pena_descripcion                        object\n",
       "mujer_tiene_hijos_intramuro                           float64\n",
       "dtype: object"
      ]
     },
     "execution_count": 24,
     "metadata": {
      "tags": []
     },
     "output_type": "execute_result"
    }
   ],
   "source": [
    "# Listamos las columnas y sus tipos de datos\n",
    "data_raw.dtypes"
   ]
  },
  {
   "cell_type": "code",
   "execution_count": 0,
   "metadata": {
    "colab": {
     "base_uri": "https://localhost:8080/",
     "height": 1599
    },
    "colab_type": "code",
    "id": "iiLvxkEHRzHK",
    "outputId": "83605abc-3ae9-4e52-b870-cbc06b3b9f06"
   },
   "outputs": [
    {
     "data": {
      "text/html": [
       "<div>\n",
       "<style scoped>\n",
       "    .dataframe tbody tr th:only-of-type {\n",
       "        vertical-align: middle;\n",
       "    }\n",
       "\n",
       "    .dataframe tbody tr th {\n",
       "        vertical-align: top;\n",
       "    }\n",
       "\n",
       "    .dataframe thead th {\n",
       "        text-align: right;\n",
       "    }\n",
       "</style>\n",
       "<table border=\"1\" class=\"dataframe\">\n",
       "  <thead>\n",
       "    <tr style=\"text-align: right;\">\n",
       "      <th></th>\n",
       "      <th>44841</th>\n",
       "      <th>43189</th>\n",
       "    </tr>\n",
       "  </thead>\n",
       "  <tbody>\n",
       "    <tr>\n",
       "      <th>anio_censo</th>\n",
       "      <td>2017</td>\n",
       "      <td>2017</td>\n",
       "    </tr>\n",
       "    <tr>\n",
       "      <th>provincia_descripcion</th>\n",
       "      <td>Córdoba</td>\n",
       "      <td>Buenos Aires</td>\n",
       "    </tr>\n",
       "    <tr>\n",
       "      <th>establecimiento_descripcion</th>\n",
       "      <td>ESTABLECIMIENTO PENITENCIARIO Nº  5 (VILLA MARIA)</td>\n",
       "      <td>SPF - COMPLEJO FED. DE JÓVENES ADULTOS - UR.1 ...</td>\n",
       "    </tr>\n",
       "    <tr>\n",
       "      <th>edad</th>\n",
       "      <td>32</td>\n",
       "      <td>19</td>\n",
       "    </tr>\n",
       "    <tr>\n",
       "      <th>genero_descripcion</th>\n",
       "      <td>Masculino</td>\n",
       "      <td>Masculino</td>\n",
       "    </tr>\n",
       "    <tr>\n",
       "      <th>nacionalidad_descripcion</th>\n",
       "      <td>Argentina</td>\n",
       "      <td>Argentina</td>\n",
       "    </tr>\n",
       "    <tr>\n",
       "      <th>estado_civil_descripcion</th>\n",
       "      <td>Soltero</td>\n",
       "      <td>Soltero</td>\n",
       "    </tr>\n",
       "    <tr>\n",
       "      <th>nivel_instruccion_descripcion</th>\n",
       "      <td>Terciario incompleto</td>\n",
       "      <td>Primario incompleto</td>\n",
       "    </tr>\n",
       "    <tr>\n",
       "      <th>ultima_situacion_laboral_descripcion</th>\n",
       "      <td>Trabajador de tiempo parcial</td>\n",
       "      <td>Desocupado</td>\n",
       "    </tr>\n",
       "    <tr>\n",
       "      <th>capacitacion_laboral_al_ingresar_descripcion</th>\n",
       "      <td>Tiene alguna profesión</td>\n",
       "      <td>No tiene ni oficio ni profesión</td>\n",
       "    </tr>\n",
       "    <tr>\n",
       "      <th>ultimo_lugar_residencia_descripcion</th>\n",
       "      <td>Urbano</td>\n",
       "      <td>Urbano</td>\n",
       "    </tr>\n",
       "    <tr>\n",
       "      <th>ultima_provincia_residencia_descripcion</th>\n",
       "      <td>Córdoba</td>\n",
       "      <td>Buenos Aires</td>\n",
       "    </tr>\n",
       "    <tr>\n",
       "      <th>jurisdiccion_descripcion</th>\n",
       "      <td>PROVINCIAL - Córdoba</td>\n",
       "      <td>NACIONAL - Ciudad de Buenos Aires</td>\n",
       "    </tr>\n",
       "    <tr>\n",
       "      <th>situacion_legal_descripcion</th>\n",
       "      <td>Condenado</td>\n",
       "      <td>Procesado</td>\n",
       "    </tr>\n",
       "    <tr>\n",
       "      <th>fecha_detencion</th>\n",
       "      <td>2013-11-24</td>\n",
       "      <td>2017-03-11</td>\n",
       "    </tr>\n",
       "    <tr>\n",
       "      <th>fecha_condenado</th>\n",
       "      <td>2014-09-18</td>\n",
       "      <td>NaN</td>\n",
       "    </tr>\n",
       "    <tr>\n",
       "      <th>establecimiento_procedencia_descripcion</th>\n",
       "      <td>Deriv. de otro establecimiento</td>\n",
       "      <td>Deriv. de otro establecimiento</td>\n",
       "    </tr>\n",
       "    <tr>\n",
       "      <th>delito1_descripcion</th>\n",
       "      <td>Violaciones</td>\n",
       "      <td>Robo y/o tentativa de robo</td>\n",
       "    </tr>\n",
       "    <tr>\n",
       "      <th>delito2_descripcion</th>\n",
       "      <td>NaN</td>\n",
       "      <td>NaN</td>\n",
       "    </tr>\n",
       "    <tr>\n",
       "      <th>delito3_descripcion</th>\n",
       "      <td>NaN</td>\n",
       "      <td>NaN</td>\n",
       "    </tr>\n",
       "    <tr>\n",
       "      <th>delito4_descripcion</th>\n",
       "      <td>NaN</td>\n",
       "      <td>NaN</td>\n",
       "    </tr>\n",
       "    <tr>\n",
       "      <th>delito5_descripcion</th>\n",
       "      <td>NaN</td>\n",
       "      <td>NaN</td>\n",
       "    </tr>\n",
       "    <tr>\n",
       "      <th>horas_trabajo_remunerado_descripcion</th>\n",
       "      <td>Hasta 30 hs. Semanales</td>\n",
       "      <td>Hasta 10 hs. Semanales</td>\n",
       "    </tr>\n",
       "    <tr>\n",
       "      <th>participacion_programa_laboral</th>\n",
       "      <td>1</td>\n",
       "      <td>0</td>\n",
       "    </tr>\n",
       "    <tr>\n",
       "      <th>participacion_programa_educativo_descripcion</th>\n",
       "      <td>Si - educación no formal (Cursos)</td>\n",
       "      <td>Si - educación formal - PRIMARIA (EGB)</td>\n",
       "    </tr>\n",
       "    <tr>\n",
       "      <th>participacion_actividades_deportivas</th>\n",
       "      <td>1</td>\n",
       "      <td>1</td>\n",
       "    </tr>\n",
       "    <tr>\n",
       "      <th>recibio_atencion_medica_ult_anio_descripcion</th>\n",
       "      <td>Si - Recibió Asistencia Médica</td>\n",
       "      <td>SI - OTRAS ENFERMEDADES</td>\n",
       "    </tr>\n",
       "    <tr>\n",
       "      <th>recibio_visitas_ultimo_anio</th>\n",
       "      <td>1</td>\n",
       "      <td>1</td>\n",
       "    </tr>\n",
       "    <tr>\n",
       "      <th>participo_alteracion_orden_ult_anio_descripcion</th>\n",
       "      <td>No participó de ninguna alteración</td>\n",
       "      <td>No participó de ninguna alteración</td>\n",
       "    </tr>\n",
       "    <tr>\n",
       "      <th>tipo_infraccion_disciplinaria_descripcion</th>\n",
       "      <td>Faltas graves</td>\n",
       "      <td>No cometió Infracción disciplinaria</td>\n",
       "    </tr>\n",
       "    <tr>\n",
       "      <th>sancion_aplicada_descripcion</th>\n",
       "      <td>Susp/restric tot/parc. derec. regl. hasta 15 días</td>\n",
       "      <td>NaN</td>\n",
       "    </tr>\n",
       "    <tr>\n",
       "      <th>calificacion_conducta_descripcion</th>\n",
       "      <td>Ejemplar</td>\n",
       "      <td>Muy buena</td>\n",
       "    </tr>\n",
       "    <tr>\n",
       "      <th>tentativa_fugas_evasiones_descripcion</th>\n",
       "      <td>No</td>\n",
       "      <td>No</td>\n",
       "    </tr>\n",
       "    <tr>\n",
       "      <th>tentativa_suicidio</th>\n",
       "      <td>0</td>\n",
       "      <td>0</td>\n",
       "    </tr>\n",
       "    <tr>\n",
       "      <th>fue_lesionado_descripcion</th>\n",
       "      <td>No fue lesionado</td>\n",
       "      <td>No fue lesionado</td>\n",
       "    </tr>\n",
       "    <tr>\n",
       "      <th>duracion_condena_anios</th>\n",
       "      <td>10</td>\n",
       "      <td>0</td>\n",
       "    </tr>\n",
       "    <tr>\n",
       "      <th>duracion_condena_meses</th>\n",
       "      <td>10</td>\n",
       "      <td>0</td>\n",
       "    </tr>\n",
       "    <tr>\n",
       "      <th>duracion_condena_rango</th>\n",
       "      <td>4</td>\n",
       "      <td>0</td>\n",
       "    </tr>\n",
       "    <tr>\n",
       "      <th>tipo_condena</th>\n",
       "      <td>0</td>\n",
       "      <td>NaN</td>\n",
       "    </tr>\n",
       "    <tr>\n",
       "      <th>tiene_medidas_seguridad</th>\n",
       "      <td>3</td>\n",
       "      <td>0</td>\n",
       "    </tr>\n",
       "    <tr>\n",
       "      <th>es_reincidente_descripcion</th>\n",
       "      <td>Reincidente</td>\n",
       "      <td>NaN</td>\n",
       "    </tr>\n",
       "    <tr>\n",
       "      <th>tiene_periodo_progresividad_descripcion</th>\n",
       "      <td>Período de tratamiento</td>\n",
       "      <td>NaN</td>\n",
       "    </tr>\n",
       "    <tr>\n",
       "      <th>reparticion_descripcion</th>\n",
       "      <td>Provincial</td>\n",
       "      <td>Federal</td>\n",
       "    </tr>\n",
       "    <tr>\n",
       "      <th>tuvo_salidas_transitorias_descripcion</th>\n",
       "      <td>No le fueron otorgadas</td>\n",
       "      <td>NaN</td>\n",
       "    </tr>\n",
       "    <tr>\n",
       "      <th>incorporado_reg_semi_libertad_descripcion</th>\n",
       "      <td>No está incorporado al régimen de semilibertad</td>\n",
       "      <td>NaN</td>\n",
       "    </tr>\n",
       "    <tr>\n",
       "      <th>participa_programa_pre_libertad</th>\n",
       "      <td>0</td>\n",
       "      <td>0</td>\n",
       "    </tr>\n",
       "    <tr>\n",
       "      <th>participa_programa_prision_discontinua_descripcion</th>\n",
       "      <td>NaN</td>\n",
       "      <td>NaN</td>\n",
       "    </tr>\n",
       "    <tr>\n",
       "      <th>participa_programa_semi_detencion_descripcion</th>\n",
       "      <td>NaN</td>\n",
       "      <td>NaN</td>\n",
       "    </tr>\n",
       "    <tr>\n",
       "      <th>tuvo_reduccion_pena_descripcion</th>\n",
       "      <td>No tuvo reducción de pena</td>\n",
       "      <td>NaN</td>\n",
       "    </tr>\n",
       "    <tr>\n",
       "      <th>mujer_tiene_hijos_intramuro</th>\n",
       "      <td>NaN</td>\n",
       "      <td>NaN</td>\n",
       "    </tr>\n",
       "  </tbody>\n",
       "</table>\n",
       "</div>"
      ],
      "text/plain": [
       "                                                                                                44841  \\\n",
       "anio_censo                                                                                       2017   \n",
       "provincia_descripcion                                                                         Córdoba   \n",
       "establecimiento_descripcion                         ESTABLECIMIENTO PENITENCIARIO Nº  5 (VILLA MARIA)   \n",
       "edad                                                                                               32   \n",
       "genero_descripcion                                                                          Masculino   \n",
       "nacionalidad_descripcion                                                                    Argentina   \n",
       "estado_civil_descripcion                                                                      Soltero   \n",
       "nivel_instruccion_descripcion                                                    Terciario incompleto   \n",
       "ultima_situacion_laboral_descripcion                                     Trabajador de tiempo parcial   \n",
       "capacitacion_laboral_al_ingresar_descripcion                                   Tiene alguna profesión   \n",
       "ultimo_lugar_residencia_descripcion                                                            Urbano   \n",
       "ultima_provincia_residencia_descripcion                                                       Córdoba   \n",
       "jurisdiccion_descripcion                                                         PROVINCIAL - Córdoba   \n",
       "situacion_legal_descripcion                                                                 Condenado   \n",
       "fecha_detencion                                                                            2013-11-24   \n",
       "fecha_condenado                                                                            2014-09-18   \n",
       "establecimiento_procedencia_descripcion                                Deriv. de otro establecimiento   \n",
       "delito1_descripcion                                                                       Violaciones   \n",
       "delito2_descripcion                                                                               NaN   \n",
       "delito3_descripcion                                                                               NaN   \n",
       "delito4_descripcion                                                                               NaN   \n",
       "delito5_descripcion                                                                               NaN   \n",
       "horas_trabajo_remunerado_descripcion                                           Hasta 30 hs. Semanales   \n",
       "participacion_programa_laboral                                                                      1   \n",
       "participacion_programa_educativo_descripcion                        Si - educación no formal (Cursos)   \n",
       "participacion_actividades_deportivas                                                                1   \n",
       "recibio_atencion_medica_ult_anio_descripcion                           Si - Recibió Asistencia Médica   \n",
       "recibio_visitas_ultimo_anio                                                                         1   \n",
       "participo_alteracion_orden_ult_anio_descripcion                    No participó de ninguna alteración   \n",
       "tipo_infraccion_disciplinaria_descripcion                                               Faltas graves   \n",
       "sancion_aplicada_descripcion                        Susp/restric tot/parc. derec. regl. hasta 15 días   \n",
       "calificacion_conducta_descripcion                                                            Ejemplar   \n",
       "tentativa_fugas_evasiones_descripcion                                                              No   \n",
       "tentativa_suicidio                                                                                  0   \n",
       "fue_lesionado_descripcion                                                            No fue lesionado   \n",
       "duracion_condena_anios                                                                             10   \n",
       "duracion_condena_meses                                                                             10   \n",
       "duracion_condena_rango                                                                              4   \n",
       "tipo_condena                                                                                        0   \n",
       "tiene_medidas_seguridad                                                                             3   \n",
       "es_reincidente_descripcion                                                                Reincidente   \n",
       "tiene_periodo_progresividad_descripcion                                        Período de tratamiento   \n",
       "reparticion_descripcion                                                                    Provincial   \n",
       "tuvo_salidas_transitorias_descripcion                                          No le fueron otorgadas   \n",
       "incorporado_reg_semi_libertad_descripcion              No está incorporado al régimen de semilibertad   \n",
       "participa_programa_pre_libertad                                                                     0   \n",
       "participa_programa_prision_discontinua_descripcion                                                NaN   \n",
       "participa_programa_semi_detencion_descripcion                                                     NaN   \n",
       "tuvo_reduccion_pena_descripcion                                             No tuvo reducción de pena   \n",
       "mujer_tiene_hijos_intramuro                                                                       NaN   \n",
       "\n",
       "                                                                                                43189  \n",
       "anio_censo                                                                                       2017  \n",
       "provincia_descripcion                                                                    Buenos Aires  \n",
       "establecimiento_descripcion                         SPF - COMPLEJO FED. DE JÓVENES ADULTOS - UR.1 ...  \n",
       "edad                                                                                               19  \n",
       "genero_descripcion                                                                          Masculino  \n",
       "nacionalidad_descripcion                                                                    Argentina  \n",
       "estado_civil_descripcion                                                                      Soltero  \n",
       "nivel_instruccion_descripcion                                                     Primario incompleto  \n",
       "ultima_situacion_laboral_descripcion                                                       Desocupado  \n",
       "capacitacion_laboral_al_ingresar_descripcion                          No tiene ni oficio ni profesión  \n",
       "ultimo_lugar_residencia_descripcion                                                            Urbano  \n",
       "ultima_provincia_residencia_descripcion                                                  Buenos Aires  \n",
       "jurisdiccion_descripcion                                            NACIONAL - Ciudad de Buenos Aires  \n",
       "situacion_legal_descripcion                                                                 Procesado  \n",
       "fecha_detencion                                                                            2017-03-11  \n",
       "fecha_condenado                                                                                   NaN  \n",
       "establecimiento_procedencia_descripcion                                Deriv. de otro establecimiento  \n",
       "delito1_descripcion                                                        Robo y/o tentativa de robo  \n",
       "delito2_descripcion                                                                               NaN  \n",
       "delito3_descripcion                                                                               NaN  \n",
       "delito4_descripcion                                                                               NaN  \n",
       "delito5_descripcion                                                                               NaN  \n",
       "horas_trabajo_remunerado_descripcion                                           Hasta 10 hs. Semanales  \n",
       "participacion_programa_laboral                                                                      0  \n",
       "participacion_programa_educativo_descripcion                   Si - educación formal - PRIMARIA (EGB)  \n",
       "participacion_actividades_deportivas                                                                1  \n",
       "recibio_atencion_medica_ult_anio_descripcion                                  SI - OTRAS ENFERMEDADES  \n",
       "recibio_visitas_ultimo_anio                                                                         1  \n",
       "participo_alteracion_orden_ult_anio_descripcion                    No participó de ninguna alteración  \n",
       "tipo_infraccion_disciplinaria_descripcion                         No cometió Infracción disciplinaria  \n",
       "sancion_aplicada_descripcion                                                                      NaN  \n",
       "calificacion_conducta_descripcion                                                           Muy buena  \n",
       "tentativa_fugas_evasiones_descripcion                                                              No  \n",
       "tentativa_suicidio                                                                                  0  \n",
       "fue_lesionado_descripcion                                                            No fue lesionado  \n",
       "duracion_condena_anios                                                                              0  \n",
       "duracion_condena_meses                                                                              0  \n",
       "duracion_condena_rango                                                                              0  \n",
       "tipo_condena                                                                                      NaN  \n",
       "tiene_medidas_seguridad                                                                             0  \n",
       "es_reincidente_descripcion                                                                        NaN  \n",
       "tiene_periodo_progresividad_descripcion                                                           NaN  \n",
       "reparticion_descripcion                                                                       Federal  \n",
       "tuvo_salidas_transitorias_descripcion                                                             NaN  \n",
       "incorporado_reg_semi_libertad_descripcion                                                         NaN  \n",
       "participa_programa_pre_libertad                                                                     0  \n",
       "participa_programa_prision_discontinua_descripcion                                                NaN  \n",
       "participa_programa_semi_detencion_descripcion                                                     NaN  \n",
       "tuvo_reduccion_pena_descripcion                                                                   NaN  \n",
       "mujer_tiene_hijos_intramuro                                                                       NaN  "
      ]
     },
     "execution_count": 26,
     "metadata": {
      "tags": []
     },
     "output_type": "execute_result"
    }
   ],
   "source": [
    "# Analizamos 2 muestras de filas, usamos transpose() para visualizar los datos con mayor comodidad\n",
    "data_raw.sample(2).transpose()"
   ]
  },
  {
   "cell_type": "code",
   "execution_count": 18,
   "metadata": {
    "colab": {
     "base_uri": "https://localhost:8080/",
     "height": 89
    },
    "colab_type": "code",
    "id": "RcvMrzg8S3CW",
    "outputId": "6175fc3f-6197-488b-bf3f-4ff9af5edcfc"
   },
   "outputs": [
    {
     "data": {
      "text/plain": [
       "Masculino     81553\n",
       "Femenino       3602\n",
       "Transexual      128\n",
       "Name: genero_descripcion, dtype: int64"
      ]
     },
     "execution_count": 18,
     "metadata": {},
     "output_type": "execute_result"
    }
   ],
   "source": [
    "# Distribución por genero\n",
    "data_raw[\"genero_descripcion\"].value_counts()"
   ]
  },
  {
   "cell_type": "code",
   "execution_count": 37,
   "metadata": {
    "colab": {
     "base_uri": "https://localhost:8080/",
     "height": 365
    },
    "colab_type": "code",
    "id": "nxT7FLoShVxT",
    "outputId": "35049404-0817-4ff6-bcec-40c26b25735d"
   },
   "outputs": [
    {
     "data": {
      "image/png": "[encoded data removed]",
      "text/plain": [
       "<Figure size 720x576 with 1 Axes>"
      ]
     },
     "metadata": {
      "needs_background": "light"
     },
     "output_type": "display_data"
    }
   ],
   "source": [
    "# Internos por provincia\n",
    "plt.figure(figsize=(10, 8))\n",
    "ax = plt.gca()\n",
    "data_raw[\"provincia_descripcion\"].value_counts().plot(kind='barh', ax=ax, fontsize=20)\n",
    "plt.show()"
   ]
  },
  {
   "cell_type": "code",
   "execution_count": 38,
   "metadata": {
    "colab": {
     "base_uri": "https://localhost:8080/",
     "height": 365
    },
    "colab_type": "code",
    "id": "eghinKhxjqb_",
    "outputId": "9bbfcaac-8e0c-4617-b8ba-aeb507de9c6f"
   },
   "outputs": [
    {
     "data": {
      "text/plain": [
       "<matplotlib.axes._subplots.AxesSubplot at 0x7fb998fecdd8>"
      ]
     },
     "execution_count": 38,
     "metadata": {},
     "output_type": "execute_result"
    },
    {
     "data": {
      "image/png": "[encoded data removed]",
      "text/plain": [
       "<Figure size 720x432 with 1 Axes>"
      ]
     },
     "metadata": {
      "needs_background": "light"
     },
     "output_type": "display_data"
    }
   ],
   "source": [
    "# Histograma por edades\n",
    "data_raw[\"edad\"].plot.hist(grid=True, bins=15, rwidth=0.9,color='#607c8e')"
   ]
  },
  {
   "cell_type": "markdown",
   "metadata": {
    "colab_type": "text",
    "id": "31dPDKtEl_ud"
   },
   "source": [
    "### Análisis del Grupo"
   ]
  },
  {
   "cell_type": "markdown",
   "metadata": {
    "colab_type": "text",
    "id": "CVJKpWKtmFsi"
   },
   "source": [
    "En esta sección el grupo de trabajo deberá realizar el siguiente análisis:\n",
    "\n",
    "\n",
    "\n",
    "*   Análisis estadístico de variables\n",
    "\n",
    "\n",
    "> Seleccionar un conjunto de al menos 4 variables que resulten de interés para el grupo y:\n",
    "1.   Usar distintos tipos de gráficos para describir sus distribuciones\n",
    "2.   Analizar Outliers\n",
    "3.   Calcular estadísticos clásicos (media, mediana, moda, desviación estandar)\n",
    "\n",
    "\n",
    "\n",
    "*   Evolución de variables en el tiempo. Seleccionar 2 variables y graficar como fueron cambiando desde 2002 a 2017.  Para ello se tiene que utilizar el siguiente conjunto de datos:\n",
    "\n",
    "https://github.com/camporeale/Datos/raw/master/sneep_2002_2017_diplodatos.zip\n",
    "\n",
    "\n",
    "\n",
    "\n",
    "*   Analisis de probabilidades condicionales. Tomar al menos dos pares de variables y realizar un análisis del tipo:\n",
    "\n",
    "\n",
    "\n",
    "> ¿Cual es la probabilidad de que el interno haya sido lesionado en el último año dado que está en una  prisión en Buenos Aires? ¿Y en Córdoba? \n",
    "\n",
    "> ¿Cual es la probabilidad de que se le otorguen salidas provisorias dado que esté casado/a? ¿Y siendo soltero?\n",
    "\n",
    "\n",
    "\n",
    "Los siguientes recursos pueden usarse como ejemplos de distintos tipos de análisis:\n",
    "\n",
    "*   http://www.saij.gob.ar/estadisticas-ejecucion-de-la-pena\n",
    "*   http://www.jus.gob.ar/media/1126013/Una_Gestion_Penitenciaria_Integral_SNEEP.pdf\n",
    "\n",
    "\n"
   ]
  },
  {
   "cell_type": "markdown",
   "metadata": {},
   "source": [
    "## Análisis estadístico de variables"
   ]
  },
  {
   "cell_type": "markdown",
   "metadata": {},
   "source": [
    "### Edad"
   ]
  },
  {
   "cell_type": "code",
   "execution_count": 130,
   "metadata": {},
   "outputs": [
    {
     "data": {
      "image/png": "[encoded data removed]",
      "text/plain": [
       "<Figure size 1440x576 with 2 Axes>"
      ]
     },
     "metadata": {
      "needs_background": "light"
     },
     "output_type": "display_data"
    }
   ],
   "source": [
    "def get_cdf(data):\n",
    "    cdf = []\n",
    "    rango = range(min(data), max(data)+1)\n",
    "    for e in rango:\n",
    "        cdf.append((data<=e).sum())\n",
    "    #cdf = np.array(cdf) / len(edades)    \n",
    "    cdf = np.array(cdf)\n",
    "    return rango, cdf\n",
    "\n",
    "edades = data_raw['edad'].sort_values().dropna().astype('int').values\n",
    "\n",
    "# Histograma por edades\n",
    "fig, axes = plt.subplots(figsize=(20, 8), ncols=2)\n",
    "ax = axes[0]\n",
    "data_raw[\"edad\"].plot.hist(bins=16, rwidth=0.9,color='#607c8e', ax=ax)\n",
    "ax.set_ylabel('Número de internos')\n",
    "ax.set_xlabel('Edad')\n",
    "media = np.mean(edades)\n",
    "mediana = np.median(edades)\n",
    "ax.axvline(media, linestyle='--', color='k', label='media = {:.1f}'.format(media))\n",
    "ax.axvline(mediana, linestyle='-.', color='k', label=r'mediana = {:.1f}'.format(mediana))\n",
    "ax.legend(loc='best')\n",
    "ax = axes[1]\n",
    "rango_edad, cdf = get_cdf(edades)\n",
    "plt.plot(rango_edad, cdf, '-o')\n",
    "ax.set_xlabel('Edad')\n",
    "ax.set_ylabel('Suma cumulativa')\n",
    "\n",
    "plt.tight_layout()\n",
    "plt.show()"
   ]
  },
  {
   "cell_type": "markdown",
   "metadata": {},
   "source": [
    "Observamos que existen registros de edades correspondientes a menores de edad. Veamos qué edad tienen"
   ]
  },
  {
   "cell_type": "code",
   "execution_count": 88,
   "metadata": {},
   "outputs": [
    {
     "data": {
      "text/plain": [
       "Counter({0: 369, 16: 8, 17: 11})"
      ]
     },
     "execution_count": 88,
     "metadata": {},
     "output_type": "execute_result"
    }
   ],
   "source": [
    "from collections import Counter\n",
    "Counter(edades[edades<18])"
   ]
  },
  {
   "cell_type": "markdown",
   "metadata": {},
   "source": [
    "La mayoría de los registros presentan edad igual a 0. Esto podría tratarse de niños nacidos dentro de algún establecimiento penitenciario"
   ]
  },
  {
   "cell_type": "code",
   "execution_count": null,
   "metadata": {},
   "outputs": [],
   "source": []
  }
 ],
 "metadata": {
  "colab": {
   "collapsed_sections": [],
   "include_colab_link": true,
   "name": "DiploDatos-PoblacionPenitenciariaArgentina-VyA.ipynb",
   "provenance": [],
   "version": "0.3.2"
  },
  "kernelspec": {
   "display_name": "Python 3",
   "language": "python",
   "name": "python3"
  },
  "language_info": {
   "codemirror_mode": {
    "name": "ipython",
    "version": 3
   },
   "file_extension": ".py",
   "mimetype": "text/x-python",
   "name": "python",
   "nbconvert_exporter": "python",
   "pygments_lexer": "ipython3",
   "version": "3.7.3"
  }
 },
 "nbformat": 4,
 "nbformat_minor": 1
}
