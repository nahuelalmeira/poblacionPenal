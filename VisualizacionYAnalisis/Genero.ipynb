{
 "cells": [
  {
   "cell_type": "markdown",
   "metadata": {},
   "source": [
    "# DiploDatos 2019 -  Población Penitenciaria en Argentina"
   ]
  },
  {
   "cell_type": "markdown",
   "metadata": {},
   "source": [
    "\n",
    "> http://diplodatos.famaf.unc.edu.ar/poblacion-penitenciaria-en-argentina-2002-a-2017/\n",
    "\n"
   ]
  },
  {
   "cell_type": "markdown",
   "metadata": {},
   "source": [
    "# Análisis por género"
   ]
  },
  {
   "cell_type": "markdown",
   "metadata": {},
   "source": [
    "En esta notebook nos proponemos hacer un análisis más fino de las diferencias de género en la población penitenciaria argentina. "
   ]
  },
  {
   "cell_type": "code",
   "execution_count": null,
   "metadata": {},
   "outputs": [],
   "source": [
    "### Aumentar el ancho del notebook\n",
    "from IPython.core.display import display, HTML\n",
    "display(HTML(\"<style>.container { width:90% !important; }</style>\"))"
   ]
  },
  {
   "cell_type": "code",
   "execution_count": 1,
   "metadata": {},
   "outputs": [],
   "source": [
    "# Importamos las librerías necesarias\n",
    "import os\n",
    "import sys\n",
    "import pandas as pd\n",
    "import numpy as np\n",
    "import matplotlib.pyplot as plt\n",
    "import seaborn as sns\n",
    "pd.set_option('display.max_columns', 50)\n",
    "pd.set_option('display.max_columns', 100)\n",
    "\n",
    "#\n",
    "#sys.path.append('../config')\n",
    "#from mpl_settings_v3 import *"
   ]
  },
  {
   "cell_type": "code",
   "execution_count": null,
   "metadata": {},
   "outputs": [],
   "source": [
    "## Cargamos el CSV en un dataframe. Si es posible, lo descargamos y \n",
    "## sino, lo leemos online. (Para descargarlo es necesario tener instalado wget)\n",
    "\n",
    "data_dir = '../datasets'\n",
    "data_file = os.path.join(data_dir, 'sneep_2017_diplodatos.csv')\n",
    "\n",
    "if not os.path.isfile(data_file):\n",
    "    print('No se encontró copia local del dataset. Leyendo online')\n",
    "    data_raw = pd.read_csv(url,index_col=0)\n",
    "else:\n",
    "    data_raw = pd.read_csv(data_file, index_col=0)"
   ]
  },
  {
   "cell_type": "code",
   "execution_count": null,
   "metadata": {},
   "outputs": [],
   "source": [
    "## Seteamos semilla random para reproducibilidad\n",
    "np.random.seed(0)"
   ]
  },
  {
   "cell_type": "markdown",
   "metadata": {},
   "source": [
    "Primero desplegamos los datos para explorarlos un poco"
   ]
  },
  {
   "cell_type": "code",
   "execution_count": null,
   "metadata": {},
   "outputs": [],
   "source": [
    "data_raw.head()\n",
    "#data_raw.tail()"
   ]
  },
  {
   "cell_type": "markdown",
   "metadata": {},
   "source": [
    "Vemos cuales son las variables de las cuales disponemos y sus tipos"
   ]
  },
  {
   "cell_type": "code",
   "execution_count": null,
   "metadata": {},
   "outputs": [],
   "source": [
    "data_raw.dtypes"
   ]
  },
  {
   "cell_type": "code",
   "execution_count": null,
   "metadata": {},
   "outputs": [],
   "source": [
    "# Distribución por genero\n",
    "g = data_raw[\"genero_descripcion\"]\n",
    "df = pd.concat([g.value_counts(), \n",
    "                g.value_counts(normalize=True).mul(100)],axis=1, keys=('counts','percentage'))\n",
    "df"
   ]
  },
  {
   "cell_type": "code",
   "execution_count": null,
   "metadata": {},
   "outputs": [],
   "source": [
    "ax = data_raw[\"genero_descripcion\"].value_counts().plot(kind='barh', figsize=(10,6), color=\"coral\", fontsize=13);\n",
    "ax.set_alpha(0.8)\n",
    "ax.set_title(\"Proporción de internos por género\", fontsize=18)\n",
    "ax.set_xlabel(\"\", fontsize=18);\n",
    "ax.set_xticks([0, 20000, 40000, 60000, 90000])\n",
    "\n",
    "# create a list to collect the plt.patches data\n",
    "totals = []\n",
    "\n",
    "# find the values and append to list\n",
    "for i in ax.patches:\n",
    "    totals.append(i.get_width())\n",
    "\n",
    "# set individual bar lables using above list\n",
    "total = sum(totals)\n",
    "\n",
    "# set individual bar lables using above list\n",
    "for i in ax.patches:\n",
    "    # get_width pulls left or right; get_y pushes up or down\n",
    "    ax.text(i.get_width()+.3, i.get_y()+.38, \\\n",
    "            str(round((i.get_width()/total)*100, 2))+'%', fontsize=15, color='dimgrey')\n",
    "\n",
    "# invert for largest on top \n",
    "ax.invert_yaxis()"
   ]
  },
  {
   "cell_type": "markdown",
   "metadata": {},
   "source": [
    "Como puede observarse, más del 95% de las personas privadas de su libertad son identificadas con el género masculino, poco más del 4% se identifica como mujer, mientras que solo el 0.15% como transexual. Si bien la diferencia es abismal, quisieramos analizar la situación particular de estas minorías, por ejemplo, si es más común que sean condenados por ciertos delitos que por otros, si se le dan penas distintas que a la población general por los mismos delitos, si reciben más o menos beneficios, más o menos educación, formación o trabajo que la población general, etc."
   ]
  },
  {
   "cell_type": "markdown",
   "metadata": {},
   "source": [
    "Para comenzar quisieramos saber cuáles son los tipos de delitos por los cuales las personas están privadas de su libertad. Tenemos en cuenta que estos datos corresponden solo al año 2017, fijamos el año para no contar dos veces al mismo reo, además solo utilizamos el delito principal de cada persona."
   ]
  },
  {
   "cell_type": "code",
   "execution_count": null,
   "metadata": {},
   "outputs": [],
   "source": [
    "g = data_raw[\"delito1_descripcion\"]\n",
    "df = pd.concat([g.value_counts(), \n",
    "                g.value_counts(normalize=True).mul(100)],axis=1, keys=('counts','percentage'))\n",
    "df"
   ]
  },
  {
   "cell_type": "code",
   "execution_count": null,
   "metadata": {},
   "outputs": [],
   "source": [
    "sns.set(style=\"whitegrid\")\n",
    "plt.figure(figsize=(16, 10))\n",
    "ax = sns.countplot(y=\"delito1_descripcion\", data=data_raw, order=data_raw.delito1_descripcion.value_counts().iloc[:10].index)\n",
    "ax.set_ylabel('') \n",
    "ax.set_title(\"Frecuencia delitos, población general\", fontsize=16)"
   ]
  },
  {
   "cell_type": "markdown",
   "metadata": {},
   "source": [
    "Quisieramos ver cuáles tipos de delitos son más comunes según el género y en las minorías de género."
   ]
  },
  {
   "cell_type": "code",
   "execution_count": null,
   "metadata": {},
   "outputs": [],
   "source": [
    "m = data_raw.loc[data_raw[\"genero_descripcion\"] == 'Masculino'][\"delito1_descripcion\"]\n",
    "df = pd.concat([m.value_counts(), \n",
    "                m.value_counts(normalize=True).mul(100)],axis=1, keys=('counts','percentage'))\n",
    "df"
   ]
  },
  {
   "cell_type": "code",
   "execution_count": null,
   "metadata": {},
   "outputs": [],
   "source": [
    "sns.set(style=\"whitegrid\")\n",
    "plt.figure(figsize=(16, 10))\n",
    "ax = sns.countplot(y=\"delito1_descripcion\", data=data_raw.loc[data_raw[\"genero_descripcion\"] == 'Masculino'], \n",
    "                   order=data_raw.delito1_descripcion.value_counts().iloc[:10].index)\n",
    "ax.set_ylabel('') \n",
    "ax.set_title(\"Frecuencia delitos, población masculina\", fontsize=16)"
   ]
  },
  {
   "cell_type": "code",
   "execution_count": null,
   "metadata": {},
   "outputs": [],
   "source": [
    "f = data_raw.loc[data_raw[\"genero_descripcion\"] == 'Femenino'][\"delito1_descripcion\"]\n",
    "df = pd.concat([f.value_counts(), \n",
    "                f.value_counts(normalize=True).mul(100)],axis=1, keys=('counts','percentage'))\n",
    "df"
   ]
  },
  {
   "cell_type": "code",
   "execution_count": null,
   "metadata": {},
   "outputs": [],
   "source": [
    "sns.set(style=\"whitegrid\")\n",
    "plt.figure(figsize=(16, 10))\n",
    "ax = sns.countplot(y=\"delito1_descripcion\", data=data_raw.loc[data_raw[\"genero_descripcion\"] == 'Femenino'], \n",
    "                   order=data_raw.delito1_descripcion.value_counts().iloc[:10].index)\n",
    "ax.set_ylabel('') \n",
    "ax.set_title(\"Frecuencia delitos, población femenina\", fontsize=16)"
   ]
  },
  {
   "cell_type": "code",
   "execution_count": null,
   "metadata": {},
   "outputs": [],
   "source": [
    "t = data_raw.loc[data_raw[\"genero_descripcion\"] == 'Transexual'][\"delito1_descripcion\"]\n",
    "df = pd.concat([t.value_counts(), \n",
    "                t.value_counts(normalize=True).mul(100)],axis=1, keys=('counts','percentage'))\n",
    "df"
   ]
  },
  {
   "cell_type": "code",
   "execution_count": null,
   "metadata": {},
   "outputs": [],
   "source": [
    "sns.set(style=\"whitegrid\")\n",
    "plt.figure(figsize=(16, 10))\n",
    "ax = sns.countplot(y=\"delito1_descripcion\", data=data_raw.loc[data_raw[\"genero_descripcion\"] == 'Transexual'], \n",
    "                   order=data_raw.delito1_descripcion.value_counts().iloc[:5].index)\n",
    "ax.set_ylabel('') \n",
    "ax.set_title(\"Frecuencia delitos, población trans\", fontsize=16)"
   ]
  },
  {
   "cell_type": "markdown",
   "metadata": {},
   "source": [
    "El delito principal entre la población masculina presa es Robo y/o tentativa de robo (más del 35% de los casos). Entre mujeres y trans el principal delito es la Infracción a la ley de estupefacientes; casi el 43% de las mujeres privadas de su libertad es por esta causa, mientras que en el caso de las personas trans este porcentaje asciende a más del 69%. Si se observa la población general, el principal delito es Robo y/o tentativa de robo, esto se debe a que como la población masculina es mucho mayor, sus tendencias absorben a las de las minorías, por eso queríamos hacer este análisis diferenciado. En el caso de la población masculina, el delito de Infracción a la ley de estupefacientes es el tercero más frecuente, siendo el segundo los Homicidios dolosos. "
   ]
  },
  {
   "cell_type": "markdown",
   "metadata": {},
   "source": [
    "A continuación queremos comparar las proporciones de los principales delitos (y de los delitos que son de nuestro interés) por género. Puesto que, como habiamos dicho, la población masculina es mucho mayor, pasamos las cantidades a porcentajes para hacerlas comparables."
   ]
  },
  {
   "cell_type": "code",
   "execution_count": null,
   "metadata": {},
   "outputs": [],
   "source": [
    "x = ['Masculino', 'Femenino', 'Transexual']\n",
    "\n",
    "mas = m.value_counts()\n",
    "fem = f.value_counts()\n",
    "trans = t.value_counts()\n",
    "\n",
    "# normalization\n",
    "y1 = mas/sum(mas)*100.\n",
    "y2 = fem/sum(fem)*100.\n",
    "y3 = trans/sum(trans)*100.\n",
    "\n",
    "z1 = np.array([y1[0], y2[1], y3[2]]) #'Robo y/o tentativa de robo'\n",
    "z2 = np.array([y1[1], y2[2], y3[1]]) #'Homicidios dolosos'\n",
    "z3 = np.array([y1[2], y2[0], y3[0]]) #'Infracción ley n° 23.737 (estupefacientes)'\n",
    "z4 = np.array([y1[3], y2[5], y3[3]]) #'Violaciones'\n",
    "z5 = np.array([y1[8], y2[6], y3[5]]) #'Otros delitos contra la integridad sexual'\n",
    "z6 = np.array([sum(y1)-y1[0]-y1[1]-y1[2]-y1[3]-y1[8], \n",
    "              sum(y2)-y2[0]-y2[1]-y2[2]-y2[5]-y2[6], \n",
    "              sum(y3)-y3[0]-y3[1]-y3[2]-y3[3]-y3[5]]) #'OTROS'\n",
    "\n",
    "plt.figure(figsize=(15,8))\n",
    "\n",
    "# stack bars\n",
    "plt.bar(x, z1, label='Robo y/o tentativa de robo')\n",
    "plt.bar(x, z2, bottom= z1, label='Homicidios dolosos')\n",
    "plt.bar(x, z3, bottom= z1 + z2, label='Infracción ley n° 23.737 (estupefacientes)')\n",
    "plt.bar(x, z4, bottom= z1 + z2 + z3, label='Violaciones')\n",
    "plt.bar(x, z5, bottom= z1 + z2 + z3 + z4, label='Otros delitos contra la integridad sexual')\n",
    "plt.bar(x, z6, bottom= z1 + z2 + z3 + z4 + z5, label='OTROS')\n",
    "\n",
    "# add text annotation corresponding to the percentage of each data.\n",
    "for xpos, ypos, yval in zip(x, z1/2, z1):\n",
    "    plt.text(xpos, ypos, \"%.1f\"%yval, ha=\"center\", va=\"center\")\n",
    "for xpos, ypos, yval in zip(x, z1+z2/2, z2):\n",
    "    plt.text(xpos, ypos, \"%.1f\"%yval, ha=\"center\", va=\"center\")\n",
    "for xpos, ypos, yval in zip(x, z1+z2+z3/2, z3):\n",
    "    plt.text(xpos, ypos, \"%.1f\"%yval, ha=\"center\", va=\"center\")\n",
    "for xpos, ypos, yval in zip(x, z1+z2+z3+z4/2, z4):\n",
    "    plt.text(xpos, ypos, \"%.1f\"%yval, ha=\"center\", va=\"center\")\n",
    "for xpos, ypos, yval in zip(x, z1+z2+z3+z4+z5/2, z5):\n",
    "    plt.text(xpos, ypos, \"%.1f\"%yval, ha=\"center\", va=\"center\")\n",
    "for xpos, ypos, yval in zip(x, z1+z2+z3+z4+z5+z6/2, z6):\n",
    "    plt.text(xpos, ypos, \"%.1f\"%yval, ha=\"center\", va=\"center\")\n",
    "    \n",
    "plt.ylim(0,110)\n",
    "\n",
    "plt.legend(bbox_to_anchor=(1.01,0.5), loc='center left')\n",
    "#plt.savefig('normalized_stacked_barplot_with_number.png', bbox_inches='tight', pad_inches=0.02)"
   ]
  },
  {
   "cell_type": "markdown",
   "metadata": {},
   "source": [
    "Es notoria la desproporción de los delitos por género, podemos afirmar, sin riesgo de equivocarnos, que la aplicación de la ley estupefacientes afecta en mayor proporción a mujeres y personas trans que a varones cis.\n",
    "\n",
    "Esto es así por lo menos para el año 2017, podríamos hacer un análisis temporal para ver cómo fueron variando estas proporciones a través de los años, desde el 2012 al 2017.\n",
    "\n",
    "En el trabajo anterior vimos que los delitos de tenencia y tráfico de drogas están vinculados a la inmigración por lo que podríamos investigar más cuál es la relación entre estas dos variables, género y migración."
   ]
  },
  {
   "cell_type": "markdown",
   "metadata": {},
   "source": [
    "### Homicidios dolosos por género"
   ]
  },
  {
   "cell_type": "code",
   "execution_count": 2,
   "metadata": {},
   "outputs": [
    {
     "name": "stderr",
     "output_type": "stream",
     "text": [
      "/home/lucia/.anaconda3/lib/python3.7/site-packages/IPython/core/interactiveshell.py:3058: DtypeWarning: Columns (34,36,38,40) have mixed types. Specify dtype option on import or set low_memory=False.\n",
      "  interactivity=interactivity, compiler=compiler, result=result)\n"
     ]
    }
   ],
   "source": [
    "data_dir = '../datasets/sneep-unificado-2002-2017-CURADO.csv'\n",
    "data_tem = pd.read_csv(data_dir, index_col=0)"
   ]
  },
  {
   "cell_type": "code",
   "execution_count": 3,
   "metadata": {},
   "outputs": [],
   "source": [
    "# nos quedamos solo con los homicidios dolosos\n",
    "mask_hom = data_tem[\"delito1_descripcion\"] == 'Homicidios dolosos'\n",
    "data_hom = data_tem[mask_hom]"
   ]
  },
  {
   "cell_type": "code",
   "execution_count": 4,
   "metadata": {},
   "outputs": [],
   "source": [
    "#tiramos los que no tienen fecha de condena\n",
    "data_hom = data_hom[data_hom['fecha_condenado'].notnull()] "
   ]
  },
  {
   "cell_type": "code",
   "execution_count": 5,
   "metadata": {},
   "outputs": [
    {
     "data": {
      "text/html": [
       "<div>\n",
       "<style scoped>\n",
       "    .dataframe tbody tr th:only-of-type {\n",
       "        vertical-align: middle;\n",
       "    }\n",
       "\n",
       "    .dataframe tbody tr th {\n",
       "        vertical-align: top;\n",
       "    }\n",
       "\n",
       "    .dataframe thead th {\n",
       "        text-align: right;\n",
       "    }\n",
       "</style>\n",
       "<table border=\"1\" class=\"dataframe\">\n",
       "  <thead>\n",
       "    <tr style=\"text-align: right;\">\n",
       "      <th></th>\n",
       "      <th>counts</th>\n",
       "      <th>percentage</th>\n",
       "    </tr>\n",
       "  </thead>\n",
       "  <tbody>\n",
       "    <tr>\n",
       "      <th>Masculino</th>\n",
       "      <td>10464</td>\n",
       "      <td>93.898062</td>\n",
       "    </tr>\n",
       "    <tr>\n",
       "      <th>Femenino</th>\n",
       "      <td>680</td>\n",
       "      <td>6.101938</td>\n",
       "    </tr>\n",
       "  </tbody>\n",
       "</table>\n",
       "</div>"
      ],
      "text/plain": [
       "           counts  percentage\n",
       "Masculino   10464   93.898062\n",
       "Femenino      680    6.101938"
      ]
     },
     "execution_count": 5,
     "metadata": {},
     "output_type": "execute_result"
    }
   ],
   "source": [
    "g = data_hom[\"genero_descripcion\"]\n",
    "df = pd.concat([g.value_counts(), \n",
    "                g.value_counts(normalize=True).mul(100)],axis=1, keys=('counts','percentage'))\n",
    "df"
   ]
  },
  {
   "cell_type": "markdown",
   "metadata": {},
   "source": [
    "Tener en cuenta que en esta tabla hay datos que los contamos más de una vez pues cada condenado aparece en el censo de los siguientes años."
   ]
  },
  {
   "cell_type": "code",
   "execution_count": 6,
   "metadata": {},
   "outputs": [],
   "source": [
    "years = [a for a in range(2002, 2017)] \n",
    "\n",
    "info = []\n",
    "\n",
    "for year in years:\n",
    "    \n",
    "    # Nos quedamos con todos los que fueron condenados ese año\n",
    "    mask = data_hom[\"fecha_condenado\"].str.contains(str(year))\n",
    "    data = data_hom[mask]\n",
    "    \n",
    "    # Filtramos datos repetidos\n",
    "    mask = data[\"anio_censo\"] ==  year+1\n",
    "    data = data[mask]\n",
    "    \n",
    "    # Tiramos los que no tengan una condena en años\n",
    "    mask = data[\"duracion_condena_anios\"] > 0\n",
    "    data = data[mask]\n",
    "    \n",
    "    info.append(data)   "
   ]
  },
  {
   "cell_type": "markdown",
   "metadata": {},
   "source": [
    "No hay condenas en el año 2017 (o son muy pocas), por eso analizamos hasta el año 2016."
   ]
  },
  {
   "cell_type": "code",
   "execution_count": 7,
   "metadata": {},
   "outputs": [
    {
     "name": "stderr",
     "output_type": "stream",
     "text": [
      "/home/lucia/.anaconda3/lib/python3.7/site-packages/ipykernel_launcher.py:34: RuntimeWarning: invalid value encountered in double_scalars\n",
      "/home/lucia/.anaconda3/lib/python3.7/site-packages/ipykernel_launcher.py:14: RuntimeWarning: invalid value encountered in double_scalars\n",
      "  \n",
      "/home/lucia/.anaconda3/lib/python3.7/site-packages/ipykernel_launcher.py:24: RuntimeWarning: invalid value encountered in double_scalars\n"
     ]
    }
   ],
   "source": [
    "prom = []\n",
    "counts = []\n",
    "\n",
    "prom_m = []\n",
    "counts_m = []\n",
    "\n",
    "prom_f = []\n",
    "counts_f = []\n",
    "\n",
    "for df in info: \n",
    "\n",
    "    # todos\n",
    "    C = df['duracion_condena_anios'] + df['duracion_condena_meses']/12\n",
    "    condena_prom = C.sum()/len(C)\n",
    "    \n",
    "    prom.append(condena_prom)    \n",
    "    counts.append(len(df))\n",
    "    \n",
    "    # varones\n",
    "    mask_m = df[\"genero_descripcion\"] == 'Masculino'\n",
    "    df_m = df[mask_m]\n",
    "    \n",
    "    C = df_m['duracion_condena_anios'] + df_m['duracion_condena_meses']/12\n",
    "    condena_prom_m = C.sum()/len(C)\n",
    "    \n",
    "    prom_m.append(condena_prom_m)\n",
    "    counts_m.append(len(df_m))\n",
    "\n",
    "    # mujeres\n",
    "    mask_f = df[\"genero_descripcion\"] == 'Femenino'\n",
    "    df_f = df[mask_f]\n",
    "    \n",
    "    C = df_f['duracion_condena_anios'] + df_f['duracion_condena_meses']/12\n",
    "    condena_prom_f = C.sum()/len(C)\n",
    "    \n",
    "    prom_f.append(condena_prom_f)\n",
    "    counts_f.append(len(df_f))"
   ]
  },
  {
   "cell_type": "code",
   "execution_count": 8,
   "metadata": {},
   "outputs": [
    {
     "data": {
      "image/png": "[encoded data removed]",
      "text/plain": [
       "<Figure size 432x288 with 1 Axes>"
      ]
     },
     "metadata": {
      "needs_background": "light"
     },
     "output_type": "display_data"
    }
   ],
   "source": [
    "plt.plot(years, prom, '-o')\n",
    "plt.suptitle('Homicidios dolosos', fontsize=18)\n",
    "plt.xlabel('año de la condena', fontsize=15)\n",
    "plt.ylabel('Condena promedio en años', fontsize=15)\n",
    "plt.show()"
   ]
  },
  {
   "cell_type": "code",
   "execution_count": 9,
   "metadata": {},
   "outputs": [
    {
     "data": {
      "image/png": "[encoded data removed]",
      "text/plain": [
       "<Figure size 432x288 with 1 Axes>"
      ]
     },
     "metadata": {
      "needs_background": "light"
     },
     "output_type": "display_data"
    }
   ],
   "source": [
    "plt.plot(years[0:13], prom_m[0:13], '-o', label='Hombres')\n",
    "plt.plot(years[0:13], prom_f[0:13], '-o', label='Mujeres')\n",
    "plt.suptitle('Homicidios dolosos', fontsize=18)\n",
    "plt.xlabel('año de la condena', fontsize=15)\n",
    "plt.ylabel('Condena promedio en años', fontsize=15)\n",
    "plt.legend()\n",
    "plt.show()"
   ]
  },
  {
   "cell_type": "code",
   "execution_count": 12,
   "metadata": {},
   "outputs": [
    {
     "data": {
      "image/png": "[encoded data removed]",
      "text/plain": [
       "<Figure size 432x288 with 1 Axes>"
      ]
     },
     "metadata": {
      "needs_background": "light"
     },
     "output_type": "display_data"
    }
   ],
   "source": [
    "plt.bar(years, counts)\n",
    "plt.suptitle('Homicidios dolosos', fontsize=18)\n",
    "plt.xlabel('año de la condena', fontsize=15)\n",
    "plt.ylabel('cantidad de condenas', fontsize=15)\n",
    "plt.show()"
   ]
  },
  {
   "cell_type": "code",
   "execution_count": 13,
   "metadata": {},
   "outputs": [
    {
     "data": {
      "image/png": "[encoded data removed]",
      "text/plain": [
       "<Figure size 432x288 with 1 Axes>"
      ]
     },
     "metadata": {
      "needs_background": "light"
     },
     "output_type": "display_data"
    }
   ],
   "source": [
    "ax = plt.subplot(111)\n",
    "\n",
    "plt.suptitle('Homicidios dolosos', fontsize=18)\n",
    "\n",
    "ax.bar(years, counts, align='center', label='Hombres')\n",
    "ax.bar(years, counts_f, align='center', label='Mujeres')\n",
    "\n",
    "plt.xlabel('año de la condena', fontsize=15)\n",
    "plt.ylabel('cantidad de condenas', fontsize=15)\n",
    "\n",
    "plt.legend()\n",
    "plt.show()"
   ]
  },
  {
   "cell_type": "markdown",
   "metadata": {},
   "source": [
    "Promedio varones hasta año 2014:"
   ]
  },
  {
   "cell_type": "code",
   "execution_count": 10,
   "metadata": {
    "scrolled": true
   },
   "outputs": [
    {
     "data": {
      "text/plain": [
       "10.863088493409593"
      ]
     },
     "execution_count": 10,
     "metadata": {},
     "output_type": "execute_result"
    }
   ],
   "source": [
    "sum(prom_m[0:13])/len(prom_m[0:13])"
   ]
  },
  {
   "cell_type": "code",
   "execution_count": 14,
   "metadata": {},
   "outputs": [
    {
     "data": {
      "text/plain": [
       "[11.5,\n",
       " nan,\n",
       " 12.5,\n",
       " nan,\n",
       " 8.0,\n",
       " 9.520833333333334,\n",
       " 15.333333333333334,\n",
       " 10.25,\n",
       " 8.7,\n",
       " 11.833333333333334,\n",
       " 15.277777777777777,\n",
       " 10.642857142857142,\n",
       " 12.4]"
      ]
     },
     "execution_count": 14,
     "metadata": {},
     "output_type": "execute_result"
    }
   ],
   "source": [
    "prom_f[0:13]"
   ]
  },
  {
   "cell_type": "markdown",
   "metadata": {},
   "source": [
    "Promedio mujeres hasta año 2014:"
   ]
  },
  {
   "cell_type": "code",
   "execution_count": 15,
   "metadata": {},
   "outputs": [],
   "source": [
    "prom_f[1]=0\n",
    "prom_f[3]=0"
   ]
  },
  {
   "cell_type": "code",
   "execution_count": 16,
   "metadata": {},
   "outputs": [
    {
     "data": {
      "text/plain": [
       "11.450739538239539"
      ]
     },
     "execution_count": 16,
     "metadata": {},
     "output_type": "execute_result"
    }
   ],
   "source": [
    "sum(prom_f[0:13])/(len(prom_f[0:13])-2)"
   ]
  },
  {
   "cell_type": "code",
   "execution_count": 17,
   "metadata": {},
   "outputs": [
    {
     "data": {
      "text/plain": [
       "[2, 0, 4, 0, 2, 4, 3, 4, 5, 3, 3, 7, 5, 2, 0]"
      ]
     },
     "execution_count": 17,
     "metadata": {},
     "output_type": "execute_result"
    }
   ],
   "source": [
    "counts_f"
   ]
  },
  {
   "cell_type": "code",
   "execution_count": 18,
   "metadata": {},
   "outputs": [
    {
     "data": {
      "text/plain": [
       "[40, 84, 101, 65, 67, 87, 50, 83, 61, 94, 67, 72, 98, 70, 0]"
      ]
     },
     "execution_count": 18,
     "metadata": {},
     "output_type": "execute_result"
    }
   ],
   "source": [
    "counts_m"
   ]
  },
  {
   "cell_type": "code",
   "execution_count": 19,
   "metadata": {},
   "outputs": [
    {
     "data": {
      "text/plain": [
       "1039"
      ]
     },
     "execution_count": 19,
     "metadata": {},
     "output_type": "execute_result"
    }
   ],
   "source": [
    "sum(counts_m)"
   ]
  },
  {
   "cell_type": "code",
   "execution_count": 20,
   "metadata": {},
   "outputs": [
    {
     "data": {
      "text/plain": [
       "44"
      ]
     },
     "execution_count": 20,
     "metadata": {},
     "output_type": "execute_result"
    }
   ],
   "source": [
    "sum(counts_f)"
   ]
  },
  {
   "cell_type": "code",
   "execution_count": 21,
   "metadata": {
    "scrolled": true
   },
   "outputs": [
    {
     "data": {
      "text/plain": [
       "[10.904166666666665,\n",
       " 10.047619047619047,\n",
       " 10.893564356435641,\n",
       " 10.197435897435897,\n",
       " 10.139303482587064,\n",
       " 10.204022988505747,\n",
       " 11.741666666666667,\n",
       " 10.481927710843374,\n",
       " 11.031420765027322,\n",
       " 10.472517730496454,\n",
       " 11.499999999999998,\n",
       " 12.09375,\n",
       " 11.512755102040817,\n",
       " 11.357142857142858,\n",
       " nan]"
      ]
     },
     "execution_count": 21,
     "metadata": {},
     "output_type": "execute_result"
    }
   ],
   "source": [
    "prom_m"
   ]
  },
  {
   "cell_type": "code",
   "execution_count": 22,
   "metadata": {
    "scrolled": true
   },
   "outputs": [
    {
     "data": {
      "text/plain": [
       "[11.5,\n",
       " 0,\n",
       " 12.5,\n",
       " 0,\n",
       " 8.0,\n",
       " 9.520833333333334,\n",
       " 15.333333333333334,\n",
       " 10.25,\n",
       " 8.7,\n",
       " 11.833333333333334,\n",
       " 15.277777777777777,\n",
       " 10.642857142857142,\n",
       " 12.4,\n",
       " 11.5,\n",
       " nan]"
      ]
     },
     "execution_count": 22,
     "metadata": {},
     "output_type": "execute_result"
    }
   ],
   "source": [
    "prom_f"
   ]
  }
 ],
 "metadata": {
  "kernelspec": {
   "display_name": "Python 3",
   "language": "python",
   "name": "python3"
  },
  "language_info": {
   "codemirror_mode": {
    "name": "ipython",
    "version": 3
   },
   "file_extension": ".py",
   "mimetype": "text/x-python",
   "name": "python",
   "nbconvert_exporter": "python",
   "pygments_lexer": "ipython3",
   "version": "3.7.4"
  }
 },
 "nbformat": 4,
 "nbformat_minor": 2
}
